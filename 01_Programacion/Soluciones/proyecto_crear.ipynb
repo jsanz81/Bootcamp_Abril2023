{
 "cells": [
  {
   "cell_type": "code",
   "execution_count": 1,
   "metadata": {},
   "outputs": [],
   "source": [
    "import pandas as pd\n",
    "import numpy as np\n",
    "from  random import randrange,randint,random, choice\n",
    "from datetime import timedelta\n",
    "from datetime import datetime\n",
    "\n",
    "\n",
    "def random_date(start, end):\n",
    "    \"\"\"\n",
    "    This function will return a random datetime between two datetime \n",
    "    objects.\n",
    "    \"\"\"\n",
    "    delta = end - start\n",
    "    int_delta = (delta.days * 24 * 60 * 60) + delta.seconds\n",
    "    random_second = randrange(int_delta)\n",
    "    return start + timedelta(seconds=random_second)"
   ]
  },
  {
   "cell_type": "code",
   "execution_count": 2,
   "metadata": {},
   "outputs": [
    {
     "data": {
      "text/plain": [
       "datetime.datetime(1945, 4, 26, 11, 47, 45)"
      ]
     },
     "execution_count": 2,
     "metadata": {},
     "output_type": "execute_result"
    }
   ],
   "source": [
    "d1 = datetime.strptime('21/09/1944 10:30 AM', '%d/%m/%Y %I:%M %p')\n",
    "d2 = datetime.strptime('13/04/1954 6:00 PM', '%d/%m/%Y %I:%M %p')\n",
    "\n",
    "d3 = datetime.strptime('30/08/2021 9:30 PM', '%d/%m/%Y %I:%M %p')\n",
    "d4 = datetime.strptime('15/04/2023 12:30 PM', '%d/%m/%Y %I:%M %p')\n",
    "\n",
    "random_date(d1,d2)"
   ]
  },
  {
   "cell_type": "code",
   "execution_count": 3,
   "metadata": {},
   "outputs": [],
   "source": [
    "#### creamos un dataframe y lo generaremos 150 veces para guardarlo\n",
    "for i in range(1,151):\n",
    "    pd.DataFrame({\n",
    "        \"ID\":str(i)+str(1278),\n",
    "        \"Peso\":[random()+randint(50,115) for _ in range(1000)],\n",
    "        \"Altura\":[random()+randint(1,2) for _ in range(1000)],\n",
    "        # \"Doctor_Revision\":[\"Doctor \" + str(randint(1,4)) for _ in range(1000)],\n",
    "        # \"Fecha_primera_revision\":[random_date(d1,d2) for _ in range(1000)],\n",
    "        \"Coste\":[random()*100 for _ in range(1000)],\n",
    "        \"Beneficio\":[random()*1000 for _ in range(1000)],\n",
    "        \"Base_X\":[random()+randint(1,2) for _ in range(1000)],\n",
    "        \"Base_Y\":[random()+randint(1,2) for _ in range(1000)],\n",
    "        \"CRM\":[random()+randint(150,275) for _ in range(1000)],\n",
    "        \"ZHab_X\":[random()+randint(150,275) for _ in range(1000)],\n",
    "        \"ZHab_Y\":[random()+randint(150,275) for _ in range(1000)],\n",
    "        \"Chol\":[randint(1,2)-random() for _ in range(1000)],\n",
    "        \"Thalach\":[randint(-1,0)+random() for _ in range(1000)],\n",
    "        \"Trestbps\":[randint(100,199)+random() for _ in range(1000)],\n",
    "        \"Eccentricity\":[randint(100,199)+random() for _ in range(1000)],\n",
    "        # \"Sexo\":[choice([\"H\",\"M\",np.nan]) for _ in range(1000)],\n",
    "        # \"Educacion\":[choice([\"Infantil\",\"Primaria\",\n",
    "                            # \"Secundaria\",\"Bachillerato\",\"Formacion Profesional\",\n",
    "                            # \"Enseñanzas Universitarias\",\"Enseñanzas en régimen especial\",np.nan]) \n",
    "                            # for _ in range(1000)],\n",
    "        # \"Alergias\":[choice([\"S\",\"N\",\"N\",np.nan]) for _ in range(1000)],\n",
    "        # \"Descendencia\":[choice([\"S\",\"S\",\"N\",np.nan]) for _ in range(1000)],\n",
    "        # \"Estado_civil\":[choice([\"Solter@\",\"Casad@\",\"Viud@\",\"Separad@/Diverciad@\",np.nan]) for _ in range(1000)],\n",
    "        # \"Ciudad\":[choice([\"Madrid\",\"Madrid\",\"Madrid\",\"Madrid\",\"Madrid\",\"Barcelona\",\"Barcelona\",\"Barcelona\",\"Sevilla\",\"Málaga\",\"Badajoz\",\"Bilbao\",\"Teruel\",np.nan]) for _ in range(1000)],                    \n",
    "        # \"Fecha_ultima_revision\":[random_date(d3,d4) for _ in range(1000)],\n",
    "    }).to_csv(\"./Datos/Parte_\"+str(i)+\".csv\".format(i),sep=\";\",decimal=\",\",index=False)"
   ]
  },
  {
   "cell_type": "code",
   "execution_count": null,
   "metadata": {},
   "outputs": [],
   "source": []
  }
 ],
 "metadata": {
  "kernelspec": {
   "display_name": "Azure_ML",
   "language": "python",
   "name": "python3"
  },
  "language_info": {
   "codemirror_mode": {
    "name": "ipython",
    "version": 3
   },
   "file_extension": ".py",
   "mimetype": "text/x-python",
   "name": "python",
   "nbconvert_exporter": "python",
   "pygments_lexer": "ipython3",
   "version": "3.9.12"
  },
  "orig_nbformat": 4
 },
 "nbformat": 4,
 "nbformat_minor": 2
}
