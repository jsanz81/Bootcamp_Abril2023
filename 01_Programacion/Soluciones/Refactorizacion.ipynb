{
 "cells": [
  {
   "cell_type": "code",
   "execution_count": null,
   "metadata": {},
   "outputs": [],
   "source": [
    "## Librerias\n",
    "import pandas as pd\n",
    "import os\n",
    "import matplotlib.pyplot as plt\n",
    "import numpy as np"
   ]
  },
  {
   "cell_type": "code",
   "execution_count": null,
   "metadata": {},
   "outputs": [],
   "source": [
    "## Path\n",
    "ruta=\"./Datos\""
   ]
  },
  {
   "cell_type": "code",
   "execution_count": null,
   "metadata": {},
   "outputs": [],
   "source": [
    "df=pd.DataFrame()\n",
    "for i in range(len(os.listdir(ruta))):\n",
    "    df_aux=pd.read_csv(os.path.join(ruta,os.listdir(ruta)[i])\n",
    "                       ,sep=\";\",decimal=\",\")\n",
    "    df=pd.concat([df,df_aux])\n",
    "    df=df.reset_index(drop=True)"
   ]
  },
  {
   "cell_type": "code",
   "execution_count": null,
   "metadata": {},
   "outputs": [],
   "source": [
    "for i in df.columns:\n",
    "    if i !=\"ID\":\n",
    "        df[f\"{i}_lag_1\"]=df[i].shift(-1)\n",
    "        df[f\"TV_{i}_1\"]=(df[i]-df[f\"{i}_lag_1\"])/df[f\"{i}_lag_1\"]\n",
    "        df[f\"{i}_lag_2\"]=df[i].shift(-2)\n",
    "        df[f\"TV_{i}_2\"]=(df[i]-df[f\"{i}_lag_2\"])/df[f\"{i}_lag_2\"]"
   ]
  },
  {
   "cell_type": "code",
   "execution_count": null,
   "metadata": {},
   "outputs": [],
   "source": [
    "def Laggeo(dataframe:pd.DataFrame,column:str,n=1)->pd.DataFrame:\n",
    "    \"\"\"\"Funcion que calcula los lag \n",
    "    de cada una de las columnas\"\"\"\n",
    "    dataframe[f\"{column}_lag_{str(n)}\"]=df[column].shift(-n)\n",
    "    return dataframe"
   ]
  },
  {
   "cell_type": "code",
   "execution_count": null,
   "metadata": {},
   "outputs": [],
   "source": [
    "columnas=[x for x in df.columns if \"ID\" not in x  if not \"TV_\" in x]\n",
    "for col in columnas:\n",
    "    df[col]=df[col].fillna(df[col].mean())"
   ]
  },
  {
   "cell_type": "code",
   "execution_count": null,
   "metadata": {},
   "outputs": [],
   "source": [
    "columnas_1=[x for x in columnas  if not \"lag_\" in x]"
   ]
  },
  {
   "cell_type": "code",
   "execution_count": null,
   "metadata": {},
   "outputs": [],
   "source": [
    "for col in columnas_1:\n",
    "    df[f\"media_movil_{col}\"]=df[col].rolling(3).mean().shift(-2)"
   ]
  },
  {
   "cell_type": "code",
   "execution_count": null,
   "metadata": {},
   "outputs": [],
   "source": [
    "# for col in columnas_1:\n",
    "#     print(\"=\"*20)\n",
    "#     plt.plot(df[f\"media_movil_{col}\"])\n",
    "#     plt.plot(df[col])\n",
    "#     plt.show();"
   ]
  },
  {
   "cell_type": "code",
   "execution_count": null,
   "metadata": {},
   "outputs": [],
   "source": [
    "for colu in df.columns:\n",
    "    if colu!=\"ID\":\n",
    "        dv_Peso=df[colu].std()\n",
    "        media_Peso=df[colu].mean()\n",
    "        max_Peso=df[colu].max()\n",
    "        min_Peso=df[colu].min()\n",
    "        Coef_Variacion=dv_Peso/media_Peso\n",
    "        if (Coef_Variacion>0.3) & (Coef_Variacion<0.7):\n",
    "            df[colu]=(df[colu]-media_Peso)/dv_Peso\n",
    "        elif (Coef_Variacion>=0.7) & (Coef_Variacion<1.3):\n",
    "            df[colu]=(df[colu]-min_Peso)/(max_Peso-min_Peso)\n",
    "        elif (Coef_Variacion>=1.3):\n",
    "            df[colu]=np.log(df.loc[colu])"
   ]
  },
  {
   "cell_type": "code",
   "execution_count": 35,
   "metadata": {},
   "outputs": [],
   "source": [
    "for i in columnas_1:\n",
    "    df[f\"Tendecia_{i}_categorizada\"]=np.where(df[i]<df[i].shift(1),'Decreciente',np.nan)\n",
    "    df[f\"Tendecia_{i}_categorizada\"]=np.where(df[i]==df[i].shift(1),'constante',df[f\"Tendecia_{i}_categorizada\"])\n",
    "    df[f\"Tendecia_{i}_categorizada\"]=np.where(df[i]>df[i].shift(1),'Creciente',df[f\"Tendecia_{i}_categorizada\"])"
   ]
  }
 ],
 "metadata": {
  "kernelspec": {
   "display_name": "Azure_ML",
   "language": "python",
   "name": "python3"
  },
  "language_info": {
   "codemirror_mode": {
    "name": "ipython",
    "version": 3
   },
   "file_extension": ".py",
   "mimetype": "text/x-python",
   "name": "python",
   "nbconvert_exporter": "python",
   "pygments_lexer": "ipython3",
   "version": "3.9.12"
  },
  "orig_nbformat": 4
 },
 "nbformat": 4,
 "nbformat_minor": 2
}
