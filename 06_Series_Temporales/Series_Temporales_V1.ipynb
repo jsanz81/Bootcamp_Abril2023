{
 "cells": [
  {
   "cell_type": "markdown",
   "metadata": {},
   "source": [
    "#"
   ]
  },
  {
   "cell_type": "markdown",
   "metadata": {},
   "source": [
    "## Medias Moviles"
   ]
  },
  {
   "cell_type": "markdown",
   "metadata": {},
   "source": [
    "$$ y_t = \\mu + \\epsilon_t + \\theta_1\\epsilon_{t-1}+ \\ldots +\\theta_q\\epsilon_{t-q}$$"
   ]
  },
  {
   "cell_type": "code",
   "execution_count": 1,
   "metadata": {},
   "outputs": [],
   "source": [
    "import pandas as pd\n",
    "import numpy as np\n",
    "import matplotlib.pyplot as plt"
   ]
  },
  {
   "cell_type": "code",
   "execution_count": 4,
   "metadata": {},
   "outputs": [],
   "source": [
    "df=pd.read_csv(\"./Datos/Index2018.csv\")\n",
    "df[\"date\"]=pd.to_datetime(df[\"date\"],format=\"%d/%m/%Y\")\n",
    "df.set_index(\"date\",inplace=True)\n",
    "df=df.asfreq('b')\n",
    "df=df.fillna(method='ffill')"
   ]
  },
  {
   "cell_type": "code",
   "execution_count": 5,
   "metadata": {},
   "outputs": [
    {
     "data": {
      "text/html": [
       "<div>\n",
       "<style scoped>\n",
       "    .dataframe tbody tr th:only-of-type {\n",
       "        vertical-align: middle;\n",
       "    }\n",
       "\n",
       "    .dataframe tbody tr th {\n",
       "        vertical-align: top;\n",
       "    }\n",
       "\n",
       "    .dataframe thead th {\n",
       "        text-align: right;\n",
       "    }\n",
       "</style>\n",
       "<table border=\"1\" class=\"dataframe\">\n",
       "  <thead>\n",
       "    <tr style=\"text-align: right;\">\n",
       "      <th></th>\n",
       "      <th>spx</th>\n",
       "      <th>dax</th>\n",
       "      <th>ftse</th>\n",
       "      <th>nikkei</th>\n",
       "    </tr>\n",
       "    <tr>\n",
       "      <th>date</th>\n",
       "      <th></th>\n",
       "      <th></th>\n",
       "      <th></th>\n",
       "      <th></th>\n",
       "    </tr>\n",
       "  </thead>\n",
       "  <tbody>\n",
       "    <tr>\n",
       "      <th>1994-01-07</th>\n",
       "      <td>469.90</td>\n",
       "      <td>2224.95</td>\n",
       "      <td>3445.98</td>\n",
       "      <td>18124.01</td>\n",
       "    </tr>\n",
       "    <tr>\n",
       "      <th>1994-01-10</th>\n",
       "      <td>475.27</td>\n",
       "      <td>2225.00</td>\n",
       "      <td>3440.58</td>\n",
       "      <td>18443.44</td>\n",
       "    </tr>\n",
       "    <tr>\n",
       "      <th>1994-01-11</th>\n",
       "      <td>474.13</td>\n",
       "      <td>2228.10</td>\n",
       "      <td>3413.77</td>\n",
       "      <td>18485.25</td>\n",
       "    </tr>\n",
       "    <tr>\n",
       "      <th>1994-01-12</th>\n",
       "      <td>474.17</td>\n",
       "      <td>2182.06</td>\n",
       "      <td>3372.02</td>\n",
       "      <td>18793.88</td>\n",
       "    </tr>\n",
       "    <tr>\n",
       "      <th>1994-01-13</th>\n",
       "      <td>472.47</td>\n",
       "      <td>2142.37</td>\n",
       "      <td>3360.01</td>\n",
       "      <td>18577.26</td>\n",
       "    </tr>\n",
       "  </tbody>\n",
       "</table>\n",
       "</div>"
      ],
      "text/plain": [
       "               spx      dax     ftse    nikkei\n",
       "date                                          \n",
       "1994-01-07  469.90  2224.95  3445.98  18124.01\n",
       "1994-01-10  475.27  2225.00  3440.58  18443.44\n",
       "1994-01-11  474.13  2228.10  3413.77  18485.25\n",
       "1994-01-12  474.17  2182.06  3372.02  18793.88\n",
       "1994-01-13  472.47  2142.37  3360.01  18577.26"
      ]
     },
     "execution_count": 5,
     "metadata": {},
     "output_type": "execute_result"
    }
   ],
   "source": [
    "df.head()"
   ]
  },
  {
   "cell_type": "code",
   "execution_count": 6,
   "metadata": {},
   "outputs": [],
   "source": [
    "df1=df[[\"nikkei\"]]"
   ]
  },
  {
   "cell_type": "code",
   "execution_count": 9,
   "metadata": {},
   "outputs": [],
   "source": [
    "import statsmodels.graphics.tsaplots as sgt\n",
    "import statsmodels.tsa.stattools as sts\n",
    "from statsmodels.tsa.statespace.sarimax import SARIMAX\n",
    "from scipy.stats.distributions import chi2"
   ]
  },
  {
   "cell_type": "code",
   "execution_count": 11,
   "metadata": {},
   "outputs": [
    {
     "data": {
      "image/png": "[encoded data removed]",
      "text/plain": [
       "<Figure size 432x288 with 1 Axes>"
      ]
     },
     "metadata": {
      "needs_background": "light"
     },
     "output_type": "display_data"
    }
   ],
   "source": [
    "fig, ax = plt.subplots()\n",
    "ax.plot(df1[\"nikkei\"])\n",
    "ax.set_xlabel('Tiempo')\n",
    "ax.set_ylabel('Nikkei')\n",
    "plt.show();"
   ]
  },
  {
   "cell_type": "code",
   "execution_count": 12,
   "metadata": {},
   "outputs": [],
   "source": [
    "from statsmodels.tsa.stattools import adfuller"
   ]
  },
  {
   "cell_type": "code",
   "execution_count": 15,
   "metadata": {},
   "outputs": [
    {
     "data": {
      "text/plain": [
       "(-1.332381058320325,\n",
       " 0.6142308566436258,\n",
       " 1,\n",
       " 6275,\n",
       " {'1%': -3.431392546147741,\n",
       "  '5%': -2.8620007132681926,\n",
       "  '10%': -2.567015234685164},\n",
       " 83856.80978763242)"
      ]
     },
     "execution_count": 15,
     "metadata": {},
     "output_type": "execute_result"
    }
   ],
   "source": [
    "adfuller(df1.nikkei)"
   ]
  },
  {
   "cell_type": "code",
   "execution_count": 16,
   "metadata": {},
   "outputs": [],
   "source": [
    "primera_diferencia=np.diff(df.nikkei,n=1)"
   ]
  },
  {
   "cell_type": "code",
   "execution_count": 17,
   "metadata": {},
   "outputs": [
    {
     "data": {
      "text/plain": [
       "(-83.45520517840112,\n",
       " 0.0,\n",
       " 0,\n",
       " 6275,\n",
       " {'1%': -3.431392546147741,\n",
       "  '5%': -2.8620007132681926,\n",
       "  '10%': -2.567015234685164},\n",
       " 83844.26621588689)"
      ]
     },
     "execution_count": 17,
     "metadata": {},
     "output_type": "execute_result"
    }
   ],
   "source": [
    "adfuller(primera_diferencia)"
   ]
  },
  {
   "cell_type": "code",
   "execution_count": 18,
   "metadata": {},
   "outputs": [],
   "source": [
    "from statsmodels.graphics.tsaplots import plot_acf,plot_pacf"
   ]
  },
  {
   "cell_type": "code",
   "execution_count": 20,
   "metadata": {},
   "outputs": [
    {
     "data": {
      "image/png": "[encoded data removed]",
      "text/plain": [
       "<Figure size 432x288 with 1 Axes>"
      ]
     },
     "metadata": {
      "needs_background": "light"
     },
     "output_type": "display_data"
    }
   ],
   "source": [
    "plot_acf(primera_diferencia,lags=30);"
   ]
  },
  {
   "cell_type": "code",
   "execution_count": 21,
   "metadata": {},
   "outputs": [
    {
     "data": {
      "image/png": "[encoded data removed]",
      "text/plain": [
       "<Figure size 432x288 with 1 Axes>"
      ]
     },
     "metadata": {
      "needs_background": "light"
     },
     "output_type": "display_data"
    }
   ],
   "source": [
    "plot_acf(primera_diferencia,lags=4);"
   ]
  },
  {
   "cell_type": "markdown",
   "metadata": {},
   "source": [
    "Hemos encontrado que es un Ma de tipo con q=1"
   ]
  },
  {
   "cell_type": "code",
   "execution_count": 23,
   "metadata": {},
   "outputs": [],
   "source": [
    "df_diferencia=pd.DataFrame({'primera_diferencia':primera_diferencia})"
   ]
  },
  {
   "cell_type": "code",
   "execution_count": 29,
   "metadata": {},
   "outputs": [],
   "source": [
    "from sklearn.metrics import mean_absolute_error,mean_squared_error,mean_absolute_percentage_error"
   ]
  },
  {
   "cell_type": "markdown",
   "metadata": {},
   "source": [
    "> Estudiar el sMAPE que el simetrico de media absoluta porcentual\n"
   ]
  },
  {
   "cell_type": "code",
   "execution_count": 30,
   "metadata": {},
   "outputs": [
    {
     "data": {
      "text/plain": [
       "primera_diferencia    0\n",
       "dtype: int64"
      ]
     },
     "execution_count": 30,
     "metadata": {},
     "output_type": "execute_result"
    }
   ],
   "source": [
    "df_diferencia.isnull().sum()"
   ]
  },
  {
   "cell_type": "code",
   "execution_count": 32,
   "metadata": {},
   "outputs": [],
   "source": [
    "Train=df_diferencia[:int(0.9*len(df_diferencia))]\n",
    "Test=df_diferencia[int(0.9*len(df_diferencia)):]"
   ]
  },
  {
   "cell_type": "code",
   "execution_count": null,
   "metadata": {},
   "outputs": [],
   "source": [
    "Train"
   ]
  },
  {
   "cell_type": "code",
   "execution_count": 35,
   "metadata": {},
   "outputs": [],
   "source": [
    "Modelo=SARIMAX(Train[Train.columns[0]], order=(0,0,1))"
   ]
  },
  {
   "cell_type": "code",
   "execution_count": 39,
   "metadata": {},
   "outputs": [],
   "source": [
    "resultado=Modelo.fit()"
   ]
  },
  {
   "cell_type": "code",
   "execution_count": 40,
   "metadata": {},
   "outputs": [
    {
     "data": {
      "text/html": [
       "<table class=\"simpletable\">\n",
       "<caption>SARIMAX Results</caption>\n",
       "<tr>\n",
       "  <th>Dep. Variable:</th>   <td>primera_diferencia</td> <th>  No. Observations:  </th>    <td>5648</td>   \n",
       "</tr>\n",
       "<tr>\n",
       "  <th>Model:</th>            <td>SARIMAX(0, 0, 1)</td>  <th>  Log Likelihood     </th> <td>-37900.287</td>\n",
       "</tr>\n",
       "<tr>\n",
       "  <th>Date:</th>             <td>Fri, 13 Oct 2023</td>  <th>  AIC                </th>  <td>75804.575</td>\n",
       "</tr>\n",
       "<tr>\n",
       "  <th>Time:</th>                 <td>19:21:33</td>      <th>  BIC                </th>  <td>75817.853</td>\n",
       "</tr>\n",
       "<tr>\n",
       "  <th>Sample:</th>                   <td>0</td>         <th>  HQIC               </th>  <td>75809.200</td>\n",
       "</tr>\n",
       "<tr>\n",
       "  <th></th>                       <td> - 5648</td>      <th>                     </th>      <td> </td>    \n",
       "</tr>\n",
       "<tr>\n",
       "  <th>Covariance Type:</th>         <td>opg</td>        <th>                     </th>      <td> </td>    \n",
       "</tr>\n",
       "</table>\n",
       "<table class=\"simpletable\">\n",
       "<tr>\n",
       "     <td></td>       <th>coef</th>     <th>std err</th>      <th>z</th>      <th>P>|z|</th>  <th>[0.025</th>    <th>0.975]</th>  \n",
       "</tr>\n",
       "<tr>\n",
       "  <th>ma.L1</th>  <td>   -0.0453</td> <td>    0.010</td> <td>   -4.529</td> <td> 0.000</td> <td>   -0.065</td> <td>   -0.026</td>\n",
       "</tr>\n",
       "<tr>\n",
       "  <th>sigma2</th> <td> 3.944e+04</td> <td>  428.295</td> <td>   92.083</td> <td> 0.000</td> <td> 3.86e+04</td> <td> 4.03e+04</td>\n",
       "</tr>\n",
       "</table>\n",
       "<table class=\"simpletable\">\n",
       "<tr>\n",
       "  <th>Ljung-Box (L1) (Q):</th>     <td>0.00</td> <th>  Jarque-Bera (JB):  </th> <td>3848.60</td>\n",
       "</tr>\n",
       "<tr>\n",
       "  <th>Prob(Q):</th>                <td>0.95</td> <th>  Prob(JB):          </th>  <td>0.00</td>  \n",
       "</tr>\n",
       "<tr>\n",
       "  <th>Heteroskedasticity (H):</th> <td>0.59</td> <th>  Skew:              </th>  <td>-0.21</td> \n",
       "</tr>\n",
       "<tr>\n",
       "  <th>Prob(H) (two-sided):</th>    <td>0.00</td> <th>  Kurtosis:          </th>  <td>7.02</td>  \n",
       "</tr>\n",
       "</table><br/><br/>Warnings:<br/>[1] Covariance matrix calculated using the outer product of gradients (complex-step)."
      ],
      "text/plain": [
       "<class 'statsmodels.iolib.summary.Summary'>\n",
       "\"\"\"\n",
       "                               SARIMAX Results                                \n",
       "==============================================================================\n",
       "Dep. Variable:     primera_diferencia   No. Observations:                 5648\n",
       "Model:               SARIMAX(0, 0, 1)   Log Likelihood              -37900.287\n",
       "Date:                Fri, 13 Oct 2023   AIC                          75804.575\n",
       "Time:                        19:21:33   BIC                          75817.853\n",
       "Sample:                             0   HQIC                         75809.200\n",
       "                               - 5648                                         \n",
       "Covariance Type:                  opg                                         \n",
       "==============================================================================\n",
       "                 coef    std err          z      P>|z|      [0.025      0.975]\n",
       "------------------------------------------------------------------------------\n",
       "ma.L1         -0.0453      0.010     -4.529      0.000      -0.065      -0.026\n",
       "sigma2      3.944e+04    428.295     92.083      0.000    3.86e+04    4.03e+04\n",
       "===================================================================================\n",
       "Ljung-Box (L1) (Q):                   0.00   Jarque-Bera (JB):              3848.60\n",
       "Prob(Q):                              0.95   Prob(JB):                         0.00\n",
       "Heteroskedasticity (H):               0.59   Skew:                            -0.21\n",
       "Prob(H) (two-sided):                  0.00   Kurtosis:                         7.02\n",
       "===================================================================================\n",
       "\n",
       "Warnings:\n",
       "[1] Covariance matrix calculated using the outer product of gradients (complex-step).\n",
       "\"\"\""
      ]
     },
     "execution_count": 40,
     "metadata": {},
     "output_type": "execute_result"
    }
   ],
   "source": [
    "resultado.summary()"
   ]
  },
  {
   "cell_type": "code",
   "execution_count": 60,
   "metadata": {},
   "outputs": [],
   "source": [
    "predicciones=resultado.get_prediction(1,5)"
   ]
  },
  {
   "cell_type": "code",
   "execution_count": 61,
   "metadata": {},
   "outputs": [
    {
     "data": {
      "text/plain": [
       "1   -14.448606\n",
       "2    -2.549932\n",
       "3   -14.104351\n",
       "4     9.179101\n",
       "5   -17.552751\n",
       "Name: predicted_mean, dtype: float64"
      ]
     },
     "execution_count": 61,
     "metadata": {},
     "output_type": "execute_result"
    }
   ],
   "source": [
    "predicciones.predicted_mean"
   ]
  },
  {
   "cell_type": "code",
   "execution_count": 48,
   "metadata": {},
   "outputs": [
    {
     "data": {
      "text/html": [
       "<div>\n",
       "<style scoped>\n",
       "    .dataframe tbody tr th:only-of-type {\n",
       "        vertical-align: middle;\n",
       "    }\n",
       "\n",
       "    .dataframe tbody tr th {\n",
       "        vertical-align: top;\n",
       "    }\n",
       "\n",
       "    .dataframe thead th {\n",
       "        text-align: right;\n",
       "    }\n",
       "</style>\n",
       "<table border=\"1\" class=\"dataframe\">\n",
       "  <thead>\n",
       "    <tr style=\"text-align: right;\">\n",
       "      <th></th>\n",
       "      <th>primera_diferencia</th>\n",
       "    </tr>\n",
       "  </thead>\n",
       "  <tbody>\n",
       "    <tr>\n",
       "      <th>5648</th>\n",
       "      <td>86.99</td>\n",
       "    </tr>\n",
       "    <tr>\n",
       "      <th>5649</th>\n",
       "      <td>-390.23</td>\n",
       "    </tr>\n",
       "    <tr>\n",
       "      <th>5650</th>\n",
       "      <td>68.31</td>\n",
       "    </tr>\n",
       "    <tr>\n",
       "      <th>5651</th>\n",
       "      <td>-433.39</td>\n",
       "    </tr>\n",
       "    <tr>\n",
       "      <th>5652</th>\n",
       "      <td>1343.43</td>\n",
       "    </tr>\n",
       "    <tr>\n",
       "      <th>5653</th>\n",
       "      <td>-470.89</td>\n",
       "    </tr>\n",
       "    <tr>\n",
       "      <th>5654</th>\n",
       "      <td>-35.40</td>\n",
       "    </tr>\n",
       "    <tr>\n",
       "      <th>5655</th>\n",
       "      <td>-298.52</td>\n",
       "    </tr>\n",
       "    <tr>\n",
       "      <th>5656</th>\n",
       "      <td>60.78</td>\n",
       "    </tr>\n",
       "    <tr>\n",
       "      <th>5657</th>\n",
       "      <td>145.12</td>\n",
       "    </tr>\n",
       "  </tbody>\n",
       "</table>\n",
       "</div>"
      ],
      "text/plain": [
       "      primera_diferencia\n",
       "5648               86.99\n",
       "5649             -390.23\n",
       "5650               68.31\n",
       "5651             -433.39\n",
       "5652             1343.43\n",
       "5653             -470.89\n",
       "5654              -35.40\n",
       "5655             -298.52\n",
       "5656               60.78\n",
       "5657              145.12"
      ]
     },
     "execution_count": 48,
     "metadata": {},
     "output_type": "execute_result"
    }
   ],
   "source": [
    "Test.iloc[:10]"
   ]
  },
  {
   "cell_type": "code",
   "execution_count": 53,
   "metadata": {},
   "outputs": [
    {
     "data": {
      "text/plain": [
       "628"
      ]
     },
     "execution_count": 53,
     "metadata": {},
     "output_type": "execute_result"
    }
   ],
   "source": [
    "len(Test)"
   ]
  },
  {
   "cell_type": "code",
   "execution_count": 54,
   "metadata": {},
   "outputs": [
    {
     "data": {
      "text/plain": [
       "629"
      ]
     },
     "execution_count": 54,
     "metadata": {},
     "output_type": "execute_result"
    }
   ],
   "source": [
    "len(predicciones.predicted_mean)"
   ]
  },
  {
   "cell_type": "code",
   "execution_count": 62,
   "metadata": {},
   "outputs": [
    {
     "data": {
      "text/plain": [
       "475.0169753356243"
      ]
     },
     "execution_count": 62,
     "metadata": {},
     "output_type": "execute_result"
    }
   ],
   "source": [
    "mean_absolute_error(Test.primera_diferencia.iloc[:len(predicciones.predicted_mean)],predicciones.predicted_mean)"
   ]
  },
  {
   "cell_type": "code",
   "execution_count": 63,
   "metadata": {},
   "outputs": [
    {
     "data": {
      "text/plain": [
       "443103.8416644527"
      ]
     },
     "execution_count": 63,
     "metadata": {},
     "output_type": "execute_result"
    }
   ],
   "source": [
    "mean_squared_error(Test.primera_diferencia.iloc[:len(predicciones.predicted_mean)],predicciones.predicted_mean)"
   ]
  },
  {
   "cell_type": "code",
   "execution_count": 64,
   "metadata": {},
   "outputs": [
    {
     "data": {
      "text/plain": [
       "1.0800563258883529"
      ]
     },
     "execution_count": 64,
     "metadata": {},
     "output_type": "execute_result"
    }
   ],
   "source": [
    "mean_absolute_percentage_error(Test.primera_diferencia.iloc[:len(predicciones.predicted_mean)],predicciones.predicted_mean)"
   ]
  },
  {
   "cell_type": "markdown",
   "metadata": {},
   "source": [
    "## ARMA"
   ]
  },
  {
   "cell_type": "markdown",
   "metadata": {},
   "source": [
    "$$y_t + \\phi_1 y_{t-1} + \\phi_2 y_{t-2} + \\ldots+ \\phi_p y_{t-p}= \\mu + \\epsilon_1 +\\ldots $$"
   ]
  },
  {
   "cell_type": "code",
   "execution_count": 66,
   "metadata": {},
   "outputs": [],
   "source": [
    "df2=df[\"spx\"]"
   ]
  },
  {
   "cell_type": "code",
   "execution_count": 68,
   "metadata": {},
   "outputs": [
    {
     "data": {
      "text/plain": [
       "(1.1194986381728418,\n",
       " 0.9953796476080692,\n",
       " 10,\n",
       " 6266,\n",
       " {'1%': -3.4313940441948807,\n",
       "  '5%': -2.8620013751563964,\n",
       "  '10%': -2.567015587023998},\n",
       " 50258.209867750025)"
      ]
     },
     "execution_count": 68,
     "metadata": {},
     "output_type": "execute_result"
    }
   ],
   "source": [
    "adfuller(df2)"
   ]
  },
  {
   "cell_type": "code",
   "execution_count": 69,
   "metadata": {},
   "outputs": [],
   "source": [
    "df2_log=np.log1p(df2)"
   ]
  },
  {
   "cell_type": "code",
   "execution_count": 70,
   "metadata": {},
   "outputs": [
    {
     "data": {
      "text/plain": [
       "(-1.0801785944777602,\n",
       " 0.7229113822087082,\n",
       " 18,\n",
       " 6258,\n",
       " {'1%': -3.431395379411139,\n",
       "  '5%': -2.8620019651000943,\n",
       "  '10%': -2.567015901065109},\n",
       " -38258.89825267011)"
      ]
     },
     "execution_count": 70,
     "metadata": {},
     "output_type": "execute_result"
    }
   ],
   "source": [
    "adfuller(df2_log)"
   ]
  },
  {
   "cell_type": "code",
   "execution_count": 72,
   "metadata": {},
   "outputs": [],
   "source": [
    "df2_diff=np.diff(df2,n=1)"
   ]
  },
  {
   "cell_type": "code",
   "execution_count": 73,
   "metadata": {},
   "outputs": [
    {
     "data": {
      "text/plain": [
       "(-14.168367374279823,\n",
       " 2.0235432823634977e-26,\n",
       " 34,\n",
       " 6241,\n",
       " {'1%': -3.431398228116075,\n",
       "  '5%': -2.8620032237533897,\n",
       "  '10%': -2.5670165710764503},\n",
       " 50249.23811598101)"
      ]
     },
     "execution_count": 73,
     "metadata": {},
     "output_type": "execute_result"
    }
   ],
   "source": [
    "adfuller(df2_diff)"
   ]
  },
  {
   "cell_type": "markdown",
   "metadata": {},
   "source": [
    "* ACF -->  saber los lag de retraso del MA y \n",
    "* PACF --> saber los lag de retraso del AR"
   ]
  },
  {
   "cell_type": "code",
   "execution_count": 76,
   "metadata": {},
   "outputs": [
    {
     "data": {
      "image/png": "[encoded data removed]",
      "text/plain": [
       "<Figure size 432x288 with 1 Axes>"
      ]
     },
     "metadata": {
      "needs_background": "light"
     },
     "output_type": "display_data"
    }
   ],
   "source": [
    "plot_acf(df2_diff,lags=10);"
   ]
  },
  {
   "cell_type": "code",
   "execution_count": 77,
   "metadata": {},
   "outputs": [
    {
     "name": "stderr",
     "output_type": "stream",
     "text": [
      "c:\\Users\\Daniel Montes\\anaconda3\\lib\\site-packages\\statsmodels\\graphics\\tsaplots.py:348: FutureWarning: The default method 'yw' can produce PACF values outside of the [-1,1] interval. After 0.13, the default will change tounadjusted Yule-Walker ('ywm'). You can use this method now by setting method='ywm'.\n",
      "  warnings.warn(\n"
     ]
    },
    {
     "data": {
      "image/png": "[encoded data removed]",
      "text/plain": [
       "<Figure size 432x288 with 1 Axes>"
      ]
     },
     "metadata": {
      "needs_background": "light"
     },
     "output_type": "display_data"
    }
   ],
   "source": [
    "plot_pacf(df2_diff,lags=10);"
   ]
  },
  {
   "cell_type": "markdown",
   "metadata": {},
   "source": [
    "Se detecta que el candidato es un ARMA(1,1)"
   ]
  },
  {
   "cell_type": "code",
   "execution_count": 79,
   "metadata": {},
   "outputs": [],
   "source": [
    "Modelo_11=SARIMAX(df2_diff,order=(1,0,1))\n",
    "resultado_11=Modelo_11.fit()"
   ]
  },
  {
   "cell_type": "code",
   "execution_count": 80,
   "metadata": {},
   "outputs": [
    {
     "data": {
      "text/html": [
       "<table class=\"simpletable\">\n",
       "<caption>SARIMAX Results</caption>\n",
       "<tr>\n",
       "  <th>Dep. Variable:</th>           <td>y</td>        <th>  No. Observations:  </th>    <td>6276</td>   \n",
       "</tr>\n",
       "<tr>\n",
       "  <th>Model:</th>           <td>SARIMAX(1, 0, 1)</td> <th>  Log Likelihood     </th> <td>-25249.679</td>\n",
       "</tr>\n",
       "<tr>\n",
       "  <th>Date:</th>            <td>Fri, 13 Oct 2023</td> <th>  AIC                </th>  <td>50505.357</td>\n",
       "</tr>\n",
       "<tr>\n",
       "  <th>Time:</th>                <td>19:43:55</td>     <th>  BIC                </th>  <td>50525.591</td>\n",
       "</tr>\n",
       "<tr>\n",
       "  <th>Sample:</th>                  <td>0</td>        <th>  HQIC               </th>  <td>50512.368</td>\n",
       "</tr>\n",
       "<tr>\n",
       "  <th></th>                      <td> - 6276</td>     <th>                     </th>      <td> </td>    \n",
       "</tr>\n",
       "<tr>\n",
       "  <th>Covariance Type:</th>        <td>opg</td>       <th>                     </th>      <td> </td>    \n",
       "</tr>\n",
       "</table>\n",
       "<table class=\"simpletable\">\n",
       "<tr>\n",
       "     <td></td>       <th>coef</th>     <th>std err</th>      <th>z</th>      <th>P>|z|</th>  <th>[0.025</th>    <th>0.975]</th>  \n",
       "</tr>\n",
       "<tr>\n",
       "  <th>ar.L1</th>  <td>    0.6389</td> <td>    0.062</td> <td>   10.334</td> <td> 0.000</td> <td>    0.518</td> <td>    0.760</td>\n",
       "</tr>\n",
       "<tr>\n",
       "  <th>ma.L1</th>  <td>   -0.6951</td> <td>    0.057</td> <td>  -12.204</td> <td> 0.000</td> <td>   -0.807</td> <td>   -0.583</td>\n",
       "</tr>\n",
       "<tr>\n",
       "  <th>sigma2</th> <td>  182.8285</td> <td>    1.741</td> <td>  105.000</td> <td> 0.000</td> <td>  179.416</td> <td>  186.241</td>\n",
       "</tr>\n",
       "</table>\n",
       "<table class=\"simpletable\">\n",
       "<tr>\n",
       "  <th>Ljung-Box (L1) (Q):</th>     <td>0.12</td> <th>  Jarque-Bera (JB):  </th> <td>7041.28</td>\n",
       "</tr>\n",
       "<tr>\n",
       "  <th>Prob(Q):</th>                <td>0.73</td> <th>  Prob(JB):          </th>  <td>0.00</td>  \n",
       "</tr>\n",
       "<tr>\n",
       "  <th>Heteroskedasticity (H):</th> <td>1.43</td> <th>  Skew:              </th>  <td>-0.45</td> \n",
       "</tr>\n",
       "<tr>\n",
       "  <th>Prob(H) (two-sided):</th>    <td>0.00</td> <th>  Kurtosis:          </th>  <td>8.11</td>  \n",
       "</tr>\n",
       "</table><br/><br/>Warnings:<br/>[1] Covariance matrix calculated using the outer product of gradients (complex-step)."
      ],
      "text/plain": [
       "<class 'statsmodels.iolib.summary.Summary'>\n",
       "\"\"\"\n",
       "                               SARIMAX Results                                \n",
       "==============================================================================\n",
       "Dep. Variable:                      y   No. Observations:                 6276\n",
       "Model:               SARIMAX(1, 0, 1)   Log Likelihood              -25249.679\n",
       "Date:                Fri, 13 Oct 2023   AIC                          50505.357\n",
       "Time:                        19:43:55   BIC                          50525.591\n",
       "Sample:                             0   HQIC                         50512.368\n",
       "                               - 6276                                         \n",
       "Covariance Type:                  opg                                         \n",
       "==============================================================================\n",
       "                 coef    std err          z      P>|z|      [0.025      0.975]\n",
       "------------------------------------------------------------------------------\n",
       "ar.L1          0.6389      0.062     10.334      0.000       0.518       0.760\n",
       "ma.L1         -0.6951      0.057    -12.204      0.000      -0.807      -0.583\n",
       "sigma2       182.8285      1.741    105.000      0.000     179.416     186.241\n",
       "===================================================================================\n",
       "Ljung-Box (L1) (Q):                   0.12   Jarque-Bera (JB):              7041.28\n",
       "Prob(Q):                              0.73   Prob(JB):                         0.00\n",
       "Heteroskedasticity (H):               1.43   Skew:                            -0.45\n",
       "Prob(H) (two-sided):                  0.00   Kurtosis:                         8.11\n",
       "===================================================================================\n",
       "\n",
       "Warnings:\n",
       "[1] Covariance matrix calculated using the outer product of gradients (complex-step).\n",
       "\"\"\""
      ]
     },
     "execution_count": 80,
     "metadata": {},
     "output_type": "execute_result"
    }
   ],
   "source": [
    "resultado_11.summary()"
   ]
  },
  {
   "cell_type": "markdown",
   "metadata": {},
   "source": [
    "$$ y_t=0.6389*y_{t-1}-0.6951\\epsilon_{t-1}+\\epsilon_t + 182.8285$$"
   ]
  },
  {
   "cell_type": "code",
   "execution_count": 82,
   "metadata": {},
   "outputs": [
    {
     "data": {
      "image/png": "[encoded data removed]",
      "text/plain": [
       "<Figure size 432x288 with 4 Axes>"
      ]
     },
     "metadata": {
      "needs_background": "light"
     },
     "output_type": "display_data"
    }
   ],
   "source": [
    "resultado_11.plot_diagnostics();"
   ]
  },
  {
   "cell_type": "code",
   "execution_count": 85,
   "metadata": {},
   "outputs": [],
   "source": [
    "from statsmodels.stats.diagnostic import acorr_ljungbox"
   ]
  },
  {
   "cell_type": "code",
   "execution_count": 86,
   "metadata": {},
   "outputs": [],
   "source": [
    "residuos=resultado_11.resid"
   ]
  },
  {
   "cell_type": "code",
   "execution_count": 87,
   "metadata": {},
   "outputs": [
    {
     "data": {
      "text/plain": [
       "array([  5.37      ,  -0.85801367,   0.17346775, ...,   2.94558764,\n",
       "        34.57040778, -16.78596732])"
      ]
     },
     "execution_count": 87,
     "metadata": {},
     "output_type": "execute_result"
    }
   ],
   "source": [
    "residuos"
   ]
  },
  {
   "cell_type": "markdown",
   "metadata": {},
   "source": [
    "$$ H_0: \\text{Los residuos son independientes e incorrelados}$$\n",
    "$$ H_1: \\text{Los residuos son dependientes y correlados}"
   ]
  },
  {
   "cell_type": "code",
   "execution_count": 88,
   "metadata": {},
   "outputs": [
    {
     "data": {
      "text/html": [
       "<div>\n",
       "<style scoped>\n",
       "    .dataframe tbody tr th:only-of-type {\n",
       "        vertical-align: middle;\n",
       "    }\n",
       "\n",
       "    .dataframe tbody tr th {\n",
       "        vertical-align: top;\n",
       "    }\n",
       "\n",
       "    .dataframe thead th {\n",
       "        text-align: right;\n",
       "    }\n",
       "</style>\n",
       "<table border=\"1\" class=\"dataframe\">\n",
       "  <thead>\n",
       "    <tr style=\"text-align: right;\">\n",
       "      <th></th>\n",
       "      <th>lb_stat</th>\n",
       "      <th>lb_pvalue</th>\n",
       "    </tr>\n",
       "  </thead>\n",
       "  <tbody>\n",
       "    <tr>\n",
       "      <th>1</th>\n",
       "      <td>0.121933</td>\n",
       "      <td>0.726947</td>\n",
       "    </tr>\n",
       "    <tr>\n",
       "      <th>2</th>\n",
       "      <td>0.204947</td>\n",
       "      <td>0.902602</td>\n",
       "    </tr>\n",
       "    <tr>\n",
       "      <th>3</th>\n",
       "      <td>0.367869</td>\n",
       "      <td>0.946797</td>\n",
       "    </tr>\n",
       "    <tr>\n",
       "      <th>4</th>\n",
       "      <td>0.395484</td>\n",
       "      <td>0.982845</td>\n",
       "    </tr>\n",
       "    <tr>\n",
       "      <th>5</th>\n",
       "      <td>2.280429</td>\n",
       "      <td>0.809137</td>\n",
       "    </tr>\n",
       "    <tr>\n",
       "      <th>6</th>\n",
       "      <td>2.282678</td>\n",
       "      <td>0.891953</td>\n",
       "    </tr>\n",
       "    <tr>\n",
       "      <th>7</th>\n",
       "      <td>7.398956</td>\n",
       "      <td>0.388555</td>\n",
       "    </tr>\n",
       "    <tr>\n",
       "      <th>8</th>\n",
       "      <td>10.612016</td>\n",
       "      <td>0.224666</td>\n",
       "    </tr>\n",
       "    <tr>\n",
       "      <th>9</th>\n",
       "      <td>12.224083</td>\n",
       "      <td>0.200969</td>\n",
       "    </tr>\n",
       "    <tr>\n",
       "      <th>10</th>\n",
       "      <td>15.771769</td>\n",
       "      <td>0.106355</td>\n",
       "    </tr>\n",
       "  </tbody>\n",
       "</table>\n",
       "</div>"
      ],
      "text/plain": [
       "      lb_stat  lb_pvalue\n",
       "1    0.121933   0.726947\n",
       "2    0.204947   0.902602\n",
       "3    0.367869   0.946797\n",
       "4    0.395484   0.982845\n",
       "5    2.280429   0.809137\n",
       "6    2.282678   0.891953\n",
       "7    7.398956   0.388555\n",
       "8   10.612016   0.224666\n",
       "9   12.224083   0.200969\n",
       "10  15.771769   0.106355"
      ]
     },
     "execution_count": 88,
     "metadata": {},
     "output_type": "execute_result"
    }
   ],
   "source": [
    "acorr_ljungbox(residuos)"
   ]
  },
  {
   "cell_type": "code",
   "execution_count": 89,
   "metadata": {},
   "outputs": [],
   "source": [
    "from statsmodels.graphics.gofplots import qqplot"
   ]
  },
  {
   "cell_type": "code",
   "execution_count": 95,
   "metadata": {},
   "outputs": [
    {
     "data": {
      "image/png": "[encoded data removed]",
      "text/plain": [
       "<Figure size 432x288 with 1 Axes>"
      ]
     },
     "metadata": {
      "needs_background": "light"
     },
     "output_type": "display_data"
    }
   ],
   "source": [
    "qqplot(residuos,line=\"45\");"
   ]
  },
  {
   "cell_type": "markdown",
   "metadata": {},
   "source": [
    " ARIMA(p,d,q)\n",
    " * p para el orden parte autorregresiva\n",
    " * d para el orden parte integracion\n",
    " * q para el orden parte mediamovles"
   ]
  },
  {
   "cell_type": "code",
   "execution_count": 103,
   "metadata": {},
   "outputs": [
    {
     "data": {
      "text/html": [
       "<table class=\"simpletable\">\n",
       "<caption>SARIMAX Results</caption>\n",
       "<tr>\n",
       "  <th>Dep. Variable:</th>          <td>dax</td>       <th>  No. Observations:  </th>    <td>6277</td>   \n",
       "</tr>\n",
       "<tr>\n",
       "  <th>Model:</th>           <td>SARIMAX(0, 1, 0)</td> <th>  Log Likelihood     </th> <td>-36715.311</td>\n",
       "</tr>\n",
       "<tr>\n",
       "  <th>Date:</th>            <td>Fri, 13 Oct 2023</td> <th>  AIC                </th>  <td>73432.622</td>\n",
       "</tr>\n",
       "<tr>\n",
       "  <th>Time:</th>                <td>20:27:37</td>     <th>  BIC                </th>  <td>73439.367</td>\n",
       "</tr>\n",
       "<tr>\n",
       "  <th>Sample:</th>             <td>01-07-1994</td>    <th>  HQIC               </th>  <td>73434.959</td>\n",
       "</tr>\n",
       "<tr>\n",
       "  <th></th>                   <td>- 01-29-2018</td>   <th>                     </th>      <td> </td>    \n",
       "</tr>\n",
       "<tr>\n",
       "  <th>Covariance Type:</th>        <td>opg</td>       <th>                     </th>      <td> </td>    \n",
       "</tr>\n",
       "</table>\n",
       "<table class=\"simpletable\">\n",
       "<tr>\n",
       "     <td></td>       <th>coef</th>     <th>std err</th>      <th>z</th>      <th>P>|z|</th>  <th>[0.025</th>    <th>0.975]</th>  \n",
       "</tr>\n",
       "<tr>\n",
       "  <th>sigma2</th> <td> 7059.9284</td> <td>   71.885</td> <td>   98.212</td> <td> 0.000</td> <td> 6919.037</td> <td> 7200.820</td>\n",
       "</tr>\n",
       "</table>\n",
       "<table class=\"simpletable\">\n",
       "<tr>\n",
       "  <th>Ljung-Box (L1) (Q):</th>     <td>0.06</td> <th>  Jarque-Bera (JB):  </th> <td>4606.80</td>\n",
       "</tr>\n",
       "<tr>\n",
       "  <th>Prob(Q):</th>                <td>0.81</td> <th>  Prob(JB):          </th>  <td>0.00</td>  \n",
       "</tr>\n",
       "<tr>\n",
       "  <th>Heteroskedasticity (H):</th> <td>2.27</td> <th>  Skew:              </th>  <td>-0.24</td> \n",
       "</tr>\n",
       "<tr>\n",
       "  <th>Prob(H) (two-sided):</th>    <td>0.00</td> <th>  Kurtosis:          </th>  <td>7.17</td>  \n",
       "</tr>\n",
       "</table><br/><br/>Warnings:<br/>[1] Covariance matrix calculated using the outer product of gradients (complex-step)."
      ],
      "text/plain": [
       "<class 'statsmodels.iolib.summary.Summary'>\n",
       "\"\"\"\n",
       "                               SARIMAX Results                                \n",
       "==============================================================================\n",
       "Dep. Variable:                    dax   No. Observations:                 6277\n",
       "Model:               SARIMAX(0, 1, 0)   Log Likelihood              -36715.311\n",
       "Date:                Fri, 13 Oct 2023   AIC                          73432.622\n",
       "Time:                        20:27:37   BIC                          73439.367\n",
       "Sample:                    01-07-1994   HQIC                         73434.959\n",
       "                         - 01-29-2018                                         \n",
       "Covariance Type:                  opg                                         \n",
       "==============================================================================\n",
       "                 coef    std err          z      P>|z|      [0.025      0.975]\n",
       "------------------------------------------------------------------------------\n",
       "sigma2      7059.9284     71.885     98.212      0.000    6919.037    7200.820\n",
       "===================================================================================\n",
       "Ljung-Box (L1) (Q):                   0.06   Jarque-Bera (JB):              4606.80\n",
       "Prob(Q):                              0.81   Prob(JB):                         0.00\n",
       "Heteroskedasticity (H):               2.27   Skew:                            -0.24\n",
       "Prob(H) (two-sided):                  0.00   Kurtosis:                         7.17\n",
       "===================================================================================\n",
       "\n",
       "Warnings:\n",
       "[1] Covariance matrix calculated using the outer product of gradients (complex-step).\n",
       "\"\"\""
      ]
     },
     "execution_count": 103,
     "metadata": {},
     "output_type": "execute_result"
    }
   ],
   "source": [
    "Modelo_111=SARIMAX(df[\"dax\"],order=(0,1,0))\n",
    "resultado_111=Modelo_111.fit()\n",
    "resultado_111.summary()"
   ]
  },
  {
   "cell_type": "code",
   "execution_count": 104,
   "metadata": {},
   "outputs": [],
   "source": [
    "dfco2=pd.read_csv(\"./Datos/co2_mm_mlo.csv\")"
   ]
  },
  {
   "cell_type": "code",
   "execution_count": 105,
   "metadata": {},
   "outputs": [
    {
     "data": {
      "text/html": [
       "<div>\n",
       "<style scoped>\n",
       "    .dataframe tbody tr th:only-of-type {\n",
       "        vertical-align: middle;\n",
       "    }\n",
       "\n",
       "    .dataframe tbody tr th {\n",
       "        vertical-align: top;\n",
       "    }\n",
       "\n",
       "    .dataframe thead th {\n",
       "        text-align: right;\n",
       "    }\n",
       "</style>\n",
       "<table border=\"1\" class=\"dataframe\">\n",
       "  <thead>\n",
       "    <tr style=\"text-align: right;\">\n",
       "      <th></th>\n",
       "      <th>year</th>\n",
       "      <th>month</th>\n",
       "      <th>decimal_date</th>\n",
       "      <th>average</th>\n",
       "      <th>interpolated</th>\n",
       "    </tr>\n",
       "  </thead>\n",
       "  <tbody>\n",
       "    <tr>\n",
       "      <th>0</th>\n",
       "      <td>1958</td>\n",
       "      <td>3</td>\n",
       "      <td>1958.208</td>\n",
       "      <td>315.71</td>\n",
       "      <td>315.71</td>\n",
       "    </tr>\n",
       "    <tr>\n",
       "      <th>1</th>\n",
       "      <td>1958</td>\n",
       "      <td>4</td>\n",
       "      <td>1958.292</td>\n",
       "      <td>317.45</td>\n",
       "      <td>317.45</td>\n",
       "    </tr>\n",
       "    <tr>\n",
       "      <th>2</th>\n",
       "      <td>1958</td>\n",
       "      <td>5</td>\n",
       "      <td>1958.375</td>\n",
       "      <td>317.50</td>\n",
       "      <td>317.50</td>\n",
       "    </tr>\n",
       "    <tr>\n",
       "      <th>3</th>\n",
       "      <td>1958</td>\n",
       "      <td>6</td>\n",
       "      <td>1958.458</td>\n",
       "      <td>NaN</td>\n",
       "      <td>317.10</td>\n",
       "    </tr>\n",
       "    <tr>\n",
       "      <th>4</th>\n",
       "      <td>1958</td>\n",
       "      <td>7</td>\n",
       "      <td>1958.542</td>\n",
       "      <td>315.86</td>\n",
       "      <td>315.86</td>\n",
       "    </tr>\n",
       "  </tbody>\n",
       "</table>\n",
       "</div>"
      ],
      "text/plain": [
       "   year  month  decimal_date  average  interpolated\n",
       "0  1958      3      1958.208   315.71        315.71\n",
       "1  1958      4      1958.292   317.45        317.45\n",
       "2  1958      5      1958.375   317.50        317.50\n",
       "3  1958      6      1958.458      NaN        317.10\n",
       "4  1958      7      1958.542   315.86        315.86"
      ]
     },
     "execution_count": 105,
     "metadata": {},
     "output_type": "execute_result"
    }
   ],
   "source": [
    "dfco2.head()"
   ]
  },
  {
   "cell_type": "code",
   "execution_count": 112,
   "metadata": {},
   "outputs": [
    {
     "name": "stderr",
     "output_type": "stream",
     "text": [
      "c:\\Users\\Daniel Montes\\anaconda3\\lib\\site-packages\\statsmodels\\base\\model.py:604: ConvergenceWarning: Maximum Likelihood optimization failed to converge. Check mle_retvals\n",
      "  warnings.warn(\"Maximum Likelihood optimization failed to \"\n",
      "c:\\Users\\Daniel Montes\\anaconda3\\lib\\site-packages\\statsmodels\\tsa\\statespace\\mlemodel.py:2979: RuntimeWarning: divide by zero encountered in true_divide\n",
      "  return self.params / self.bse\n",
      "c:\\Users\\Daniel Montes\\anaconda3\\lib\\site-packages\\statsmodels\\tsa\\stattools.py:1346: RuntimeWarning: invalid value encountered in true_divide\n",
      "  test_statistic = numer_squared_sum / denom_squared_sum\n"
     ]
    },
    {
     "data": {
      "text/html": [
       "<table class=\"simpletable\">\n",
       "<caption>SARIMAX Results</caption>\n",
       "<tr>\n",
       "  <th>Dep. Variable:</th>      <td>interpolated</td>    <th>  No. Observations:  </th>  <td>729</td> \n",
       "</tr>\n",
       "<tr>\n",
       "  <th>Model:</th>           <td>SARIMAX(0, 100, 0)</td> <th>  Log Likelihood     </th> <td>  nan</td>\n",
       "</tr>\n",
       "<tr>\n",
       "  <th>Date:</th>             <td>Fri, 13 Oct 2023</td>  <th>  AIC                </th> <td>  nan</td>\n",
       "</tr>\n",
       "<tr>\n",
       "  <th>Time:</th>                 <td>20:38:44</td>      <th>  BIC                </th> <td>  nan</td>\n",
       "</tr>\n",
       "<tr>\n",
       "  <th>Sample:</th>                   <td>0</td>         <th>  HQIC               </th> <td>  nan</td>\n",
       "</tr>\n",
       "<tr>\n",
       "  <th></th>                       <td> - 729</td>       <th>                     </th>   <td> </td>  \n",
       "</tr>\n",
       "<tr>\n",
       "  <th>Covariance Type:</th>         <td>opg</td>        <th>                     </th>   <td> </td>  \n",
       "</tr>\n",
       "</table>\n",
       "<table class=\"simpletable\">\n",
       "<tr>\n",
       "     <td></td>       <th>coef</th>     <th>std err</th>      <th>z</th>      <th>P>|z|</th>  <th>[0.025</th>    <th>0.975]</th>  \n",
       "</tr>\n",
       "<tr>\n",
       "  <th>sigma2</th> <td> 2.775e+57</td> <td>       -0</td> <td>     -inf</td> <td> 0.000</td> <td> 2.77e+57</td> <td> 2.77e+57</td>\n",
       "</tr>\n",
       "</table>\n",
       "<table class=\"simpletable\">\n",
       "<tr>\n",
       "  <th>Ljung-Box (L1) (Q):</th>     <td>nan</td> <th>  Jarque-Bera (JB):  </th> <td>207.00</td>\n",
       "</tr>\n",
       "<tr>\n",
       "  <th>Prob(Q):</th>                <td>nan</td> <th>  Prob(JB):          </th>  <td>0.00</td> \n",
       "</tr>\n",
       "<tr>\n",
       "  <th>Heteroskedasticity (H):</th> <td>nan</td> <th>  Skew:              </th>  <td>0.00</td> \n",
       "</tr>\n",
       "<tr>\n",
       "  <th>Prob(H) (two-sided):</th>    <td>nan</td> <th>  Kurtosis:          </th>  <td>0.00</td> \n",
       "</tr>\n",
       "</table><br/><br/>Warnings:<br/>[1] Covariance matrix calculated using the outer product of gradients (complex-step).<br/>[2] Covariance matrix is singular or near-singular, with condition number    inf. Standard errors may be unstable."
      ],
      "text/plain": [
       "<class 'statsmodels.iolib.summary.Summary'>\n",
       "\"\"\"\n",
       "                               SARIMAX Results                                \n",
       "==============================================================================\n",
       "Dep. Variable:           interpolated   No. Observations:                  729\n",
       "Model:             SARIMAX(0, 100, 0)   Log Likelihood                     nan\n",
       "Date:                Fri, 13 Oct 2023   AIC                                nan\n",
       "Time:                        20:38:44   BIC                                nan\n",
       "Sample:                             0   HQIC                               nan\n",
       "                                - 729                                         \n",
       "Covariance Type:                  opg                                         \n",
       "==============================================================================\n",
       "                 coef    std err          z      P>|z|      [0.025      0.975]\n",
       "------------------------------------------------------------------------------\n",
       "sigma2      2.775e+57         -0       -inf      0.000    2.77e+57    2.77e+57\n",
       "===================================================================================\n",
       "Ljung-Box (L1) (Q):                    nan   Jarque-Bera (JB):               207.00\n",
       "Prob(Q):                               nan   Prob(JB):                         0.00\n",
       "Heteroskedasticity (H):                nan   Skew:                             0.00\n",
       "Prob(H) (two-sided):                   nan   Kurtosis:                         0.00\n",
       "===================================================================================\n",
       "\n",
       "Warnings:\n",
       "[1] Covariance matrix calculated using the outer product of gradients (complex-step).\n",
       "[2] Covariance matrix is singular or near-singular, with condition number    inf. Standard errors may be unstable.\n",
       "\"\"\""
      ]
     },
     "execution_count": 112,
     "metadata": {},
     "output_type": "execute_result"
    }
   ],
   "source": [
    "Modelo_213=SARIMAX(dfco2[\"interpolated\"],order=(0,100,0))\n",
    "resultado_333=Modelo_213.fit(disp=False)\n",
    "resultado_333.summary()"
   ]
  },
  {
   "cell_type": "markdown",
   "metadata": {},
   "source": [
    "## Sarima \n",
    "Estancionalidad"
   ]
  },
  {
   "cell_type": "markdown",
   "metadata": {},
   "source": [
    "$Sarima(p,d,q)(P,D,Q)_m$\n",
    "\n",
    "$Sarima(1,1,1)(0,0,0) \\to Arima(1,1,1)$"
   ]
  },
  {
   "cell_type": "code",
   "execution_count": 113,
   "metadata": {},
   "outputs": [],
   "source": [
    "from statsmodels.tsa.seasonal import STL"
   ]
  },
  {
   "cell_type": "code",
   "execution_count": 115,
   "metadata": {},
   "outputs": [],
   "source": [
    "descomposicion=STL(dfco2[\"interpolated\"],period=12).fit()"
   ]
  },
  {
   "cell_type": "code",
   "execution_count": 116,
   "metadata": {},
   "outputs": [
    {
     "data": {
      "text/plain": [
       "<statsmodels.tsa.seasonal.DecomposeResult at 0x1a5fe4b2d60>"
      ]
     },
     "execution_count": 116,
     "metadata": {},
     "output_type": "execute_result"
    }
   ],
   "source": [
    "descomposicion"
   ]
  },
  {
   "cell_type": "code",
   "execution_count": 117,
   "metadata": {},
   "outputs": [
    {
     "data": {
      "text/plain": [
       "0      315.71\n",
       "1      317.45\n",
       "2      317.50\n",
       "3      317.10\n",
       "4      315.86\n",
       "        ...  \n",
       "724    408.71\n",
       "725    406.99\n",
       "726    405.51\n",
       "727    406.00\n",
       "728    408.02\n",
       "Name: interpolated, Length: 729, dtype: float64"
      ]
     },
     "execution_count": 117,
     "metadata": {},
     "output_type": "execute_result"
    }
   ],
   "source": [
    "descomposicion.observed"
   ]
  },
  {
   "cell_type": "code",
   "execution_count": 118,
   "metadata": {},
   "outputs": [
    {
     "data": {
      "text/plain": [
       "0      315.082105\n",
       "1      315.136268\n",
       "2      315.190119\n",
       "3      315.243605\n",
       "4      315.296728\n",
       "          ...    \n",
       "724    408.594251\n",
       "725    408.773279\n",
       "726    408.953715\n",
       "727    409.135722\n",
       "728    409.319385\n",
       "Name: trend, Length: 729, dtype: float64"
      ]
     },
     "execution_count": 118,
     "metadata": {},
     "output_type": "execute_result"
    }
   ],
   "source": [
    "descomposicion.trend"
   ]
  },
  {
   "cell_type": "code",
   "execution_count": 119,
   "metadata": {},
   "outputs": [
    {
     "data": {
      "text/plain": [
       "0      0.705799\n",
       "1      2.168677\n",
       "2      2.407538\n",
       "3      2.079405\n",
       "4      0.596657\n",
       "         ...   \n",
       "724    0.191529\n",
       "725   -1.799680\n",
       "726   -3.502583\n",
       "727   -3.279958\n",
       "728   -1.545549\n",
       "Name: season, Length: 729, dtype: float64"
      ]
     },
     "execution_count": 119,
     "metadata": {},
     "output_type": "execute_result"
    }
   ],
   "source": [
    "descomposicion.seasonal"
   ]
  },
  {
   "cell_type": "code",
   "execution_count": 120,
   "metadata": {},
   "outputs": [
    {
     "data": {
      "text/plain": [
       "0     -0.077904\n",
       "1      0.145054\n",
       "2     -0.097657\n",
       "3     -0.223010\n",
       "4     -0.033385\n",
       "         ...   \n",
       "724   -0.075780\n",
       "725    0.016401\n",
       "726    0.058868\n",
       "727    0.144236\n",
       "728    0.246165\n",
       "Name: resid, Length: 729, dtype: float64"
      ]
     },
     "execution_count": 120,
     "metadata": {},
     "output_type": "execute_result"
    }
   ],
   "source": [
    "descomposicion.resid"
   ]
  },
  {
   "cell_type": "code",
   "execution_count": 122,
   "metadata": {},
   "outputs": [
    {
     "data": {
      "image/png": "[encoded data removed]",
      "text/plain": [
       "<Figure size 432x288 with 4 Axes>"
      ]
     },
     "execution_count": 122,
     "metadata": {},
     "output_type": "execute_result"
    },
    {
     "data": {
      "image/png": "[encoded data removed]",
      "text/plain": [
       "<Figure size 432x288 with 4 Axes>"
      ]
     },
     "metadata": {
      "needs_background": "light"
     },
     "output_type": "display_data"
    }
   ],
   "source": [
    "descomposicion.plot();"
   ]
  },
  {
   "cell_type": "code",
   "execution_count": 123,
   "metadata": {},
   "outputs": [
    {
     "name": "stderr",
     "output_type": "stream",
     "text": [
      "c:\\Users\\Daniel Montes\\anaconda3\\lib\\site-packages\\statsmodels\\tsa\\statespace\\sarimax.py:1009: UserWarning: Non-invertible starting seasonal moving average Using zeros as starting parameters.\n",
      "  warn('Non-invertible starting seasonal moving average'\n",
      "c:\\Users\\Daniel Montes\\anaconda3\\lib\\site-packages\\statsmodels\\base\\model.py:604: ConvergenceWarning: Maximum Likelihood optimization failed to converge. Check mle_retvals\n",
      "  warnings.warn(\"Maximum Likelihood optimization failed to \"\n"
     ]
    }
   ],
   "source": [
    "MOdelo_SARIMAX=SARIMAX(dfco2[\"interpolated\"],order=(1,1,1),seasonal_order=(2,2,2,12)).fit()"
   ]
  },
  {
   "cell_type": "code",
   "execution_count": 124,
   "metadata": {},
   "outputs": [
    {
     "data": {
      "text/html": [
       "<table class=\"simpletable\">\n",
       "<caption>SARIMAX Results</caption>\n",
       "<tr>\n",
       "  <th>Dep. Variable:</th>              <td>interpolated</td>             <th>  No. Observations:  </th>    <td>729</td>  \n",
       "</tr>\n",
       "<tr>\n",
       "  <th>Model:</th>           <td>SARIMAX(1, 1, 1)x(2, 2, [1, 2], 12)</td> <th>  Log Likelihood     </th> <td>-218.422</td>\n",
       "</tr>\n",
       "<tr>\n",
       "  <th>Date:</th>                     <td>Fri, 13 Oct 2023</td>           <th>  AIC                </th>  <td>450.844</td>\n",
       "</tr>\n",
       "<tr>\n",
       "  <th>Time:</th>                         <td>20:50:03</td>               <th>  BIC                </th>  <td>482.741</td>\n",
       "</tr>\n",
       "<tr>\n",
       "  <th>Sample:</th>                           <td>0</td>                  <th>  HQIC               </th>  <td>463.171</td>\n",
       "</tr>\n",
       "<tr>\n",
       "  <th></th>                               <td> - 729</td>                <th>                     </th>     <td> </td>   \n",
       "</tr>\n",
       "<tr>\n",
       "  <th>Covariance Type:</th>                 <td>opg</td>                 <th>                     </th>     <td> </td>   \n",
       "</tr>\n",
       "</table>\n",
       "<table class=\"simpletable\">\n",
       "<tr>\n",
       "      <td></td>        <th>coef</th>     <th>std err</th>      <th>z</th>      <th>P>|z|</th>  <th>[0.025</th>    <th>0.975]</th>  \n",
       "</tr>\n",
       "<tr>\n",
       "  <th>ar.L1</th>    <td>    0.1938</td> <td>    0.084</td> <td>    2.298</td> <td> 0.022</td> <td>    0.028</td> <td>    0.359</td>\n",
       "</tr>\n",
       "<tr>\n",
       "  <th>ma.L1</th>    <td>   -0.5792</td> <td>    0.070</td> <td>   -8.293</td> <td> 0.000</td> <td>   -0.716</td> <td>   -0.442</td>\n",
       "</tr>\n",
       "<tr>\n",
       "  <th>ar.S.L12</th> <td>    0.0309</td> <td>    0.045</td> <td>    0.683</td> <td> 0.495</td> <td>   -0.058</td> <td>    0.120</td>\n",
       "</tr>\n",
       "<tr>\n",
       "  <th>ar.S.L24</th> <td>   -0.0078</td> <td>    0.041</td> <td>   -0.190</td> <td> 0.849</td> <td>   -0.088</td> <td>    0.072</td>\n",
       "</tr>\n",
       "<tr>\n",
       "  <th>ma.S.L12</th> <td>   -1.9161</td> <td>    0.035</td> <td>  -55.014</td> <td> 0.000</td> <td>   -1.984</td> <td>   -1.848</td>\n",
       "</tr>\n",
       "<tr>\n",
       "  <th>ma.S.L24</th> <td>    0.9221</td> <td>    0.036</td> <td>   25.661</td> <td> 0.000</td> <td>    0.852</td> <td>    0.993</td>\n",
       "</tr>\n",
       "<tr>\n",
       "  <th>sigma2</th>   <td>    0.0937</td> <td>    0.005</td> <td>   19.587</td> <td> 0.000</td> <td>    0.084</td> <td>    0.103</td>\n",
       "</tr>\n",
       "</table>\n",
       "<table class=\"simpletable\">\n",
       "<tr>\n",
       "  <th>Ljung-Box (L1) (Q):</th>     <td>0.04</td> <th>  Jarque-Bera (JB):  </th> <td>4.70</td> \n",
       "</tr>\n",
       "<tr>\n",
       "  <th>Prob(Q):</th>                <td>0.84</td> <th>  Prob(JB):          </th> <td>0.10</td> \n",
       "</tr>\n",
       "<tr>\n",
       "  <th>Heteroskedasticity (H):</th> <td>1.17</td> <th>  Skew:              </th> <td>-0.01</td>\n",
       "</tr>\n",
       "<tr>\n",
       "  <th>Prob(H) (two-sided):</th>    <td>0.22</td> <th>  Kurtosis:          </th> <td>3.40</td> \n",
       "</tr>\n",
       "</table><br/><br/>Warnings:<br/>[1] Covariance matrix calculated using the outer product of gradients (complex-step)."
      ],
      "text/plain": [
       "<class 'statsmodels.iolib.summary.Summary'>\n",
       "\"\"\"\n",
       "                                        SARIMAX Results                                        \n",
       "===============================================================================================\n",
       "Dep. Variable:                            interpolated   No. Observations:                  729\n",
       "Model:             SARIMAX(1, 1, 1)x(2, 2, [1, 2], 12)   Log Likelihood                -218.422\n",
       "Date:                                 Fri, 13 Oct 2023   AIC                            450.844\n",
       "Time:                                         20:50:03   BIC                            482.741\n",
       "Sample:                                              0   HQIC                           463.171\n",
       "                                                 - 729                                         \n",
       "Covariance Type:                                   opg                                         \n",
       "==============================================================================\n",
       "                 coef    std err          z      P>|z|      [0.025      0.975]\n",
       "------------------------------------------------------------------------------\n",
       "ar.L1          0.1938      0.084      2.298      0.022       0.028       0.359\n",
       "ma.L1         -0.5792      0.070     -8.293      0.000      -0.716      -0.442\n",
       "ar.S.L12       0.0309      0.045      0.683      0.495      -0.058       0.120\n",
       "ar.S.L24      -0.0078      0.041     -0.190      0.849      -0.088       0.072\n",
       "ma.S.L12      -1.9161      0.035    -55.014      0.000      -1.984      -1.848\n",
       "ma.S.L24       0.9221      0.036     25.661      0.000       0.852       0.993\n",
       "sigma2         0.0937      0.005     19.587      0.000       0.084       0.103\n",
       "===================================================================================\n",
       "Ljung-Box (L1) (Q):                   0.04   Jarque-Bera (JB):                 4.70\n",
       "Prob(Q):                              0.84   Prob(JB):                         0.10\n",
       "Heteroskedasticity (H):               1.17   Skew:                            -0.01\n",
       "Prob(H) (two-sided):                  0.22   Kurtosis:                         3.40\n",
       "===================================================================================\n",
       "\n",
       "Warnings:\n",
       "[1] Covariance matrix calculated using the outer product of gradients (complex-step).\n",
       "\"\"\""
      ]
     },
     "execution_count": 124,
     "metadata": {},
     "output_type": "execute_result"
    }
   ],
   "source": [
    "MOdelo_SARIMAX.summary()"
   ]
  },
  {
   "cell_type": "code",
   "execution_count": 125,
   "metadata": {},
   "outputs": [
    {
     "data": {
      "text/html": [
       "<table class=\"simpletable\">\n",
       "<caption>SARIMAX Results</caption>\n",
       "<tr>\n",
       "  <th>Dep. Variable:</th>            <td>interpolated</td>          <th>  No. Observations:  </th>    <td>729</td>  \n",
       "</tr>\n",
       "<tr>\n",
       "  <th>Model:</th>           <td>SARIMAX(0, 1, 1)x(1, 0, 1, 12)</td> <th>  Log Likelihood     </th> <td>-209.446</td>\n",
       "</tr>\n",
       "<tr>\n",
       "  <th>Date:</th>                   <td>Fri, 13 Oct 2023</td>        <th>  AIC                </th>  <td>426.891</td>\n",
       "</tr>\n",
       "<tr>\n",
       "  <th>Time:</th>                       <td>20:51:49</td>            <th>  BIC                </th>  <td>445.253</td>\n",
       "</tr>\n",
       "<tr>\n",
       "  <th>Sample:</th>                         <td>0</td>               <th>  HQIC               </th>  <td>433.976</td>\n",
       "</tr>\n",
       "<tr>\n",
       "  <th></th>                             <td> - 729</td>             <th>                     </th>     <td> </td>   \n",
       "</tr>\n",
       "<tr>\n",
       "  <th>Covariance Type:</th>               <td>opg</td>              <th>                     </th>     <td> </td>   \n",
       "</tr>\n",
       "</table>\n",
       "<table class=\"simpletable\">\n",
       "<tr>\n",
       "      <td></td>        <th>coef</th>     <th>std err</th>      <th>z</th>      <th>P>|z|</th>  <th>[0.025</th>    <th>0.975]</th>  \n",
       "</tr>\n",
       "<tr>\n",
       "  <th>ma.L1</th>    <td>   -0.3715</td> <td>    0.034</td> <td>  -11.073</td> <td> 0.000</td> <td>   -0.437</td> <td>   -0.306</td>\n",
       "</tr>\n",
       "<tr>\n",
       "  <th>ar.S.L12</th> <td>    0.9997</td> <td>    0.000</td> <td> 3152.949</td> <td> 0.000</td> <td>    0.999</td> <td>    1.000</td>\n",
       "</tr>\n",
       "<tr>\n",
       "  <th>ma.S.L12</th> <td>   -0.8651</td> <td>    0.021</td> <td>  -40.396</td> <td> 0.000</td> <td>   -0.907</td> <td>   -0.823</td>\n",
       "</tr>\n",
       "<tr>\n",
       "  <th>sigma2</th>   <td>    0.0963</td> <td>    0.005</td> <td>   20.560</td> <td> 0.000</td> <td>    0.087</td> <td>    0.106</td>\n",
       "</tr>\n",
       "</table>\n",
       "<table class=\"simpletable\">\n",
       "<tr>\n",
       "  <th>Ljung-Box (L1) (Q):</th>     <td>0.13</td> <th>  Jarque-Bera (JB):  </th> <td>3.73</td> \n",
       "</tr>\n",
       "<tr>\n",
       "  <th>Prob(Q):</th>                <td>0.72</td> <th>  Prob(JB):          </th> <td>0.15</td> \n",
       "</tr>\n",
       "<tr>\n",
       "  <th>Heteroskedasticity (H):</th> <td>1.12</td> <th>  Skew:              </th> <td>-0.04</td>\n",
       "</tr>\n",
       "<tr>\n",
       "  <th>Prob(H) (two-sided):</th>    <td>0.36</td> <th>  Kurtosis:          </th> <td>3.34</td> \n",
       "</tr>\n",
       "</table><br/><br/>Warnings:<br/>[1] Covariance matrix calculated using the outer product of gradients (complex-step)."
      ],
      "text/plain": [
       "<class 'statsmodels.iolib.summary.Summary'>\n",
       "\"\"\"\n",
       "                                     SARIMAX Results                                      \n",
       "==========================================================================================\n",
       "Dep. Variable:                       interpolated   No. Observations:                  729\n",
       "Model:             SARIMAX(0, 1, 1)x(1, 0, 1, 12)   Log Likelihood                -209.446\n",
       "Date:                            Fri, 13 Oct 2023   AIC                            426.891\n",
       "Time:                                    20:51:49   BIC                            445.253\n",
       "Sample:                                         0   HQIC                           433.976\n",
       "                                            - 729                                         \n",
       "Covariance Type:                              opg                                         \n",
       "==============================================================================\n",
       "                 coef    std err          z      P>|z|      [0.025      0.975]\n",
       "------------------------------------------------------------------------------\n",
       "ma.L1         -0.3715      0.034    -11.073      0.000      -0.437      -0.306\n",
       "ar.S.L12       0.9997      0.000   3152.949      0.000       0.999       1.000\n",
       "ma.S.L12      -0.8651      0.021    -40.396      0.000      -0.907      -0.823\n",
       "sigma2         0.0963      0.005     20.560      0.000       0.087       0.106\n",
       "===================================================================================\n",
       "Ljung-Box (L1) (Q):                   0.13   Jarque-Bera (JB):                 3.73\n",
       "Prob(Q):                              0.72   Prob(JB):                         0.15\n",
       "Heteroskedasticity (H):               1.12   Skew:                            -0.04\n",
       "Prob(H) (two-sided):                  0.36   Kurtosis:                         3.34\n",
       "===================================================================================\n",
       "\n",
       "Warnings:\n",
       "[1] Covariance matrix calculated using the outer product of gradients (complex-step).\n",
       "\"\"\""
      ]
     },
     "execution_count": 125,
     "metadata": {},
     "output_type": "execute_result"
    }
   ],
   "source": [
    "MOdelo_SARIMAX1=SARIMAX(dfco2[\"interpolated\"],order=(0,1,1),seasonal_order=(1,0,1,12)).fit()\n",
    "MOdelo_SARIMAX1.summary()"
   ]
  },
  {
   "cell_type": "code",
   "execution_count": 126,
   "metadata": {},
   "outputs": [],
   "source": [
    "Train=dfco2[\"interpolated\"].iloc[:718]\n",
    "Test=dfco2[\"interpolated\"].iloc[718:]"
   ]
  },
  {
   "cell_type": "code",
   "execution_count": 127,
   "metadata": {},
   "outputs": [
    {
     "data": {
      "text/html": [
       "<table class=\"simpletable\">\n",
       "<caption>SARIMAX Results</caption>\n",
       "<tr>\n",
       "  <th>Dep. Variable:</th>            <td>interpolated</td>          <th>  No. Observations:  </th>    <td>718</td>  \n",
       "</tr>\n",
       "<tr>\n",
       "  <th>Model:</th>           <td>SARIMAX(0, 1, 1)x(1, 0, 1, 12)</td> <th>  Log Likelihood     </th> <td>-205.162</td>\n",
       "</tr>\n",
       "<tr>\n",
       "  <th>Date:</th>                   <td>Fri, 13 Oct 2023</td>        <th>  AIC                </th>  <td>418.324</td>\n",
       "</tr>\n",
       "<tr>\n",
       "  <th>Time:</th>                       <td>20:54:13</td>            <th>  BIC                </th>  <td>436.624</td>\n",
       "</tr>\n",
       "<tr>\n",
       "  <th>Sample:</th>                         <td>0</td>               <th>  HQIC               </th>  <td>425.390</td>\n",
       "</tr>\n",
       "<tr>\n",
       "  <th></th>                             <td> - 718</td>             <th>                     </th>     <td> </td>   \n",
       "</tr>\n",
       "<tr>\n",
       "  <th>Covariance Type:</th>               <td>opg</td>              <th>                     </th>     <td> </td>   \n",
       "</tr>\n",
       "</table>\n",
       "<table class=\"simpletable\">\n",
       "<tr>\n",
       "      <td></td>        <th>coef</th>     <th>std err</th>      <th>z</th>      <th>P>|z|</th>  <th>[0.025</th>    <th>0.975]</th>  \n",
       "</tr>\n",
       "<tr>\n",
       "  <th>ma.L1</th>    <td>   -0.3715</td> <td>    0.034</td> <td>  -11.021</td> <td> 0.000</td> <td>   -0.438</td> <td>   -0.305</td>\n",
       "</tr>\n",
       "<tr>\n",
       "  <th>ar.S.L12</th> <td>    0.9997</td> <td>    0.000</td> <td> 3221.839</td> <td> 0.000</td> <td>    0.999</td> <td>    1.000</td>\n",
       "</tr>\n",
       "<tr>\n",
       "  <th>ma.S.L12</th> <td>   -0.8646</td> <td>    0.023</td> <td>  -37.782</td> <td> 0.000</td> <td>   -0.909</td> <td>   -0.820</td>\n",
       "</tr>\n",
       "<tr>\n",
       "  <th>sigma2</th>   <td>    0.0960</td> <td>    0.005</td> <td>   20.416</td> <td> 0.000</td> <td>    0.087</td> <td>    0.105</td>\n",
       "</tr>\n",
       "</table>\n",
       "<table class=\"simpletable\">\n",
       "<tr>\n",
       "  <th>Ljung-Box (L1) (Q):</th>     <td>0.14</td> <th>  Jarque-Bera (JB):  </th> <td>3.84</td> \n",
       "</tr>\n",
       "<tr>\n",
       "  <th>Prob(Q):</th>                <td>0.71</td> <th>  Prob(JB):          </th> <td>0.15</td> \n",
       "</tr>\n",
       "<tr>\n",
       "  <th>Heteroskedasticity (H):</th> <td>1.13</td> <th>  Skew:              </th> <td>-0.03</td>\n",
       "</tr>\n",
       "<tr>\n",
       "  <th>Prob(H) (two-sided):</th>    <td>0.35</td> <th>  Kurtosis:          </th> <td>3.35</td> \n",
       "</tr>\n",
       "</table><br/><br/>Warnings:<br/>[1] Covariance matrix calculated using the outer product of gradients (complex-step)."
      ],
      "text/plain": [
       "<class 'statsmodels.iolib.summary.Summary'>\n",
       "\"\"\"\n",
       "                                     SARIMAX Results                                      \n",
       "==========================================================================================\n",
       "Dep. Variable:                       interpolated   No. Observations:                  718\n",
       "Model:             SARIMAX(0, 1, 1)x(1, 0, 1, 12)   Log Likelihood                -205.162\n",
       "Date:                            Fri, 13 Oct 2023   AIC                            418.324\n",
       "Time:                                    20:54:13   BIC                            436.624\n",
       "Sample:                                         0   HQIC                           425.390\n",
       "                                            - 718                                         \n",
       "Covariance Type:                              opg                                         \n",
       "==============================================================================\n",
       "                 coef    std err          z      P>|z|      [0.025      0.975]\n",
       "------------------------------------------------------------------------------\n",
       "ma.L1         -0.3715      0.034    -11.021      0.000      -0.438      -0.305\n",
       "ar.S.L12       0.9997      0.000   3221.839      0.000       0.999       1.000\n",
       "ma.S.L12      -0.8646      0.023    -37.782      0.000      -0.909      -0.820\n",
       "sigma2         0.0960      0.005     20.416      0.000       0.087       0.105\n",
       "===================================================================================\n",
       "Ljung-Box (L1) (Q):                   0.14   Jarque-Bera (JB):                 3.84\n",
       "Prob(Q):                              0.71   Prob(JB):                         0.15\n",
       "Heteroskedasticity (H):               1.13   Skew:                            -0.03\n",
       "Prob(H) (two-sided):                  0.35   Kurtosis:                         3.35\n",
       "===================================================================================\n",
       "\n",
       "Warnings:\n",
       "[1] Covariance matrix calculated using the outer product of gradients (complex-step).\n",
       "\"\"\""
      ]
     },
     "execution_count": 127,
     "metadata": {},
     "output_type": "execute_result"
    }
   ],
   "source": [
    "MOdelo_entrenar=SARIMAX(Train,order=(0,1,1),seasonal_order=(1,0,1,12)).fit()\n",
    "MOdelo_entrenar.summary()"
   ]
  },
  {
   "cell_type": "code",
   "execution_count": 128,
   "metadata": {},
   "outputs": [],
   "source": [
    "predicciones=MOdelo_entrenar.predict(start=len(Train),end=len(Train)+len(Test)-1)"
   ]
  },
  {
   "cell_type": "code",
   "execution_count": 129,
   "metadata": {},
   "outputs": [
    {
     "data": {
      "text/plain": [
       "718    407.928496\n",
       "719    408.673721\n",
       "720    409.579218\n",
       "721    411.138933\n",
       "722    411.742592\n",
       "723    410.961063\n",
       "724    409.269268\n",
       "725    407.168195\n",
       "726    405.717804\n",
       "727    405.989569\n",
       "728    407.524814\n",
       "Name: predicted_mean, dtype: float64"
      ]
     },
     "execution_count": 129,
     "metadata": {},
     "output_type": "execute_result"
    }
   ],
   "source": [
    "predicciones"
   ]
  },
  {
   "cell_type": "code",
   "execution_count": 131,
   "metadata": {},
   "outputs": [
    {
     "data": {
      "text/plain": [
       "718    407.96\n",
       "719    408.32\n",
       "720    409.41\n",
       "721    410.24\n",
       "722    411.24\n",
       "Name: interpolated, dtype: float64"
      ]
     },
     "execution_count": 131,
     "metadata": {},
     "output_type": "execute_result"
    }
   ],
   "source": [
    "Test.head()"
   ]
  },
  {
   "cell_type": "code",
   "execution_count": 134,
   "metadata": {},
   "outputs": [
    {
     "data": {
      "image/png": "[encoded data removed]",
      "text/plain": [
       "<Figure size 432x288 with 1 Axes>"
      ]
     },
     "metadata": {
      "needs_background": "light"
     },
     "output_type": "display_data"
    }
   ],
   "source": [
    "Test.plot(legend=True)\n",
    "predicciones.plot(legend=True)\n",
    "plt.show();"
   ]
  },
  {
   "cell_type": "code",
   "execution_count": 138,
   "metadata": {},
   "outputs": [],
   "source": [
    "Produccion=MOdelo_SARIMAX1.predict(start=len(dfco2),end=len(dfco2)+48)"
   ]
  },
  {
   "cell_type": "code",
   "execution_count": 139,
   "metadata": {},
   "outputs": [
    {
     "data": {
      "image/png": "[encoded data removed]",
      "text/plain": [
       "<Figure size 432x288 with 1 Axes>"
      ]
     },
     "metadata": {
      "needs_background": "light"
     },
     "output_type": "display_data"
    }
   ],
   "source": [
    "dfco2[\"interpolated\"].plot(legend=True)\n",
    "Produccion.plot(legend=True)\n",
    "plt.show();"
   ]
  },
  {
   "cell_type": "code",
   "execution_count": null,
   "metadata": {},
   "outputs": [],
   "source": []
  }
 ],
 "metadata": {
  "kernelspec": {
   "display_name": "base",
   "language": "python",
   "name": "python3"
  },
  "language_info": {
   "codemirror_mode": {
    "name": "ipython",
    "version": 3
   },
   "file_extension": ".py",
   "mimetype": "text/x-python",
   "name": "python",
   "nbconvert_exporter": "python",
   "pygments_lexer": "ipython3",
   "version": "3.9.12"
  }
 },
 "nbformat": 4,
 "nbformat_minor": 2
}
