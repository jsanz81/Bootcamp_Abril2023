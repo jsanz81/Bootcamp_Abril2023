{
 "cells": [
  {
   "cell_type": "code",
   "execution_count": 1,
   "id": "d5ecc635",
   "metadata": {},
   "outputs": [],
   "source": [
    "import numpy as np"
   ]
  },
  {
   "cell_type": "code",
   "execution_count": 2,
   "id": "f72d9191",
   "metadata": {},
   "outputs": [],
   "source": [
    "v=[1,2,3,4]\n",
    "v1=np.array([1,2,3,4])"
   ]
  },
  {
   "cell_type": "code",
   "execution_count": 3,
   "id": "dba71e2a",
   "metadata": {},
   "outputs": [
    {
     "ename": "AttributeError",
     "evalue": "'list' object has no attribute 'shape'",
     "output_type": "error",
     "traceback": [
      "\u001b[1;31m---------------------------------------------------------------------------\u001b[0m",
      "\u001b[1;31mAttributeError\u001b[0m                            Traceback (most recent call last)",
      "Cell \u001b[1;32mIn[3], line 1\u001b[0m\n\u001b[1;32m----> 1\u001b[0m v\u001b[39m.\u001b[39;49mshape\n",
      "\u001b[1;31mAttributeError\u001b[0m: 'list' object has no attribute 'shape'"
     ]
    }
   ],
   "source": [
    "v.shape"
   ]
  },
  {
   "cell_type": "code",
   "execution_count": 4,
   "id": "68142af5",
   "metadata": {},
   "outputs": [
    {
     "data": {
      "text/plain": [
       "(4,)"
      ]
     },
     "execution_count": 4,
     "metadata": {},
     "output_type": "execute_result"
    }
   ],
   "source": [
    "v1.shape"
   ]
  },
  {
   "cell_type": "code",
   "execution_count": 5,
   "id": "35475f81",
   "metadata": {},
   "outputs": [],
   "source": [
    "M=np.array([[1,2],[2,4]])"
   ]
  },
  {
   "cell_type": "code",
   "execution_count": 6,
   "id": "123c0de4",
   "metadata": {},
   "outputs": [
    {
     "name": "stdout",
     "output_type": "stream",
     "text": [
      "[[1 2]\n",
      " [2 4]]\n"
     ]
    }
   ],
   "source": [
    "print(M)"
   ]
  },
  {
   "cell_type": "code",
   "execution_count": 7,
   "id": "15ff2263",
   "metadata": {},
   "outputs": [
    {
     "data": {
      "text/plain": [
       "(2, 2)"
      ]
     },
     "execution_count": 7,
     "metadata": {},
     "output_type": "execute_result"
    }
   ],
   "source": [
    "np.shape(M)"
   ]
  },
  {
   "cell_type": "code",
   "execution_count": 8,
   "id": "fccfaff6",
   "metadata": {},
   "outputs": [
    {
     "data": {
      "text/plain": [
       "(2, 2)"
      ]
     },
     "execution_count": 8,
     "metadata": {},
     "output_type": "execute_result"
    }
   ],
   "source": [
    "M.shape"
   ]
  },
  {
   "attachments": {},
   "cell_type": "markdown",
   "id": "9d8ca57f",
   "metadata": {},
   "source": [
    "$\\begin{pmatrix}\n",
    "1&2&3\\\\\n",
    "4&5&6\n",
    "\\end{pmatrix}\n",
    "$"
   ]
  },
  {
   "cell_type": "code",
   "execution_count": 9,
   "id": "288a9684",
   "metadata": {},
   "outputs": [],
   "source": [
    "M1=np.array([[1,2,3],[4,5,6]])"
   ]
  },
  {
   "cell_type": "code",
   "execution_count": 10,
   "id": "b62a6171",
   "metadata": {},
   "outputs": [
    {
     "data": {
      "text/plain": [
       "(2, 3)"
      ]
     },
     "execution_count": 10,
     "metadata": {},
     "output_type": "execute_result"
    }
   ],
   "source": [
    "np.shape(M1)"
   ]
  },
  {
   "cell_type": "code",
   "execution_count": 11,
   "id": "ccda7357",
   "metadata": {},
   "outputs": [
    {
     "name": "stdout",
     "output_type": "stream",
     "text": [
      "El número de filas es 2 el número de columnas es 3\n"
     ]
    }
   ],
   "source": [
    "print(\"El número de filas es {0} el número de columnas es {1}\".format(np.shape(M1)[0],np.shape(M1)[1]))"
   ]
  },
  {
   "cell_type": "code",
   "execution_count": 12,
   "id": "890b7447",
   "metadata": {},
   "outputs": [
    {
     "data": {
      "text/plain": [
       "2"
      ]
     },
     "execution_count": 12,
     "metadata": {},
     "output_type": "execute_result"
    }
   ],
   "source": [
    "M1[0,1]"
   ]
  },
  {
   "attachments": {},
   "cell_type": "markdown",
   "id": "18fc691b",
   "metadata": {},
   "source": [
    "Práctica 1\n",
    "* filas van a ser el penultimo número de tu DNI/NIE\n",
    "\n",
    "* columas van a ser el segundo número de tu DNI/NIE\n",
    "\n",
    "* rellenaremos esa matriz con ceros"
   ]
  },
  {
   "cell_type": "code",
   "execution_count": 16,
   "id": "6a9a821c",
   "metadata": {},
   "outputs": [],
   "source": [
    "dni=\"47031962\""
   ]
  },
  {
   "cell_type": "code",
   "execution_count": 21,
   "id": "ba23022d",
   "metadata": {},
   "outputs": [
    {
     "data": {
      "text/plain": [
       "array([[0., 0., 0., ..., 0., 0., 0.],\n",
       "       [0., 0., 0., ..., 0., 0., 0.],\n",
       "       [0., 0., 0., ..., 0., 0., 0.],\n",
       "       ...,\n",
       "       [0., 0., 0., ..., 0., 0., 0.],\n",
       "       [0., 0., 0., ..., 0., 0., 0.],\n",
       "       [0., 0., 0., ..., 0., 0., 0.]])"
      ]
     },
     "execution_count": 21,
     "metadata": {},
     "output_type": "execute_result"
    }
   ],
   "source": [
    "np.empty([int(dni[:-2]),int(dni[1])])"
   ]
  },
  {
   "cell_type": "code",
   "execution_count": 22,
   "id": "48b20b21",
   "metadata": {},
   "outputs": [
    {
     "data": {
      "text/plain": [
       "array([[0., 0., 0., ..., 0., 0., 0.],\n",
       "       [0., 0., 0., ..., 0., 0., 0.],\n",
       "       [0., 0., 0., ..., 0., 0., 0.],\n",
       "       ...,\n",
       "       [0., 0., 0., ..., 0., 0., 0.],\n",
       "       [0., 0., 0., ..., 0., 0., 0.],\n",
       "       [0., 0., 0., ..., 0., 0., 0.]])"
      ]
     },
     "execution_count": 22,
     "metadata": {},
     "output_type": "execute_result"
    }
   ],
   "source": [
    "np.zeros([int(dni[:-2]),int(dni[1])])"
   ]
  },
  {
   "cell_type": "code",
   "execution_count": 23,
   "id": "f5505eb2",
   "metadata": {},
   "outputs": [
    {
     "data": {
      "text/plain": [
       "array([[1., 1., 1., ..., 1., 1., 1.],\n",
       "       [1., 1., 1., ..., 1., 1., 1.],\n",
       "       [1., 1., 1., ..., 1., 1., 1.],\n",
       "       ...,\n",
       "       [1., 1., 1., ..., 1., 1., 1.],\n",
       "       [1., 1., 1., ..., 1., 1., 1.],\n",
       "       [1., 1., 1., ..., 1., 1., 1.]])"
      ]
     },
     "execution_count": 23,
     "metadata": {},
     "output_type": "execute_result"
    }
   ],
   "source": [
    "np.ones([int(dni[:-2]),int(dni[1])])"
   ]
  },
  {
   "cell_type": "code",
   "execution_count": 24,
   "id": "e9df4efb",
   "metadata": {},
   "outputs": [
    {
     "data": {
      "text/plain": [
       "array([[1., 0., 0., 0., 0.],\n",
       "       [0., 1., 0., 0., 0.],\n",
       "       [0., 0., 1., 0., 0.],\n",
       "       [0., 0., 0., 1., 0.],\n",
       "       [0., 0., 0., 0., 1.]])"
      ]
     },
     "execution_count": 24,
     "metadata": {},
     "output_type": "execute_result"
    }
   ],
   "source": [
    "## Matriz Identidad\n",
    "### I_5\n",
    "np.eye(5)"
   ]
  },
  {
   "cell_type": "code",
   "execution_count": 25,
   "id": "1f145c67",
   "metadata": {},
   "outputs": [],
   "source": [
    "# A*I=A=I*A"
   ]
  },
  {
   "cell_type": "code",
   "execution_count": 26,
   "id": "37f9b379",
   "metadata": {},
   "outputs": [],
   "source": [
    "A=np.array([[0,1,2,3,4],[5,6,7,8,9]])"
   ]
  },
  {
   "cell_type": "code",
   "execution_count": 27,
   "id": "8788b11e",
   "metadata": {},
   "outputs": [
    {
     "data": {
      "text/plain": [
       "(2, 5)"
      ]
     },
     "execution_count": 27,
     "metadata": {},
     "output_type": "execute_result"
    }
   ],
   "source": [
    "np.shape(A)"
   ]
  },
  {
   "cell_type": "code",
   "execution_count": 28,
   "id": "2c41a713",
   "metadata": {},
   "outputs": [],
   "source": [
    "B=np.array([1,2,3,4])"
   ]
  },
  {
   "cell_type": "code",
   "execution_count": null,
   "id": "846754a4",
   "metadata": {},
   "outputs": [],
   "source": [
    "### Sumar y restar"
   ]
  },
  {
   "cell_type": "code",
   "execution_count": 29,
   "id": "afeb9f78",
   "metadata": {},
   "outputs": [
    {
     "ename": "ValueError",
     "evalue": "operands could not be broadcast together with shapes (2,5) (4,) ",
     "output_type": "error",
     "traceback": [
      "\u001b[1;31m---------------------------------------------------------------------------\u001b[0m",
      "\u001b[1;31mValueError\u001b[0m                                Traceback (most recent call last)",
      "Cell \u001b[1;32mIn[29], line 1\u001b[0m\n\u001b[1;32m----> 1\u001b[0m A\u001b[39m+\u001b[39;49mB\n",
      "\u001b[1;31mValueError\u001b[0m: operands could not be broadcast together with shapes (2,5) (4,) "
     ]
    }
   ],
   "source": [
    "A+B"
   ]
  },
  {
   "cell_type": "code",
   "execution_count": 30,
   "id": "c4ebf7d4",
   "metadata": {},
   "outputs": [],
   "source": [
    "C=np.array([5,6,7,8])"
   ]
  },
  {
   "cell_type": "code",
   "execution_count": 31,
   "id": "b410f837",
   "metadata": {},
   "outputs": [
    {
     "data": {
      "text/plain": [
       "array([ 6,  8, 10, 12])"
      ]
     },
     "execution_count": 31,
     "metadata": {},
     "output_type": "execute_result"
    }
   ],
   "source": [
    "B+C"
   ]
  },
  {
   "cell_type": "code",
   "execution_count": 32,
   "id": "0a3d0f6f",
   "metadata": {},
   "outputs": [
    {
     "data": {
      "text/plain": [
       "array([ 6,  8, 10, 12])"
      ]
     },
     "execution_count": 32,
     "metadata": {},
     "output_type": "execute_result"
    }
   ],
   "source": [
    "C+B"
   ]
  },
  {
   "cell_type": "code",
   "execution_count": 33,
   "id": "b2eedd02",
   "metadata": {},
   "outputs": [
    {
     "data": {
      "text/plain": [
       "array([ True,  True,  True,  True])"
      ]
     },
     "execution_count": 33,
     "metadata": {},
     "output_type": "execute_result"
    }
   ],
   "source": [
    "C+B==B+C"
   ]
  },
  {
   "cell_type": "code",
   "execution_count": 34,
   "id": "7273e5b6",
   "metadata": {},
   "outputs": [
    {
     "data": {
      "text/plain": [
       "array([4, 4, 4, 4])"
      ]
     },
     "execution_count": 34,
     "metadata": {},
     "output_type": "execute_result"
    }
   ],
   "source": [
    "C-B"
   ]
  },
  {
   "cell_type": "code",
   "execution_count": 35,
   "id": "4f1aa4c1",
   "metadata": {},
   "outputs": [
    {
     "data": {
      "text/plain": [
       "array([-4, -4, -4, -4])"
      ]
     },
     "execution_count": 35,
     "metadata": {},
     "output_type": "execute_result"
    }
   ],
   "source": [
    "B-C"
   ]
  },
  {
   "cell_type": "code",
   "execution_count": 36,
   "id": "949bfe29",
   "metadata": {},
   "outputs": [],
   "source": [
    "D=np.array([[5,6,7,8,9],[0,1,2,3,4]])"
   ]
  },
  {
   "cell_type": "code",
   "execution_count": 37,
   "id": "9a3551a7",
   "metadata": {},
   "outputs": [
    {
     "data": {
      "text/plain": [
       "array([[ 5,  7,  9, 11, 13],\n",
       "       [ 5,  7,  9, 11, 13]])"
      ]
     },
     "execution_count": 37,
     "metadata": {},
     "output_type": "execute_result"
    }
   ],
   "source": [
    "A+D"
   ]
  },
  {
   "cell_type": "code",
   "execution_count": 38,
   "id": "c8395923",
   "metadata": {},
   "outputs": [
    {
     "data": {
      "text/plain": [
       "array([[-5, -5, -5, -5, -5],\n",
       "       [ 5,  5,  5,  5,  5]])"
      ]
     },
     "execution_count": 38,
     "metadata": {},
     "output_type": "execute_result"
    }
   ],
   "source": [
    "A-D"
   ]
  },
  {
   "cell_type": "code",
   "execution_count": 39,
   "id": "fe8ebfa3",
   "metadata": {},
   "outputs": [
    {
     "ename": "ValueError",
     "evalue": "operands could not be broadcast together with shapes (2,5) (4,) ",
     "output_type": "error",
     "traceback": [
      "\u001b[1;31m---------------------------------------------------------------------------\u001b[0m",
      "\u001b[1;31mValueError\u001b[0m                                Traceback (most recent call last)",
      "Cell \u001b[1;32mIn[39], line 1\u001b[0m\n\u001b[1;32m----> 1\u001b[0m A\u001b[39m*\u001b[39;49mC\n",
      "\u001b[1;31mValueError\u001b[0m: operands could not be broadcast together with shapes (2,5) (4,) "
     ]
    }
   ],
   "source": [
    "A*C"
   ]
  },
  {
   "cell_type": "code",
   "execution_count": 40,
   "id": "4ce97d95",
   "metadata": {},
   "outputs": [
    {
     "data": {
      "text/plain": [
       "array([ 5, 12, 21, 32])"
      ]
     },
     "execution_count": 40,
     "metadata": {},
     "output_type": "execute_result"
    }
   ],
   "source": [
    "B*C"
   ]
  },
  {
   "cell_type": "code",
   "execution_count": 41,
   "id": "498bd071",
   "metadata": {},
   "outputs": [
    {
     "data": {
      "text/plain": [
       "array([1, 2, 3, 4])"
      ]
     },
     "execution_count": 41,
     "metadata": {},
     "output_type": "execute_result"
    }
   ],
   "source": [
    "B"
   ]
  },
  {
   "cell_type": "code",
   "execution_count": 42,
   "id": "4983f10e",
   "metadata": {},
   "outputs": [
    {
     "data": {
      "text/plain": [
       "array([5, 6, 7, 8])"
      ]
     },
     "execution_count": 42,
     "metadata": {},
     "output_type": "execute_result"
    }
   ],
   "source": [
    "C"
   ]
  },
  {
   "cell_type": "code",
   "execution_count": 43,
   "id": "bfc10ab8",
   "metadata": {},
   "outputs": [
    {
     "data": {
      "text/plain": [
       "array([[ 0,  6, 14, 24, 36],\n",
       "       [ 0,  6, 14, 24, 36]])"
      ]
     },
     "execution_count": 43,
     "metadata": {},
     "output_type": "execute_result"
    }
   ],
   "source": [
    "A*D"
   ]
  },
  {
   "cell_type": "code",
   "execution_count": 44,
   "id": "6ebed255",
   "metadata": {},
   "outputs": [
    {
     "name": "stderr",
     "output_type": "stream",
     "text": [
      "C:\\Users\\j\\AppData\\Local\\Temp\\ipykernel_11064\\1827223143.py:1: RuntimeWarning: divide by zero encountered in divide\n",
      "  A/D\n"
     ]
    },
    {
     "data": {
      "text/plain": [
       "array([[0.        , 0.16666667, 0.28571429, 0.375     , 0.44444444],\n",
       "       [       inf, 6.        , 3.5       , 2.66666667, 2.25      ]])"
      ]
     },
     "execution_count": 44,
     "metadata": {},
     "output_type": "execute_result"
    }
   ],
   "source": [
    "A/D"
   ]
  },
  {
   "attachments": {},
   "cell_type": "markdown",
   "id": "86e31010",
   "metadata": {},
   "source": [
    "$A=\\begin{pmatrix}\n",
    "1 & 2 \\\\\n",
    "9 & 4 \n",
    "\\end{pmatrix}$\n",
    "\n",
    "$B=\\begin{pmatrix}\n",
    "3 & 5 \\\\\n",
    "7 & 6 \n",
    "\\end{pmatrix}$\n",
    "\n",
    "$A_{n\\times m}$\n",
    "$B_{m \\times p}$\n",
    "\n",
    "$\\begin{pmatrix}\n",
    "1 & 2 \\\\\n",
    "9 & 4 \n",
    "\\end{pmatrix} \\times \\begin{pmatrix}\n",
    "3 & 5 \\\\\n",
    "7 & 6 \n",
    "\\end{pmatrix}$"
   ]
  },
  {
   "attachments": {},
   "cell_type": "markdown",
   "id": "6ef6bc82",
   "metadata": {},
   "source": [
    "$\\begin{pmatrix}\n",
    "1 & 2 \\\\\n",
    "9 & 4 \n",
    "\\end{pmatrix} \\times \\begin{pmatrix}\n",
    "3 & 5 \\\\\n",
    "7 & 6 \n",
    "\\end{pmatrix} = \n",
    "\\begin{pmatrix}\n",
    "1\\times 3 + 2 \\times 7 & 1 \\times 5 + 2\\times 6 \\\\\n",
    " 9\\times 3 + 4 \\times 7 & 9 \\times 5 + 4\\times 6\n",
    "\\end{pmatrix}\n",
    "$"
   ]
  },
  {
   "cell_type": "code",
   "execution_count": 45,
   "id": "054e9f72",
   "metadata": {},
   "outputs": [
    {
     "ename": "ValueError",
     "evalue": "matmul: Input operand 1 has a mismatch in its core dimension 0, with gufunc signature (n?,k),(k,m?)->(n?,m?) (size 2 is different from 5)",
     "output_type": "error",
     "traceback": [
      "\u001b[1;31m---------------------------------------------------------------------------\u001b[0m",
      "\u001b[1;31mValueError\u001b[0m                                Traceback (most recent call last)",
      "Cell \u001b[1;32mIn[45], line 1\u001b[0m\n\u001b[1;32m----> 1\u001b[0m A \u001b[39m@\u001b[39;49m D\n",
      "\u001b[1;31mValueError\u001b[0m: matmul: Input operand 1 has a mismatch in its core dimension 0, with gufunc signature (n?,k),(k,m?)->(n?,m?) (size 2 is different from 5)"
     ]
    }
   ],
   "source": [
    "A @ D"
   ]
  },
  {
   "cell_type": "code",
   "execution_count": 46,
   "id": "b8770cfe",
   "metadata": {},
   "outputs": [
    {
     "data": {
      "text/plain": [
       "(2, 5)"
      ]
     },
     "execution_count": 46,
     "metadata": {},
     "output_type": "execute_result"
    }
   ],
   "source": [
    "A.shape"
   ]
  },
  {
   "cell_type": "code",
   "execution_count": 47,
   "id": "e07dbeaf",
   "metadata": {},
   "outputs": [
    {
     "data": {
      "text/plain": [
       "(2, 5)"
      ]
     },
     "execution_count": 47,
     "metadata": {},
     "output_type": "execute_result"
    }
   ],
   "source": [
    "D.shape"
   ]
  },
  {
   "cell_type": "code",
   "execution_count": 48,
   "id": "4f5433cd",
   "metadata": {},
   "outputs": [
    {
     "data": {
      "text/plain": [
       "array([[5, 6, 7, 8, 9],\n",
       "       [0, 1, 2, 3, 4]])"
      ]
     },
     "execution_count": 48,
     "metadata": {},
     "output_type": "execute_result"
    }
   ],
   "source": [
    "D"
   ]
  },
  {
   "cell_type": "code",
   "execution_count": 49,
   "id": "4adacf34",
   "metadata": {},
   "outputs": [
    {
     "data": {
      "text/plain": [
       "array([[5, 0],\n",
       "       [6, 1],\n",
       "       [7, 2],\n",
       "       [8, 3],\n",
       "       [9, 4]])"
      ]
     },
     "execution_count": 49,
     "metadata": {},
     "output_type": "execute_result"
    }
   ],
   "source": [
    "D.T"
   ]
  },
  {
   "cell_type": "code",
   "execution_count": 50,
   "id": "ea5d43e8",
   "metadata": {},
   "outputs": [
    {
     "data": {
      "text/plain": [
       "array([[ 80,  30],\n",
       "       [255,  80]])"
      ]
     },
     "execution_count": 50,
     "metadata": {},
     "output_type": "execute_result"
    }
   ],
   "source": [
    "A@D.T"
   ]
  },
  {
   "cell_type": "code",
   "execution_count": 51,
   "id": "1678b0c7",
   "metadata": {},
   "outputs": [
    {
     "data": {
      "text/plain": [
       "array([[ 0,  5, 10, 15, 20],\n",
       "       [ 5, 12, 19, 26, 33],\n",
       "       [10, 19, 28, 37, 46],\n",
       "       [15, 26, 37, 48, 59],\n",
       "       [20, 33, 46, 59, 72]])"
      ]
     },
     "execution_count": 51,
     "metadata": {},
     "output_type": "execute_result"
    }
   ],
   "source": [
    "D.T@A"
   ]
  },
  {
   "cell_type": "code",
   "execution_count": 52,
   "id": "d0365bca",
   "metadata": {},
   "outputs": [
    {
     "data": {
      "text/plain": [
       "array([[ 0,  6, 14, 24, 36],\n",
       "       [ 0,  6, 14, 24, 36]])"
      ]
     },
     "execution_count": 52,
     "metadata": {},
     "output_type": "execute_result"
    }
   ],
   "source": [
    "A*D"
   ]
  },
  {
   "cell_type": "code",
   "execution_count": 53,
   "id": "ec3b9b82",
   "metadata": {},
   "outputs": [
    {
     "name": "stderr",
     "output_type": "stream",
     "text": [
      "C:\\Users\\j\\AppData\\Local\\Temp\\ipykernel_11064\\1827223143.py:1: RuntimeWarning: divide by zero encountered in divide\n",
      "  A/D\n"
     ]
    },
    {
     "data": {
      "text/plain": [
       "array([[0.        , 0.16666667, 0.28571429, 0.375     , 0.44444444],\n",
       "       [       inf, 6.        , 3.5       , 2.66666667, 2.25      ]])"
      ]
     },
     "execution_count": 53,
     "metadata": {},
     "output_type": "execute_result"
    }
   ],
   "source": [
    "A/D"
   ]
  },
  {
   "attachments": {},
   "cell_type": "markdown",
   "id": "0db6b4ef",
   "metadata": {},
   "source": [
    "$A^{-1}$"
   ]
  },
  {
   "attachments": {},
   "cell_type": "markdown",
   "id": "6339f670",
   "metadata": {},
   "source": [
    "$y=A \\times x$\n",
    "\n",
    "$y/A=x$\n",
    "\n",
    "$ A^{-1}\\times y = x $\n"
   ]
  },
  {
   "attachments": {},
   "cell_type": "markdown",
   "id": "2690b1ef",
   "metadata": {},
   "source": [
    "$A \\times B = I = B \\times A$"
   ]
  },
  {
   "cell_type": "code",
   "execution_count": 54,
   "id": "d1d8fe87",
   "metadata": {},
   "outputs": [
    {
     "data": {
      "text/plain": [
       "array([[ -1,  -2,  -3,  -4,  -5],\n",
       "       [ -6,  -7,  -8,  -9, -10]])"
      ]
     },
     "execution_count": 54,
     "metadata": {},
     "output_type": "execute_result"
    }
   ],
   "source": [
    "np.invert(A)"
   ]
  },
  {
   "cell_type": "code",
   "execution_count": 55,
   "id": "fb1c263c",
   "metadata": {},
   "outputs": [
    {
     "data": {
      "text/plain": [
       "array([[0, 1, 2, 3, 4],\n",
       "       [5, 6, 7, 8, 9]])"
      ]
     },
     "execution_count": 55,
     "metadata": {},
     "output_type": "execute_result"
    }
   ],
   "source": [
    "A"
   ]
  },
  {
   "cell_type": "code",
   "execution_count": 56,
   "id": "c8e9ea3e",
   "metadata": {},
   "outputs": [
    {
     "ename": "LinAlgError",
     "evalue": "Last 2 dimensions of the array must be square",
     "output_type": "error",
     "traceback": [
      "\u001b[1;31m---------------------------------------------------------------------------\u001b[0m",
      "\u001b[1;31mLinAlgError\u001b[0m                               Traceback (most recent call last)",
      "Cell \u001b[1;32mIn[56], line 1\u001b[0m\n\u001b[1;32m----> 1\u001b[0m np\u001b[39m.\u001b[39;49mlinalg\u001b[39m.\u001b[39;49minv(A)\n",
      "File \u001b[1;32mc:\\Users\\j\\miniconda3\\lib\\site-packages\\numpy\\linalg\\linalg.py:556\u001b[0m, in \u001b[0;36minv\u001b[1;34m(a)\u001b[0m\n\u001b[0;32m    554\u001b[0m a, wrap \u001b[39m=\u001b[39m _makearray(a)\n\u001b[0;32m    555\u001b[0m _assert_stacked_2d(a)\n\u001b[1;32m--> 556\u001b[0m _assert_stacked_square(a)\n\u001b[0;32m    557\u001b[0m t, result_t \u001b[39m=\u001b[39m _commonType(a)\n\u001b[0;32m    559\u001b[0m signature \u001b[39m=\u001b[39m \u001b[39m'\u001b[39m\u001b[39mD->D\u001b[39m\u001b[39m'\u001b[39m \u001b[39mif\u001b[39;00m isComplexType(t) \u001b[39melse\u001b[39;00m \u001b[39m'\u001b[39m\u001b[39md->d\u001b[39m\u001b[39m'\u001b[39m\n",
      "File \u001b[1;32mc:\\Users\\j\\miniconda3\\lib\\site-packages\\numpy\\linalg\\linalg.py:213\u001b[0m, in \u001b[0;36m_assert_stacked_square\u001b[1;34m(*arrays)\u001b[0m\n\u001b[0;32m    211\u001b[0m m, n \u001b[39m=\u001b[39m a\u001b[39m.\u001b[39mshape[\u001b[39m-\u001b[39m\u001b[39m2\u001b[39m:]\n\u001b[0;32m    212\u001b[0m \u001b[39mif\u001b[39;00m m \u001b[39m!=\u001b[39m n:\n\u001b[1;32m--> 213\u001b[0m     \u001b[39mraise\u001b[39;00m LinAlgError(\u001b[39m'\u001b[39m\u001b[39mLast 2 dimensions of the array must be square\u001b[39m\u001b[39m'\u001b[39m)\n",
      "\u001b[1;31mLinAlgError\u001b[0m: Last 2 dimensions of the array must be square"
     ]
    }
   ],
   "source": [
    "np.linalg.inv(A)"
   ]
  },
  {
   "cell_type": "code",
   "execution_count": 57,
   "id": "7683bb64",
   "metadata": {},
   "outputs": [
    {
     "data": {
      "text/plain": [
       "array([[-0.064,  0.024],\n",
       "       [ 0.204, -0.064]])"
      ]
     },
     "execution_count": 57,
     "metadata": {},
     "output_type": "execute_result"
    }
   ],
   "source": [
    "np.linalg.inv(A@D.T)"
   ]
  },
  {
   "cell_type": "code",
   "execution_count": 58,
   "id": "a00339d0",
   "metadata": {},
   "outputs": [
    {
     "data": {
      "text/plain": [
       "array([[ 1.00000000e+00,  1.11022302e-16],\n",
       "       [-5.55111512e-17,  1.00000000e+00]])"
      ]
     },
     "execution_count": 58,
     "metadata": {},
     "output_type": "execute_result"
    }
   ],
   "source": [
    "np.linalg.inv(A@D.T)@(A@D.T)"
   ]
  },
  {
   "attachments": {},
   "cell_type": "markdown",
   "id": "bd598139",
   "metadata": {},
   "source": [
    "Ejemplo 2\n",
    "\n",
    "En una granja hay gallinas y cerdos\n",
    "si cuento las patas hay 120 patas\n",
    "si cuento las cabezas 50 cabezas"
   ]
  },
  {
   "attachments": {},
   "cell_type": "markdown",
   "id": "a42a92f6",
   "metadata": {},
   "source": [
    "2 G + 4 C = 120\n",
    "\n",
    "G+C=50"
   ]
  },
  {
   "attachments": {},
   "cell_type": "markdown",
   "id": "a9d577f5",
   "metadata": {},
   "source": [
    "$\\begin{pmatrix}\n",
    "2 G + 4C \\\\\n",
    "G+C\n",
    "\\end{pmatrix} = \\begin{pmatrix} 120 \\\\ 50 \\end{pmatrix}$"
   ]
  },
  {
   "attachments": {},
   "cell_type": "markdown",
   "id": "8d253e2b",
   "metadata": {},
   "source": [
    "$\\begin{pmatrix}\n",
    "2 & 4  \\\\\n",
    "1 & 1\n",
    "\\end{pmatrix} \\begin{pmatrix} G \\\\ C \\end{pmatrix} = \\begin{pmatrix} 120 \\\\ 50 \\end{pmatrix}$"
   ]
  },
  {
   "attachments": {},
   "cell_type": "markdown",
   "id": "ed0b0ee6",
   "metadata": {},
   "source": [
    "$ \\begin{pmatrix} G \\\\ C \\end{pmatrix} = \\begin{pmatrix}\n",
    "2 & 4  \\\\\n",
    "1 & 1\n",
    "\\end{pmatrix}^{-1} \\begin{pmatrix} 120 \\\\ 50 \\end{pmatrix}$"
   ]
  },
  {
   "cell_type": "code",
   "execution_count": 59,
   "id": "f47f186d",
   "metadata": {},
   "outputs": [],
   "source": [
    "A=np.array([[2,4],[1,1]])"
   ]
  },
  {
   "cell_type": "code",
   "execution_count": 60,
   "id": "72e3d2bc",
   "metadata": {},
   "outputs": [
    {
     "data": {
      "text/plain": [
       "array([[-0.5,  2. ],\n",
       "       [ 0.5, -1. ]])"
      ]
     },
     "execution_count": 60,
     "metadata": {},
     "output_type": "execute_result"
    }
   ],
   "source": [
    "np.linalg.inv(A)"
   ]
  },
  {
   "cell_type": "code",
   "execution_count": 61,
   "id": "5e14e3ef",
   "metadata": {},
   "outputs": [
    {
     "data": {
      "text/plain": [
       "array([40., 10.])"
      ]
     },
     "execution_count": 61,
     "metadata": {},
     "output_type": "execute_result"
    }
   ],
   "source": [
    "np.linalg.inv(A)@np.array([120,50])"
   ]
  },
  {
   "cell_type": "code",
   "execution_count": 62,
   "id": "a31fb31a",
   "metadata": {},
   "outputs": [
    {
     "data": {
      "text/plain": [
       "array([42.,  9.])"
      ]
     },
     "execution_count": 62,
     "metadata": {},
     "output_type": "execute_result"
    }
   ],
   "source": [
    "np.linalg.inv(A)@np.array([120,51])"
   ]
  },
  {
   "cell_type": "code",
   "execution_count": 63,
   "id": "12616a7c",
   "metadata": {},
   "outputs": [],
   "source": [
    "B=np.array([[2,4],[1,2]])"
   ]
  },
  {
   "cell_type": "code",
   "execution_count": 64,
   "id": "5f5a6b23",
   "metadata": {},
   "outputs": [
    {
     "ename": "LinAlgError",
     "evalue": "Singular matrix",
     "output_type": "error",
     "traceback": [
      "\u001b[1;31m---------------------------------------------------------------------------\u001b[0m",
      "\u001b[1;31mLinAlgError\u001b[0m                               Traceback (most recent call last)",
      "Cell \u001b[1;32mIn[64], line 1\u001b[0m\n\u001b[1;32m----> 1\u001b[0m np\u001b[39m.\u001b[39;49mlinalg\u001b[39m.\u001b[39;49minv(B)\u001b[39m@np\u001b[39m\u001b[39m.\u001b[39marray([\u001b[39m120\u001b[39m,\u001b[39m50\u001b[39m])\n",
      "File \u001b[1;32mc:\\Users\\j\\miniconda3\\lib\\site-packages\\numpy\\linalg\\linalg.py:561\u001b[0m, in \u001b[0;36minv\u001b[1;34m(a)\u001b[0m\n\u001b[0;32m    559\u001b[0m signature \u001b[39m=\u001b[39m \u001b[39m'\u001b[39m\u001b[39mD->D\u001b[39m\u001b[39m'\u001b[39m \u001b[39mif\u001b[39;00m isComplexType(t) \u001b[39melse\u001b[39;00m \u001b[39m'\u001b[39m\u001b[39md->d\u001b[39m\u001b[39m'\u001b[39m\n\u001b[0;32m    560\u001b[0m extobj \u001b[39m=\u001b[39m get_linalg_error_extobj(_raise_linalgerror_singular)\n\u001b[1;32m--> 561\u001b[0m ainv \u001b[39m=\u001b[39m _umath_linalg\u001b[39m.\u001b[39;49minv(a, signature\u001b[39m=\u001b[39;49msignature, extobj\u001b[39m=\u001b[39;49mextobj)\n\u001b[0;32m    562\u001b[0m \u001b[39mreturn\u001b[39;00m wrap(ainv\u001b[39m.\u001b[39mastype(result_t, copy\u001b[39m=\u001b[39m\u001b[39mFalse\u001b[39;00m))\n",
      "File \u001b[1;32mc:\\Users\\j\\miniconda3\\lib\\site-packages\\numpy\\linalg\\linalg.py:112\u001b[0m, in \u001b[0;36m_raise_linalgerror_singular\u001b[1;34m(err, flag)\u001b[0m\n\u001b[0;32m    111\u001b[0m \u001b[39mdef\u001b[39;00m \u001b[39m_raise_linalgerror_singular\u001b[39m(err, flag):\n\u001b[1;32m--> 112\u001b[0m     \u001b[39mraise\u001b[39;00m LinAlgError(\u001b[39m\"\u001b[39m\u001b[39mSingular matrix\u001b[39m\u001b[39m\"\u001b[39m)\n",
      "\u001b[1;31mLinAlgError\u001b[0m: Singular matrix"
     ]
    }
   ],
   "source": [
    "np.linalg.inv(B)@np.array([120,50])"
   ]
  },
  {
   "cell_type": "code",
   "execution_count": 65,
   "id": "42d1e9d9",
   "metadata": {},
   "outputs": [
    {
     "data": {
      "text/plain": [
       "array([[2, 4],\n",
       "       [1, 2]])"
      ]
     },
     "execution_count": 65,
     "metadata": {},
     "output_type": "execute_result"
    }
   ],
   "source": [
    "B"
   ]
  },
  {
   "attachments": {},
   "cell_type": "markdown",
   "id": "bce623d1",
   "metadata": {},
   "source": [
    "* SCD $\\to$ Sistema Compatible Determinado $\\to$ el sistema tiene unica solución\n",
    "* SCI $\\to$ Sistema Compatible Indeterminado $\\to$ el sistema tiene infinita soluciones\n",
    "* SI $\\to$ Sistema Incompatible  $\\to$ No tiene solución"
   ]
  },
  {
   "cell_type": "code",
   "execution_count": 66,
   "id": "97247258",
   "metadata": {},
   "outputs": [
    {
     "data": {
      "text/plain": [
       "array([40., 10.])"
      ]
     },
     "execution_count": 66,
     "metadata": {},
     "output_type": "execute_result"
    }
   ],
   "source": [
    "np.linalg.solve(A,np.array([120,50]))"
   ]
  },
  {
   "cell_type": "code",
   "execution_count": 67,
   "id": "c7703209",
   "metadata": {},
   "outputs": [
    {
     "ename": "LinAlgError",
     "evalue": "Singular matrix",
     "output_type": "error",
     "traceback": [
      "\u001b[1;31m---------------------------------------------------------------------------\u001b[0m",
      "\u001b[1;31mLinAlgError\u001b[0m                               Traceback (most recent call last)",
      "Cell \u001b[1;32mIn[67], line 1\u001b[0m\n\u001b[1;32m----> 1\u001b[0m np\u001b[39m.\u001b[39;49mlinalg\u001b[39m.\u001b[39;49msolve(B,np\u001b[39m.\u001b[39;49marray([\u001b[39m120\u001b[39;49m,\u001b[39m50\u001b[39;49m]))\n",
      "File \u001b[1;32mc:\\Users\\j\\miniconda3\\lib\\site-packages\\numpy\\linalg\\linalg.py:409\u001b[0m, in \u001b[0;36msolve\u001b[1;34m(a, b)\u001b[0m\n\u001b[0;32m    407\u001b[0m signature \u001b[39m=\u001b[39m \u001b[39m'\u001b[39m\u001b[39mDD->D\u001b[39m\u001b[39m'\u001b[39m \u001b[39mif\u001b[39;00m isComplexType(t) \u001b[39melse\u001b[39;00m \u001b[39m'\u001b[39m\u001b[39mdd->d\u001b[39m\u001b[39m'\u001b[39m\n\u001b[0;32m    408\u001b[0m extobj \u001b[39m=\u001b[39m get_linalg_error_extobj(_raise_linalgerror_singular)\n\u001b[1;32m--> 409\u001b[0m r \u001b[39m=\u001b[39m gufunc(a, b, signature\u001b[39m=\u001b[39;49msignature, extobj\u001b[39m=\u001b[39;49mextobj)\n\u001b[0;32m    411\u001b[0m \u001b[39mreturn\u001b[39;00m wrap(r\u001b[39m.\u001b[39mastype(result_t, copy\u001b[39m=\u001b[39m\u001b[39mFalse\u001b[39;00m))\n",
      "File \u001b[1;32mc:\\Users\\j\\miniconda3\\lib\\site-packages\\numpy\\linalg\\linalg.py:112\u001b[0m, in \u001b[0;36m_raise_linalgerror_singular\u001b[1;34m(err, flag)\u001b[0m\n\u001b[0;32m    111\u001b[0m \u001b[39mdef\u001b[39;00m \u001b[39m_raise_linalgerror_singular\u001b[39m(err, flag):\n\u001b[1;32m--> 112\u001b[0m     \u001b[39mraise\u001b[39;00m LinAlgError(\u001b[39m\"\u001b[39m\u001b[39mSingular matrix\u001b[39m\u001b[39m\"\u001b[39m)\n",
      "\u001b[1;31mLinAlgError\u001b[0m: Singular matrix"
     ]
    }
   ],
   "source": [
    "np.linalg.solve(B,np.array([120,50]))"
   ]
  },
  {
   "cell_type": "code",
   "execution_count": 68,
   "id": "5fd68a13",
   "metadata": {},
   "outputs": [
    {
     "data": {
      "text/plain": [
       "dtype('int32')"
      ]
     },
     "execution_count": 68,
     "metadata": {},
     "output_type": "execute_result"
    }
   ],
   "source": [
    "A.dtype"
   ]
  },
  {
   "cell_type": "code",
   "execution_count": 69,
   "id": "88565a50",
   "metadata": {},
   "outputs": [
    {
     "data": {
      "text/plain": [
       "array([[2, 4],\n",
       "       [1, 1]])"
      ]
     },
     "execution_count": 69,
     "metadata": {},
     "output_type": "execute_result"
    }
   ],
   "source": [
    "A"
   ]
  },
  {
   "cell_type": "code",
   "execution_count": 70,
   "id": "045d4de6",
   "metadata": {},
   "outputs": [
    {
     "data": {
      "text/plain": [
       "array([[4, 8],\n",
       "       [2, 2]])"
      ]
     },
     "execution_count": 70,
     "metadata": {},
     "output_type": "execute_result"
    }
   ],
   "source": [
    "2*A"
   ]
  },
  {
   "cell_type": "code",
   "execution_count": 71,
   "id": "e6ad8cf6",
   "metadata": {},
   "outputs": [
    {
     "data": {
      "text/plain": [
       "array([[1. , 2. ],\n",
       "       [0.5, 0.5]])"
      ]
     },
     "execution_count": 71,
     "metadata": {},
     "output_type": "execute_result"
    }
   ],
   "source": [
    "A/2"
   ]
  },
  {
   "cell_type": "code",
   "execution_count": 72,
   "id": "ea8e2da3",
   "metadata": {},
   "outputs": [
    {
     "data": {
      "text/plain": [
       "array([[1. , 2. ],\n",
       "       [0.5, 0.5]])"
      ]
     },
     "execution_count": 72,
     "metadata": {},
     "output_type": "execute_result"
    }
   ],
   "source": [
    "0.5*A"
   ]
  },
  {
   "attachments": {},
   "cell_type": "markdown",
   "id": "e3bf7cdb",
   "metadata": {},
   "source": [
    "## Ejercicio 4\n",
    "Resolver el sistema y que muestre por pantalla las soluciones al sistema\n",
    "\n",
    "$x-3y+2z-w=6$\n",
    "\n",
    "$2x-4y+5z+2w=13$\n",
    "\n",
    "$-x+3y-z+3w=-23$\n",
    "\n",
    "$3x+2y-z-w=6$\n",
    "\n",
    "x=?? y=?? z=?? w=??"
   ]
  },
  {
   "cell_type": "code",
   "execution_count": 75,
   "id": "a62de95c",
   "metadata": {},
   "outputs": [],
   "source": [
    "F=np.array([[1,-3,2,-1],\n",
    "           [2,-4,5,2],\n",
    "           [-1,3,-1,3],\n",
    "           [3,2,-1,-1]])"
   ]
  },
  {
   "cell_type": "code",
   "execution_count": 76,
   "id": "c87edc7e",
   "metadata": {},
   "outputs": [
    {
     "data": {
      "text/plain": [
       "array([[ 1, -3,  2, -1],\n",
       "       [ 2, -4,  5,  2],\n",
       "       [-1,  3, -1,  3],\n",
       "       [ 3,  2, -1, -1]])"
      ]
     },
     "execution_count": 76,
     "metadata": {},
     "output_type": "execute_result"
    }
   ],
   "source": [
    "F"
   ]
  },
  {
   "cell_type": "code",
   "execution_count": 77,
   "id": "cd7fa47d",
   "metadata": {},
   "outputs": [
    {
     "data": {
      "text/plain": [
       "array([-25.,  55.,  75., -46.])"
      ]
     },
     "execution_count": 77,
     "metadata": {},
     "output_type": "execute_result"
    }
   ],
   "source": [
    "np.linalg.solve(F,np.array([6,13,-23,6]))"
   ]
  }
 ],
 "metadata": {
  "kernelspec": {
   "display_name": "Python 3 (ipykernel)",
   "language": "python",
   "name": "python3"
  },
  "language_info": {
   "codemirror_mode": {
    "name": "ipython",
    "version": 3
   },
   "file_extension": ".py",
   "mimetype": "text/x-python",
   "name": "python",
   "nbconvert_exporter": "python",
   "pygments_lexer": "ipython3",
   "version": "3.10.9"
  }
 },
 "nbformat": 4,
 "nbformat_minor": 5
}
