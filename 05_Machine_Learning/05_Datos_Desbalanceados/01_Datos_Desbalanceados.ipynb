{
 "cells": [
  {
   "cell_type": "markdown",
   "metadata": {},
   "source": [
    "# Datos Desbalanceados"
   ]
  },
  {
   "cell_type": "markdown",
   "metadata": {},
   "source": [
    "correos $\\to$ 100\n",
    "* Buenos $\\to$ 99\n",
    "* Malos $\\to$ 1"
   ]
  },
  {
   "cell_type": "markdown",
   "metadata": {},
   "source": [
    "* predice 98\n",
    "* predice mal 2"
   ]
  },
  {
   "cell_type": "markdown",
   "metadata": {},
   "source": [
    "Exactitud sería de 98%"
   ]
  },
  {
   "cell_type": "markdown",
   "metadata": {},
   "source": [
    "* Recall  \n",
    "* Precisión\n",
    "* F1-Score"
   ]
  },
  {
   "cell_type": "markdown",
   "metadata": {},
   "source": [
    "* Alta precisión y alto recall: Modelo es ``maravillos`` porque esa clase la detecta bien\n",
    "* Alta precisión y bajo recall: El modelo no dectectará bien la clase pero cuando lo hace estupendamente\n",
    "* Baja precisión y alto recall: El modelo dectectará bien la clase pero incluirá muestras de la otra clase\n",
    "* Baja precisión y bajo recall: El modelo  no logra clasificar bien"
   ]
  },
  {
   "cell_type": "markdown",
   "metadata": {},
   "source": [
    "https://www.kaggle.com/datasets/mlg-ulb/creditcardfraud/"
   ]
  },
  {
   "cell_type": "code",
   "execution_count": 4,
   "metadata": {},
   "outputs": [],
   "source": [
    "import pandas as pd\n",
    "import numpy as np\n",
    "import matplotlib.pyplot as plt\n",
    "from sklearn.model_selection import train_test_split\n",
    "from sklearn.tree import DecisionTreeClassifier\n",
    "import pickle"
   ]
  },
  {
   "cell_type": "code",
   "execution_count": 5,
   "metadata": {},
   "outputs": [],
   "source": [
    "with open('./Datos/credict.pickle','rb') as f:\n",
    "    df=pickle.load(f)"
   ]
  },
  {
   "cell_type": "code",
   "execution_count": 6,
   "metadata": {},
   "outputs": [
    {
     "data": {
      "text/html": [
       "<div>\n",
       "<style scoped>\n",
       "    .dataframe tbody tr th:only-of-type {\n",
       "        vertical-align: middle;\n",
       "    }\n",
       "\n",
       "    .dataframe tbody tr th {\n",
       "        vertical-align: top;\n",
       "    }\n",
       "\n",
       "    .dataframe thead th {\n",
       "        text-align: right;\n",
       "    }\n",
       "</style>\n",
       "<table border=\"1\" class=\"dataframe\">\n",
       "  <thead>\n",
       "    <tr style=\"text-align: right;\">\n",
       "      <th></th>\n",
       "      <th>Time</th>\n",
       "      <th>V1</th>\n",
       "      <th>V2</th>\n",
       "      <th>V3</th>\n",
       "      <th>V4</th>\n",
       "      <th>V5</th>\n",
       "      <th>V6</th>\n",
       "      <th>V7</th>\n",
       "      <th>V8</th>\n",
       "      <th>V9</th>\n",
       "      <th>...</th>\n",
       "      <th>V21</th>\n",
       "      <th>V22</th>\n",
       "      <th>V23</th>\n",
       "      <th>V24</th>\n",
       "      <th>V25</th>\n",
       "      <th>V26</th>\n",
       "      <th>V27</th>\n",
       "      <th>V28</th>\n",
       "      <th>Amount</th>\n",
       "      <th>Class</th>\n",
       "    </tr>\n",
       "  </thead>\n",
       "  <tbody>\n",
       "    <tr>\n",
       "      <th>0</th>\n",
       "      <td>0.0</td>\n",
       "      <td>-1.359807</td>\n",
       "      <td>-0.072781</td>\n",
       "      <td>2.536347</td>\n",
       "      <td>1.378155</td>\n",
       "      <td>-0.338321</td>\n",
       "      <td>0.462388</td>\n",
       "      <td>0.239599</td>\n",
       "      <td>0.098698</td>\n",
       "      <td>0.363787</td>\n",
       "      <td>...</td>\n",
       "      <td>-0.018307</td>\n",
       "      <td>0.277838</td>\n",
       "      <td>-0.110474</td>\n",
       "      <td>0.066928</td>\n",
       "      <td>0.128539</td>\n",
       "      <td>-0.189115</td>\n",
       "      <td>0.133558</td>\n",
       "      <td>-0.021053</td>\n",
       "      <td>149.62</td>\n",
       "      <td>0</td>\n",
       "    </tr>\n",
       "    <tr>\n",
       "      <th>1</th>\n",
       "      <td>0.0</td>\n",
       "      <td>1.191857</td>\n",
       "      <td>0.266151</td>\n",
       "      <td>0.166480</td>\n",
       "      <td>0.448154</td>\n",
       "      <td>0.060018</td>\n",
       "      <td>-0.082361</td>\n",
       "      <td>-0.078803</td>\n",
       "      <td>0.085102</td>\n",
       "      <td>-0.255425</td>\n",
       "      <td>...</td>\n",
       "      <td>-0.225775</td>\n",
       "      <td>-0.638672</td>\n",
       "      <td>0.101288</td>\n",
       "      <td>-0.339846</td>\n",
       "      <td>0.167170</td>\n",
       "      <td>0.125895</td>\n",
       "      <td>-0.008983</td>\n",
       "      <td>0.014724</td>\n",
       "      <td>2.69</td>\n",
       "      <td>0</td>\n",
       "    </tr>\n",
       "    <tr>\n",
       "      <th>2</th>\n",
       "      <td>1.0</td>\n",
       "      <td>-1.358354</td>\n",
       "      <td>-1.340163</td>\n",
       "      <td>1.773209</td>\n",
       "      <td>0.379780</td>\n",
       "      <td>-0.503198</td>\n",
       "      <td>1.800499</td>\n",
       "      <td>0.791461</td>\n",
       "      <td>0.247676</td>\n",
       "      <td>-1.514654</td>\n",
       "      <td>...</td>\n",
       "      <td>0.247998</td>\n",
       "      <td>0.771679</td>\n",
       "      <td>0.909412</td>\n",
       "      <td>-0.689281</td>\n",
       "      <td>-0.327642</td>\n",
       "      <td>-0.139097</td>\n",
       "      <td>-0.055353</td>\n",
       "      <td>-0.059752</td>\n",
       "      <td>378.66</td>\n",
       "      <td>0</td>\n",
       "    </tr>\n",
       "    <tr>\n",
       "      <th>3</th>\n",
       "      <td>1.0</td>\n",
       "      <td>-0.966272</td>\n",
       "      <td>-0.185226</td>\n",
       "      <td>1.792993</td>\n",
       "      <td>-0.863291</td>\n",
       "      <td>-0.010309</td>\n",
       "      <td>1.247203</td>\n",
       "      <td>0.237609</td>\n",
       "      <td>0.377436</td>\n",
       "      <td>-1.387024</td>\n",
       "      <td>...</td>\n",
       "      <td>-0.108300</td>\n",
       "      <td>0.005274</td>\n",
       "      <td>-0.190321</td>\n",
       "      <td>-1.175575</td>\n",
       "      <td>0.647376</td>\n",
       "      <td>-0.221929</td>\n",
       "      <td>0.062723</td>\n",
       "      <td>0.061458</td>\n",
       "      <td>123.50</td>\n",
       "      <td>0</td>\n",
       "    </tr>\n",
       "    <tr>\n",
       "      <th>4</th>\n",
       "      <td>2.0</td>\n",
       "      <td>-1.158233</td>\n",
       "      <td>0.877737</td>\n",
       "      <td>1.548718</td>\n",
       "      <td>0.403034</td>\n",
       "      <td>-0.407193</td>\n",
       "      <td>0.095921</td>\n",
       "      <td>0.592941</td>\n",
       "      <td>-0.270533</td>\n",
       "      <td>0.817739</td>\n",
       "      <td>...</td>\n",
       "      <td>-0.009431</td>\n",
       "      <td>0.798278</td>\n",
       "      <td>-0.137458</td>\n",
       "      <td>0.141267</td>\n",
       "      <td>-0.206010</td>\n",
       "      <td>0.502292</td>\n",
       "      <td>0.219422</td>\n",
       "      <td>0.215153</td>\n",
       "      <td>69.99</td>\n",
       "      <td>0</td>\n",
       "    </tr>\n",
       "  </tbody>\n",
       "</table>\n",
       "<p>5 rows × 31 columns</p>\n",
       "</div>"
      ],
      "text/plain": [
       "   Time        V1        V2        V3        V4        V5        V6        V7  \\\n",
       "0   0.0 -1.359807 -0.072781  2.536347  1.378155 -0.338321  0.462388  0.239599   \n",
       "1   0.0  1.191857  0.266151  0.166480  0.448154  0.060018 -0.082361 -0.078803   \n",
       "2   1.0 -1.358354 -1.340163  1.773209  0.379780 -0.503198  1.800499  0.791461   \n",
       "3   1.0 -0.966272 -0.185226  1.792993 -0.863291 -0.010309  1.247203  0.237609   \n",
       "4   2.0 -1.158233  0.877737  1.548718  0.403034 -0.407193  0.095921  0.592941   \n",
       "\n",
       "         V8        V9  ...       V21       V22       V23       V24       V25  \\\n",
       "0  0.098698  0.363787  ... -0.018307  0.277838 -0.110474  0.066928  0.128539   \n",
       "1  0.085102 -0.255425  ... -0.225775 -0.638672  0.101288 -0.339846  0.167170   \n",
       "2  0.247676 -1.514654  ...  0.247998  0.771679  0.909412 -0.689281 -0.327642   \n",
       "3  0.377436 -1.387024  ... -0.108300  0.005274 -0.190321 -1.175575  0.647376   \n",
       "4 -0.270533  0.817739  ... -0.009431  0.798278 -0.137458  0.141267 -0.206010   \n",
       "\n",
       "        V26       V27       V28  Amount  Class  \n",
       "0 -0.189115  0.133558 -0.021053  149.62      0  \n",
       "1  0.125895 -0.008983  0.014724    2.69      0  \n",
       "2 -0.139097 -0.055353 -0.059752  378.66      0  \n",
       "3 -0.221929  0.062723  0.061458  123.50      0  \n",
       "4  0.502292  0.219422  0.215153   69.99      0  \n",
       "\n",
       "[5 rows x 31 columns]"
      ]
     },
     "execution_count": 6,
     "metadata": {},
     "output_type": "execute_result"
    }
   ],
   "source": [
    "df.head()"
   ]
  },
  {
   "cell_type": "code",
   "execution_count": 7,
   "metadata": {},
   "outputs": [
    {
     "data": {
      "text/html": [
       "<div>\n",
       "<style scoped>\n",
       "    .dataframe tbody tr th:only-of-type {\n",
       "        vertical-align: middle;\n",
       "    }\n",
       "\n",
       "    .dataframe tbody tr th {\n",
       "        vertical-align: top;\n",
       "    }\n",
       "\n",
       "    .dataframe thead th {\n",
       "        text-align: right;\n",
       "    }\n",
       "</style>\n",
       "<table border=\"1\" class=\"dataframe\">\n",
       "  <thead>\n",
       "    <tr style=\"text-align: right;\">\n",
       "      <th></th>\n",
       "      <th>Time</th>\n",
       "      <th>V1</th>\n",
       "      <th>V2</th>\n",
       "      <th>V3</th>\n",
       "      <th>V4</th>\n",
       "      <th>V5</th>\n",
       "      <th>V6</th>\n",
       "      <th>V7</th>\n",
       "      <th>V8</th>\n",
       "      <th>V9</th>\n",
       "      <th>...</th>\n",
       "      <th>V21</th>\n",
       "      <th>V22</th>\n",
       "      <th>V23</th>\n",
       "      <th>V24</th>\n",
       "      <th>V25</th>\n",
       "      <th>V26</th>\n",
       "      <th>V27</th>\n",
       "      <th>V28</th>\n",
       "      <th>Amount</th>\n",
       "      <th>Class</th>\n",
       "    </tr>\n",
       "  </thead>\n",
       "  <tbody>\n",
       "    <tr>\n",
       "      <th>count</th>\n",
       "      <td>284807.000000</td>\n",
       "      <td>2.848070e+05</td>\n",
       "      <td>2.848070e+05</td>\n",
       "      <td>2.848070e+05</td>\n",
       "      <td>2.848070e+05</td>\n",
       "      <td>2.848070e+05</td>\n",
       "      <td>2.848070e+05</td>\n",
       "      <td>2.848070e+05</td>\n",
       "      <td>2.848070e+05</td>\n",
       "      <td>2.848070e+05</td>\n",
       "      <td>...</td>\n",
       "      <td>2.848070e+05</td>\n",
       "      <td>2.848070e+05</td>\n",
       "      <td>2.848070e+05</td>\n",
       "      <td>2.848070e+05</td>\n",
       "      <td>2.848070e+05</td>\n",
       "      <td>2.848070e+05</td>\n",
       "      <td>2.848070e+05</td>\n",
       "      <td>2.848070e+05</td>\n",
       "      <td>284807.000000</td>\n",
       "      <td>284807.000000</td>\n",
       "    </tr>\n",
       "    <tr>\n",
       "      <th>mean</th>\n",
       "      <td>94813.859575</td>\n",
       "      <td>3.918649e-15</td>\n",
       "      <td>5.682686e-16</td>\n",
       "      <td>-8.761736e-15</td>\n",
       "      <td>2.811118e-15</td>\n",
       "      <td>-1.552103e-15</td>\n",
       "      <td>2.040130e-15</td>\n",
       "      <td>-1.698953e-15</td>\n",
       "      <td>-1.893285e-16</td>\n",
       "      <td>-3.147640e-15</td>\n",
       "      <td>...</td>\n",
       "      <td>1.473120e-16</td>\n",
       "      <td>8.042109e-16</td>\n",
       "      <td>5.282512e-16</td>\n",
       "      <td>4.456271e-15</td>\n",
       "      <td>1.426896e-15</td>\n",
       "      <td>1.701640e-15</td>\n",
       "      <td>-3.662252e-16</td>\n",
       "      <td>-1.217809e-16</td>\n",
       "      <td>88.349619</td>\n",
       "      <td>0.001727</td>\n",
       "    </tr>\n",
       "    <tr>\n",
       "      <th>std</th>\n",
       "      <td>47488.145955</td>\n",
       "      <td>1.958696e+00</td>\n",
       "      <td>1.651309e+00</td>\n",
       "      <td>1.516255e+00</td>\n",
       "      <td>1.415869e+00</td>\n",
       "      <td>1.380247e+00</td>\n",
       "      <td>1.332271e+00</td>\n",
       "      <td>1.237094e+00</td>\n",
       "      <td>1.194353e+00</td>\n",
       "      <td>1.098632e+00</td>\n",
       "      <td>...</td>\n",
       "      <td>7.345240e-01</td>\n",
       "      <td>7.257016e-01</td>\n",
       "      <td>6.244603e-01</td>\n",
       "      <td>6.056471e-01</td>\n",
       "      <td>5.212781e-01</td>\n",
       "      <td>4.822270e-01</td>\n",
       "      <td>4.036325e-01</td>\n",
       "      <td>3.300833e-01</td>\n",
       "      <td>250.120109</td>\n",
       "      <td>0.041527</td>\n",
       "    </tr>\n",
       "    <tr>\n",
       "      <th>min</th>\n",
       "      <td>0.000000</td>\n",
       "      <td>-5.640751e+01</td>\n",
       "      <td>-7.271573e+01</td>\n",
       "      <td>-4.832559e+01</td>\n",
       "      <td>-5.683171e+00</td>\n",
       "      <td>-1.137433e+02</td>\n",
       "      <td>-2.616051e+01</td>\n",
       "      <td>-4.355724e+01</td>\n",
       "      <td>-7.321672e+01</td>\n",
       "      <td>-1.343407e+01</td>\n",
       "      <td>...</td>\n",
       "      <td>-3.483038e+01</td>\n",
       "      <td>-1.093314e+01</td>\n",
       "      <td>-4.480774e+01</td>\n",
       "      <td>-2.836627e+00</td>\n",
       "      <td>-1.029540e+01</td>\n",
       "      <td>-2.604551e+00</td>\n",
       "      <td>-2.256568e+01</td>\n",
       "      <td>-1.543008e+01</td>\n",
       "      <td>0.000000</td>\n",
       "      <td>0.000000</td>\n",
       "    </tr>\n",
       "    <tr>\n",
       "      <th>25%</th>\n",
       "      <td>54201.500000</td>\n",
       "      <td>-9.203734e-01</td>\n",
       "      <td>-5.985499e-01</td>\n",
       "      <td>-8.903648e-01</td>\n",
       "      <td>-8.486401e-01</td>\n",
       "      <td>-6.915971e-01</td>\n",
       "      <td>-7.682956e-01</td>\n",
       "      <td>-5.540759e-01</td>\n",
       "      <td>-2.086297e-01</td>\n",
       "      <td>-6.430976e-01</td>\n",
       "      <td>...</td>\n",
       "      <td>-2.283949e-01</td>\n",
       "      <td>-5.423504e-01</td>\n",
       "      <td>-1.618463e-01</td>\n",
       "      <td>-3.545861e-01</td>\n",
       "      <td>-3.171451e-01</td>\n",
       "      <td>-3.269839e-01</td>\n",
       "      <td>-7.083953e-02</td>\n",
       "      <td>-5.295979e-02</td>\n",
       "      <td>5.600000</td>\n",
       "      <td>0.000000</td>\n",
       "    </tr>\n",
       "    <tr>\n",
       "      <th>50%</th>\n",
       "      <td>84692.000000</td>\n",
       "      <td>1.810880e-02</td>\n",
       "      <td>6.548556e-02</td>\n",
       "      <td>1.798463e-01</td>\n",
       "      <td>-1.984653e-02</td>\n",
       "      <td>-5.433583e-02</td>\n",
       "      <td>-2.741871e-01</td>\n",
       "      <td>4.010308e-02</td>\n",
       "      <td>2.235804e-02</td>\n",
       "      <td>-5.142873e-02</td>\n",
       "      <td>...</td>\n",
       "      <td>-2.945017e-02</td>\n",
       "      <td>6.781943e-03</td>\n",
       "      <td>-1.119293e-02</td>\n",
       "      <td>4.097606e-02</td>\n",
       "      <td>1.659350e-02</td>\n",
       "      <td>-5.213911e-02</td>\n",
       "      <td>1.342146e-03</td>\n",
       "      <td>1.124383e-02</td>\n",
       "      <td>22.000000</td>\n",
       "      <td>0.000000</td>\n",
       "    </tr>\n",
       "    <tr>\n",
       "      <th>75%</th>\n",
       "      <td>139320.500000</td>\n",
       "      <td>1.315642e+00</td>\n",
       "      <td>8.037239e-01</td>\n",
       "      <td>1.027196e+00</td>\n",
       "      <td>7.433413e-01</td>\n",
       "      <td>6.119264e-01</td>\n",
       "      <td>3.985649e-01</td>\n",
       "      <td>5.704361e-01</td>\n",
       "      <td>3.273459e-01</td>\n",
       "      <td>5.971390e-01</td>\n",
       "      <td>...</td>\n",
       "      <td>1.863772e-01</td>\n",
       "      <td>5.285536e-01</td>\n",
       "      <td>1.476421e-01</td>\n",
       "      <td>4.395266e-01</td>\n",
       "      <td>3.507156e-01</td>\n",
       "      <td>2.409522e-01</td>\n",
       "      <td>9.104512e-02</td>\n",
       "      <td>7.827995e-02</td>\n",
       "      <td>77.165000</td>\n",
       "      <td>0.000000</td>\n",
       "    </tr>\n",
       "    <tr>\n",
       "      <th>max</th>\n",
       "      <td>172792.000000</td>\n",
       "      <td>2.454930e+00</td>\n",
       "      <td>2.205773e+01</td>\n",
       "      <td>9.382558e+00</td>\n",
       "      <td>1.687534e+01</td>\n",
       "      <td>3.480167e+01</td>\n",
       "      <td>7.330163e+01</td>\n",
       "      <td>1.205895e+02</td>\n",
       "      <td>2.000721e+01</td>\n",
       "      <td>1.559499e+01</td>\n",
       "      <td>...</td>\n",
       "      <td>2.720284e+01</td>\n",
       "      <td>1.050309e+01</td>\n",
       "      <td>2.252841e+01</td>\n",
       "      <td>4.584549e+00</td>\n",
       "      <td>7.519589e+00</td>\n",
       "      <td>3.517346e+00</td>\n",
       "      <td>3.161220e+01</td>\n",
       "      <td>3.384781e+01</td>\n",
       "      <td>25691.160000</td>\n",
       "      <td>1.000000</td>\n",
       "    </tr>\n",
       "  </tbody>\n",
       "</table>\n",
       "<p>8 rows × 31 columns</p>\n",
       "</div>"
      ],
      "text/plain": [
       "                Time            V1            V2            V3            V4  \\\n",
       "count  284807.000000  2.848070e+05  2.848070e+05  2.848070e+05  2.848070e+05   \n",
       "mean    94813.859575  3.918649e-15  5.682686e-16 -8.761736e-15  2.811118e-15   \n",
       "std     47488.145955  1.958696e+00  1.651309e+00  1.516255e+00  1.415869e+00   \n",
       "min         0.000000 -5.640751e+01 -7.271573e+01 -4.832559e+01 -5.683171e+00   \n",
       "25%     54201.500000 -9.203734e-01 -5.985499e-01 -8.903648e-01 -8.486401e-01   \n",
       "50%     84692.000000  1.810880e-02  6.548556e-02  1.798463e-01 -1.984653e-02   \n",
       "75%    139320.500000  1.315642e+00  8.037239e-01  1.027196e+00  7.433413e-01   \n",
       "max    172792.000000  2.454930e+00  2.205773e+01  9.382558e+00  1.687534e+01   \n",
       "\n",
       "                 V5            V6            V7            V8            V9  \\\n",
       "count  2.848070e+05  2.848070e+05  2.848070e+05  2.848070e+05  2.848070e+05   \n",
       "mean  -1.552103e-15  2.040130e-15 -1.698953e-15 -1.893285e-16 -3.147640e-15   \n",
       "std    1.380247e+00  1.332271e+00  1.237094e+00  1.194353e+00  1.098632e+00   \n",
       "min   -1.137433e+02 -2.616051e+01 -4.355724e+01 -7.321672e+01 -1.343407e+01   \n",
       "25%   -6.915971e-01 -7.682956e-01 -5.540759e-01 -2.086297e-01 -6.430976e-01   \n",
       "50%   -5.433583e-02 -2.741871e-01  4.010308e-02  2.235804e-02 -5.142873e-02   \n",
       "75%    6.119264e-01  3.985649e-01  5.704361e-01  3.273459e-01  5.971390e-01   \n",
       "max    3.480167e+01  7.330163e+01  1.205895e+02  2.000721e+01  1.559499e+01   \n",
       "\n",
       "       ...           V21           V22           V23           V24  \\\n",
       "count  ...  2.848070e+05  2.848070e+05  2.848070e+05  2.848070e+05   \n",
       "mean   ...  1.473120e-16  8.042109e-16  5.282512e-16  4.456271e-15   \n",
       "std    ...  7.345240e-01  7.257016e-01  6.244603e-01  6.056471e-01   \n",
       "min    ... -3.483038e+01 -1.093314e+01 -4.480774e+01 -2.836627e+00   \n",
       "25%    ... -2.283949e-01 -5.423504e-01 -1.618463e-01 -3.545861e-01   \n",
       "50%    ... -2.945017e-02  6.781943e-03 -1.119293e-02  4.097606e-02   \n",
       "75%    ...  1.863772e-01  5.285536e-01  1.476421e-01  4.395266e-01   \n",
       "max    ...  2.720284e+01  1.050309e+01  2.252841e+01  4.584549e+00   \n",
       "\n",
       "                V25           V26           V27           V28         Amount  \\\n",
       "count  2.848070e+05  2.848070e+05  2.848070e+05  2.848070e+05  284807.000000   \n",
       "mean   1.426896e-15  1.701640e-15 -3.662252e-16 -1.217809e-16      88.349619   \n",
       "std    5.212781e-01  4.822270e-01  4.036325e-01  3.300833e-01     250.120109   \n",
       "min   -1.029540e+01 -2.604551e+00 -2.256568e+01 -1.543008e+01       0.000000   \n",
       "25%   -3.171451e-01 -3.269839e-01 -7.083953e-02 -5.295979e-02       5.600000   \n",
       "50%    1.659350e-02 -5.213911e-02  1.342146e-03  1.124383e-02      22.000000   \n",
       "75%    3.507156e-01  2.409522e-01  9.104512e-02  7.827995e-02      77.165000   \n",
       "max    7.519589e+00  3.517346e+00  3.161220e+01  3.384781e+01   25691.160000   \n",
       "\n",
       "               Class  \n",
       "count  284807.000000  \n",
       "mean        0.001727  \n",
       "std         0.041527  \n",
       "min         0.000000  \n",
       "25%         0.000000  \n",
       "50%         0.000000  \n",
       "75%         0.000000  \n",
       "max         1.000000  \n",
       "\n",
       "[8 rows x 31 columns]"
      ]
     },
     "execution_count": 7,
     "metadata": {},
     "output_type": "execute_result"
    }
   ],
   "source": [
    "df.describe()"
   ]
  },
  {
   "cell_type": "code",
   "execution_count": 10,
   "metadata": {},
   "outputs": [
    {
     "data": {
      "text/plain": [
       "0    99.827251\n",
       "1     0.172749\n",
       "Name: Class, dtype: float64"
      ]
     },
     "execution_count": 10,
     "metadata": {},
     "output_type": "execute_result"
    }
   ],
   "source": [
    "df.Class.value_counts(normalize=True)*100"
   ]
  },
  {
   "cell_type": "code",
   "execution_count": 11,
   "metadata": {},
   "outputs": [
    {
     "data": {
      "text/plain": [
       "(284807, 31)"
      ]
     },
     "execution_count": 11,
     "metadata": {},
     "output_type": "execute_result"
    }
   ],
   "source": [
    "df.shape"
   ]
  },
  {
   "cell_type": "markdown",
   "metadata": {},
   "source": [
    "### Prueba de Cono"
   ]
  },
  {
   "cell_type": "code",
   "execution_count": 50,
   "metadata": {},
   "outputs": [],
   "source": [
    "X_train,X_test,y_train,y_test=train_test_split(df.drop(columns=\"Class\"),df[\"Class\"],test_size=0.8,random_state=42)"
   ]
  },
  {
   "cell_type": "code",
   "execution_count": 51,
   "metadata": {},
   "outputs": [
    {
     "data": {
      "text/plain": [
       "0    56856\n",
       "1      105\n",
       "Name: Class, dtype: int64"
      ]
     },
     "execution_count": 51,
     "metadata": {},
     "output_type": "execute_result"
    }
   ],
   "source": [
    "y_train.value_counts()"
   ]
  },
  {
   "cell_type": "code",
   "execution_count": 17,
   "metadata": {},
   "outputs": [
    {
     "data": {
      "text/plain": [
       "0    227459\n",
       "1       387\n",
       "Name: Class, dtype: int64"
      ]
     },
     "execution_count": 17,
     "metadata": {},
     "output_type": "execute_result"
    }
   ],
   "source": [
    "y_test.value_counts()"
   ]
  },
  {
   "cell_type": "code",
   "execution_count": 18,
   "metadata": {},
   "outputs": [],
   "source": [
    "modelo=DecisionTreeClassifier()\n",
    "modelo.fit(X_train,y_train)\n",
    "y_pred=modelo.predict(X_test)"
   ]
  },
  {
   "cell_type": "code",
   "execution_count": 20,
   "metadata": {},
   "outputs": [
    {
     "data": {
      "text/html": [
       "<div>\n",
       "<style scoped>\n",
       "    .dataframe tbody tr th:only-of-type {\n",
       "        vertical-align: middle;\n",
       "    }\n",
       "\n",
       "    .dataframe tbody tr th {\n",
       "        vertical-align: top;\n",
       "    }\n",
       "\n",
       "    .dataframe thead th {\n",
       "        text-align: right;\n",
       "    }\n",
       "</style>\n",
       "<table border=\"1\" class=\"dataframe\">\n",
       "  <thead>\n",
       "    <tr style=\"text-align: right;\">\n",
       "      <th>col_0</th>\n",
       "      <th>0</th>\n",
       "      <th>1</th>\n",
       "    </tr>\n",
       "    <tr>\n",
       "      <th>Class</th>\n",
       "      <th></th>\n",
       "      <th></th>\n",
       "    </tr>\n",
       "  </thead>\n",
       "  <tbody>\n",
       "    <tr>\n",
       "      <th>0</th>\n",
       "      <td>227391</td>\n",
       "      <td>68</td>\n",
       "    </tr>\n",
       "    <tr>\n",
       "      <th>1</th>\n",
       "      <td>108</td>\n",
       "      <td>279</td>\n",
       "    </tr>\n",
       "  </tbody>\n",
       "</table>\n",
       "</div>"
      ],
      "text/plain": [
       "col_0       0    1\n",
       "Class             \n",
       "0      227391   68\n",
       "1         108  279"
      ]
     },
     "execution_count": 20,
     "metadata": {},
     "output_type": "execute_result"
    }
   ],
   "source": [
    "pd.crosstab(y_test,y_pred)"
   ]
  },
  {
   "cell_type": "code",
   "execution_count": 25,
   "metadata": {},
   "outputs": [],
   "source": [
    "from sklearn.metrics import classification_report"
   ]
  },
  {
   "cell_type": "code",
   "execution_count": 27,
   "metadata": {},
   "outputs": [
    {
     "name": "stdout",
     "output_type": "stream",
     "text": [
      "              precision    recall  f1-score   support\n",
      "\n",
      "           0       1.00      1.00      1.00    227459\n",
      "           1       0.80      0.72      0.76       387\n",
      "\n",
      "    accuracy                           1.00    227846\n",
      "   macro avg       0.90      0.86      0.88    227846\n",
      "weighted avg       1.00      1.00      1.00    227846\n",
      "\n"
     ]
    }
   ],
   "source": [
    "print(classification_report(y_test,y_pred))"
   ]
  },
  {
   "cell_type": "markdown",
   "metadata": {},
   "source": [
    "0. Exigir más datos"
   ]
  },
  {
   "cell_type": "markdown",
   "metadata": {},
   "source": [
    "## Cono\n",
    "1. La idea más fácil\n",
    "SI tengo 0,01 lo que hago es entrenar con 0,01 de ceros"
   ]
  },
  {
   "cell_type": "code",
   "execution_count": 28,
   "metadata": {},
   "outputs": [],
   "source": [
    "df_1=df[df[\"Class\"]==1]\n",
    "df_0=df[df[\"Class\"]==0]"
   ]
  },
  {
   "cell_type": "code",
   "execution_count": 29,
   "metadata": {},
   "outputs": [],
   "source": [
    "df_muestra=df_0.sample(len(df_1),random_state=42)"
   ]
  },
  {
   "cell_type": "code",
   "execution_count": 30,
   "metadata": {},
   "outputs": [
    {
     "data": {
      "text/plain": [
       "(492, 31)"
      ]
     },
     "execution_count": 30,
     "metadata": {},
     "output_type": "execute_result"
    }
   ],
   "source": [
    "df_muestra.shape"
   ]
  },
  {
   "cell_type": "code",
   "execution_count": 31,
   "metadata": {},
   "outputs": [],
   "source": [
    "df_aux=pd.concat([df_muestra,df_1])"
   ]
  },
  {
   "cell_type": "code",
   "execution_count": 32,
   "metadata": {},
   "outputs": [
    {
     "data": {
      "text/plain": [
       "(984, 31)"
      ]
     },
     "execution_count": 32,
     "metadata": {},
     "output_type": "execute_result"
    }
   ],
   "source": [
    "df_aux.shape"
   ]
  },
  {
   "cell_type": "code",
   "execution_count": 33,
   "metadata": {},
   "outputs": [
    {
     "data": {
      "text/html": [
       "<div>\n",
       "<style scoped>\n",
       "    .dataframe tbody tr th:only-of-type {\n",
       "        vertical-align: middle;\n",
       "    }\n",
       "\n",
       "    .dataframe tbody tr th {\n",
       "        vertical-align: top;\n",
       "    }\n",
       "\n",
       "    .dataframe thead th {\n",
       "        text-align: right;\n",
       "    }\n",
       "</style>\n",
       "<table border=\"1\" class=\"dataframe\">\n",
       "  <thead>\n",
       "    <tr style=\"text-align: right;\">\n",
       "      <th></th>\n",
       "      <th>Time</th>\n",
       "      <th>V1</th>\n",
       "      <th>V2</th>\n",
       "      <th>V3</th>\n",
       "      <th>V4</th>\n",
       "      <th>V5</th>\n",
       "      <th>V6</th>\n",
       "      <th>V7</th>\n",
       "      <th>V8</th>\n",
       "      <th>V9</th>\n",
       "      <th>...</th>\n",
       "      <th>V21</th>\n",
       "      <th>V22</th>\n",
       "      <th>V23</th>\n",
       "      <th>V24</th>\n",
       "      <th>V25</th>\n",
       "      <th>V26</th>\n",
       "      <th>V27</th>\n",
       "      <th>V28</th>\n",
       "      <th>Amount</th>\n",
       "      <th>Class</th>\n",
       "    </tr>\n",
       "  </thead>\n",
       "  <tbody>\n",
       "    <tr>\n",
       "      <th>138028</th>\n",
       "      <td>82450.0</td>\n",
       "      <td>1.314539</td>\n",
       "      <td>0.590643</td>\n",
       "      <td>-0.666593</td>\n",
       "      <td>0.716564</td>\n",
       "      <td>0.301978</td>\n",
       "      <td>-1.125467</td>\n",
       "      <td>0.388881</td>\n",
       "      <td>-0.288390</td>\n",
       "      <td>-0.132137</td>\n",
       "      <td>...</td>\n",
       "      <td>-0.170307</td>\n",
       "      <td>-0.429655</td>\n",
       "      <td>-0.141341</td>\n",
       "      <td>-0.200195</td>\n",
       "      <td>0.639491</td>\n",
       "      <td>0.399476</td>\n",
       "      <td>-0.034321</td>\n",
       "      <td>0.031692</td>\n",
       "      <td>0.76</td>\n",
       "      <td>0</td>\n",
       "    </tr>\n",
       "    <tr>\n",
       "      <th>63099</th>\n",
       "      <td>50554.0</td>\n",
       "      <td>-0.798672</td>\n",
       "      <td>1.185093</td>\n",
       "      <td>0.904547</td>\n",
       "      <td>0.694584</td>\n",
       "      <td>0.219041</td>\n",
       "      <td>-0.319295</td>\n",
       "      <td>0.495236</td>\n",
       "      <td>0.139269</td>\n",
       "      <td>-0.760214</td>\n",
       "      <td>...</td>\n",
       "      <td>0.202287</td>\n",
       "      <td>0.578699</td>\n",
       "      <td>-0.092245</td>\n",
       "      <td>0.013723</td>\n",
       "      <td>-0.246466</td>\n",
       "      <td>-0.380057</td>\n",
       "      <td>-0.396030</td>\n",
       "      <td>-0.112901</td>\n",
       "      <td>4.18</td>\n",
       "      <td>0</td>\n",
       "    </tr>\n",
       "    <tr>\n",
       "      <th>73411</th>\n",
       "      <td>55125.0</td>\n",
       "      <td>-0.391128</td>\n",
       "      <td>-0.245540</td>\n",
       "      <td>1.122074</td>\n",
       "      <td>-1.308725</td>\n",
       "      <td>-0.639891</td>\n",
       "      <td>0.008678</td>\n",
       "      <td>-0.701304</td>\n",
       "      <td>-0.027315</td>\n",
       "      <td>-2.628854</td>\n",
       "      <td>...</td>\n",
       "      <td>-0.133485</td>\n",
       "      <td>0.117403</td>\n",
       "      <td>-0.191748</td>\n",
       "      <td>-0.488642</td>\n",
       "      <td>-0.309774</td>\n",
       "      <td>0.008100</td>\n",
       "      <td>0.163716</td>\n",
       "      <td>0.239582</td>\n",
       "      <td>15.00</td>\n",
       "      <td>0</td>\n",
       "    </tr>\n",
       "    <tr>\n",
       "      <th>164247</th>\n",
       "      <td>116572.0</td>\n",
       "      <td>-0.060302</td>\n",
       "      <td>1.065093</td>\n",
       "      <td>-0.987421</td>\n",
       "      <td>-0.029567</td>\n",
       "      <td>0.176376</td>\n",
       "      <td>-1.348539</td>\n",
       "      <td>0.775644</td>\n",
       "      <td>0.134843</td>\n",
       "      <td>-0.149734</td>\n",
       "      <td>...</td>\n",
       "      <td>0.355576</td>\n",
       "      <td>0.907570</td>\n",
       "      <td>-0.018454</td>\n",
       "      <td>-0.126269</td>\n",
       "      <td>-0.339923</td>\n",
       "      <td>-0.150285</td>\n",
       "      <td>-0.023634</td>\n",
       "      <td>0.042330</td>\n",
       "      <td>57.00</td>\n",
       "      <td>0</td>\n",
       "    </tr>\n",
       "    <tr>\n",
       "      <th>148999</th>\n",
       "      <td>90434.0</td>\n",
       "      <td>1.848433</td>\n",
       "      <td>0.373364</td>\n",
       "      <td>0.269272</td>\n",
       "      <td>3.866438</td>\n",
       "      <td>0.088062</td>\n",
       "      <td>0.970447</td>\n",
       "      <td>-0.721945</td>\n",
       "      <td>0.235983</td>\n",
       "      <td>0.683491</td>\n",
       "      <td>...</td>\n",
       "      <td>0.103563</td>\n",
       "      <td>0.620954</td>\n",
       "      <td>0.197077</td>\n",
       "      <td>0.692392</td>\n",
       "      <td>-0.206530</td>\n",
       "      <td>-0.021328</td>\n",
       "      <td>-0.019823</td>\n",
       "      <td>-0.042682</td>\n",
       "      <td>0.00</td>\n",
       "      <td>0</td>\n",
       "    </tr>\n",
       "  </tbody>\n",
       "</table>\n",
       "<p>5 rows × 31 columns</p>\n",
       "</div>"
      ],
      "text/plain": [
       "            Time        V1        V2        V3        V4        V5        V6  \\\n",
       "138028   82450.0  1.314539  0.590643 -0.666593  0.716564  0.301978 -1.125467   \n",
       "63099    50554.0 -0.798672  1.185093  0.904547  0.694584  0.219041 -0.319295   \n",
       "73411    55125.0 -0.391128 -0.245540  1.122074 -1.308725 -0.639891  0.008678   \n",
       "164247  116572.0 -0.060302  1.065093 -0.987421 -0.029567  0.176376 -1.348539   \n",
       "148999   90434.0  1.848433  0.373364  0.269272  3.866438  0.088062  0.970447   \n",
       "\n",
       "              V7        V8        V9  ...       V21       V22       V23  \\\n",
       "138028  0.388881 -0.288390 -0.132137  ... -0.170307 -0.429655 -0.141341   \n",
       "63099   0.495236  0.139269 -0.760214  ...  0.202287  0.578699 -0.092245   \n",
       "73411  -0.701304 -0.027315 -2.628854  ... -0.133485  0.117403 -0.191748   \n",
       "164247  0.775644  0.134843 -0.149734  ...  0.355576  0.907570 -0.018454   \n",
       "148999 -0.721945  0.235983  0.683491  ...  0.103563  0.620954  0.197077   \n",
       "\n",
       "             V24       V25       V26       V27       V28  Amount  Class  \n",
       "138028 -0.200195  0.639491  0.399476 -0.034321  0.031692    0.76      0  \n",
       "63099   0.013723 -0.246466 -0.380057 -0.396030 -0.112901    4.18      0  \n",
       "73411  -0.488642 -0.309774  0.008100  0.163716  0.239582   15.00      0  \n",
       "164247 -0.126269 -0.339923 -0.150285 -0.023634  0.042330   57.00      0  \n",
       "148999  0.692392 -0.206530 -0.021328 -0.019823 -0.042682    0.00      0  \n",
       "\n",
       "[5 rows x 31 columns]"
      ]
     },
     "execution_count": 33,
     "metadata": {},
     "output_type": "execute_result"
    }
   ],
   "source": [
    "df_muestra.head()"
   ]
  },
  {
   "cell_type": "code",
   "execution_count": 35,
   "metadata": {},
   "outputs": [],
   "source": [
    "df_validacion=df_0.drop(df_muestra.index,axis=0)"
   ]
  },
  {
   "cell_type": "code",
   "execution_count": 38,
   "metadata": {},
   "outputs": [
    {
     "name": "stdout",
     "output_type": "stream",
     "text": [
      "              precision    recall  f1-score   support\n",
      "\n",
      "           0       0.88      0.92      0.90       393\n",
      "           1       0.91      0.88      0.90       395\n",
      "\n",
      "    accuracy                           0.90       788\n",
      "   macro avg       0.90      0.90      0.90       788\n",
      "weighted avg       0.90      0.90      0.90       788\n",
      "\n"
     ]
    }
   ],
   "source": [
    "X_train,X_test,y_train,y_test=train_test_split(df_aux.drop(columns=\"Class\"),df_aux[\"Class\"],test_size=0.8,\n",
    "                                               random_state=42,shuffle=True)\n",
    "modelo=DecisionTreeClassifier()\n",
    "modelo.fit(X_train,y_train)\n",
    "y_pred=modelo.predict(X_test)\n",
    "print(classification_report(y_test,y_pred))"
   ]
  },
  {
   "cell_type": "code",
   "execution_count": 39,
   "metadata": {},
   "outputs": [],
   "source": [
    "y_pred_0=modelo.predict(df_validacion.drop(columns=\"Class\"))"
   ]
  },
  {
   "cell_type": "code",
   "execution_count": 43,
   "metadata": {},
   "outputs": [
    {
     "data": {
      "text/plain": [
       "9.476328556882283"
      ]
     },
     "execution_count": 43,
     "metadata": {},
     "output_type": "execute_result"
    }
   ],
   "source": [
    "y_pred_0.sum()/len(y_pred_0)*100"
   ]
  },
  {
   "cell_type": "code",
   "execution_count": 40,
   "metadata": {},
   "outputs": [
    {
     "name": "stderr",
     "output_type": "stream",
     "text": [
      "c:\\Users\\Daniel Montes\\Anaconda3\\lib\\site-packages\\sklearn\\metrics\\_classification.py:1318: UndefinedMetricWarning: Recall and F-score are ill-defined and being set to 0.0 in labels with no true samples. Use `zero_division` parameter to control this behavior.\n",
      "  _warn_prf(average, modifier, msg_start, len(result))\n",
      "c:\\Users\\Daniel Montes\\Anaconda3\\lib\\site-packages\\sklearn\\metrics\\_classification.py:1318: UndefinedMetricWarning: Recall and F-score are ill-defined and being set to 0.0 in labels with no true samples. Use `zero_division` parameter to control this behavior.\n",
      "  _warn_prf(average, modifier, msg_start, len(result))\n"
     ]
    },
    {
     "name": "stdout",
     "output_type": "stream",
     "text": [
      "              precision    recall  f1-score   support\n",
      "\n",
      "           0       1.00      0.91      0.95    283823\n",
      "           1       0.00      0.00      0.00         0\n",
      "\n",
      "    accuracy                           0.91    283823\n",
      "   macro avg       0.50      0.45      0.48    283823\n",
      "weighted avg       1.00      0.91      0.95    283823\n",
      "\n"
     ]
    },
    {
     "name": "stderr",
     "output_type": "stream",
     "text": [
      "c:\\Users\\Daniel Montes\\Anaconda3\\lib\\site-packages\\sklearn\\metrics\\_classification.py:1318: UndefinedMetricWarning: Recall and F-score are ill-defined and being set to 0.0 in labels with no true samples. Use `zero_division` parameter to control this behavior.\n",
      "  _warn_prf(average, modifier, msg_start, len(result))\n"
     ]
    }
   ],
   "source": [
    "print(classification_report(df_validacion[\"Class\"],y_pred_0))"
   ]
  },
  {
   "cell_type": "code",
   "execution_count": 56,
   "metadata": {},
   "outputs": [],
   "source": [
    "X_train,X_test,y_train,y_test=train_test_split(df.drop(columns=\"Class\"),df[\"Class\"],test_size=0.8,random_state=42)"
   ]
  },
  {
   "cell_type": "code",
   "execution_count": null,
   "metadata": {},
   "outputs": [],
   "source": [
    "from sklearn.metrics import recall_score,precision_score,f1_score"
   ]
  },
  {
   "cell_type": "code",
   "execution_count": 65,
   "metadata": {},
   "outputs": [
    {
     "name": "stdout",
     "output_type": "stream",
     "text": [
      "              precision    recall  f1-score   support\n",
      "\n",
      "           0       1.00      1.00      1.00    227459\n",
      "           1       0.77      0.72      0.74       387\n",
      "\n",
      "    accuracy                           1.00    227846\n",
      "   macro avg       0.88      0.86      0.87    227846\n",
      "weighted avg       1.00      1.00      1.00    227846\n",
      "\n"
     ]
    }
   ],
   "source": [
    "pesos={0:100,1:0.01}\n",
    "modelo=DecisionTreeClassifier(class_weight=pesos)\n",
    "modelo.fit(X_train,y_train)\n",
    "y_pred=modelo.predict(X_test)\n",
    "print(classification_report(y_test,y_pred))"
   ]
  },
  {
   "cell_type": "code",
   "execution_count": 66,
   "metadata": {},
   "outputs": [
    {
     "data": {
      "text/plain": [
       "0.7183462532299741"
      ]
     },
     "execution_count": 66,
     "metadata": {},
     "output_type": "execute_result"
    }
   ],
   "source": [
    "recall_score(y_test,y_pred)"
   ]
  },
  {
   "cell_type": "code",
   "execution_count": 67,
   "metadata": {},
   "outputs": [
    {
     "data": {
      "text/plain": [
       "0.7700831024930748"
      ]
     },
     "execution_count": 67,
     "metadata": {},
     "output_type": "execute_result"
    }
   ],
   "source": [
    "precision_score(y_test,y_pred)"
   ]
  },
  {
   "cell_type": "markdown",
   "metadata": {},
   "source": [
    "Realizamos un GridSearch"
   ]
  },
  {
   "cell_type": "code",
   "execution_count": 68,
   "metadata": {},
   "outputs": [],
   "source": [
    "from sklearn.model_selection import GridSearchCV"
   ]
  },
  {
   "cell_type": "code",
   "execution_count": 69,
   "metadata": {},
   "outputs": [],
   "source": [
    "pesos=[{0:100,1:1},{0:10,1:1},{0:1,1:10},{0:1,1:100}]\n",
    "parametro=dict(class_weight=pesos)"
   ]
  },
  {
   "cell_type": "code",
   "execution_count": 70,
   "metadata": {},
   "outputs": [
    {
     "data": {
      "text/plain": [
       "{'class_weight': [{0: 100, 1: 1},\n",
       "  {0: 10, 1: 1},\n",
       "  {0: 1, 1: 10},\n",
       "  {0: 1, 1: 100}]}"
      ]
     },
     "execution_count": 70,
     "metadata": {},
     "output_type": "execute_result"
    }
   ],
   "source": [
    "parametro"
   ]
  },
  {
   "cell_type": "code",
   "execution_count": 71,
   "metadata": {},
   "outputs": [],
   "source": [
    "grid=GridSearchCV(DecisionTreeClassifier(),param_grid=parametro,cv=5,scoring=\"roc_auc\")"
   ]
  },
  {
   "cell_type": "code",
   "execution_count": 73,
   "metadata": {},
   "outputs": [
    {
     "data": {
      "text/plain": [
       "GridSearchCV(cv=5, estimator=DecisionTreeClassifier(),\n",
       "             param_grid={'class_weight': [{0: 100, 1: 1}, {0: 10, 1: 1},\n",
       "                                          {0: 1, 1: 10}, {0: 1, 1: 100}]},\n",
       "             scoring='roc_auc')"
      ]
     },
     "execution_count": 73,
     "metadata": {},
     "output_type": "execute_result"
    }
   ],
   "source": [
    "grid.fit(X_train,y_train)"
   ]
  },
  {
   "cell_type": "code",
   "execution_count": 74,
   "metadata": {},
   "outputs": [
    {
     "name": "stdout",
     "output_type": "stream",
     "text": [
      "El mejor estiamdor es DecisionTreeClassifier(class_weight={0: 100, 1: 1})\n"
     ]
    }
   ],
   "source": [
    "print(f\"El mejor estiamdor es {grid.best_estimator_}\")"
   ]
  },
  {
   "cell_type": "code",
   "execution_count": 75,
   "metadata": {},
   "outputs": [
    {
     "data": {
      "text/plain": [
       "0.8759090624157546"
      ]
     },
     "execution_count": 75,
     "metadata": {},
     "output_type": "execute_result"
    }
   ],
   "source": [
    "grid.best_score_"
   ]
  },
  {
   "cell_type": "code",
   "execution_count": 76,
   "metadata": {},
   "outputs": [
    {
     "data": {
      "text/plain": [
       "{'mean_fit_time': array([9.1215219 , 4.56499715, 4.53868279, 3.86330442]),\n",
       " 'std_fit_time': array([2.45555934, 0.85106121, 1.3905365 , 0.95338237]),\n",
       " 'mean_score_time': array([0.03366609, 0.01854091, 0.01576037, 0.0247344 ]),\n",
       " 'std_score_time': array([0.02919415, 0.00526005, 0.00502494, 0.01976   ]),\n",
       " 'param_class_weight': masked_array(data=[{0: 100, 1: 1}, {0: 10, 1: 1}, {0: 1, 1: 10},\n",
       "                    {0: 1, 1: 100}],\n",
       "              mask=[False, False, False, False],\n",
       "        fill_value='?',\n",
       "             dtype=object),\n",
       " 'params': [{'class_weight': {0: 100, 1: 1}},\n",
       "  {'class_weight': {0: 10, 1: 1}},\n",
       "  {'class_weight': {0: 1, 1: 10}},\n",
       "  {'class_weight': {0: 1, 1: 100}}],\n",
       " 'split0_test_score': array([0.95216111, 0.8331135 , 0.9044981 , 0.90463   ]),\n",
       " 'split1_test_score': array([0.88046869, 0.88051267, 0.80908409, 0.83293759]),\n",
       " 'split2_test_score': array([0.85679109, 0.90441013, 0.83315745, 0.78545046]),\n",
       " 'split3_test_score': array([0.78562634, 0.85701094, 0.88086444, 0.90449808]),\n",
       " 'split4_test_score': array([0.90449808, 0.85687903, 0.8093919 , 0.80943587]),\n",
       " 'mean_test_score': array([0.87590906, 0.86638525, 0.84739919, 0.8473904 ]),\n",
       " 'std_test_score': array([0.05507988, 0.02421046, 0.03871857, 0.04903804]),\n",
       " 'rank_test_score': array([1, 2, 3, 4])}"
      ]
     },
     "execution_count": 76,
     "metadata": {},
     "output_type": "execute_result"
    }
   ],
   "source": [
    "grid.cv_results_"
   ]
  },
  {
   "cell_type": "code",
   "execution_count": 80,
   "metadata": {},
   "outputs": [],
   "source": [
    "y_pred=grid.predict(X_test)"
   ]
  },
  {
   "cell_type": "code",
   "execution_count": 81,
   "metadata": {},
   "outputs": [
    {
     "data": {
      "text/plain": [
       "0.7047353760445683"
      ]
     },
     "execution_count": 81,
     "metadata": {},
     "output_type": "execute_result"
    }
   ],
   "source": [
    "precision_score(y_test,y_pred)"
   ]
  },
  {
   "cell_type": "code",
   "execution_count": 82,
   "metadata": {},
   "outputs": [
    {
     "data": {
      "text/plain": [
       "0.6537467700258398"
      ]
     },
     "execution_count": 82,
     "metadata": {},
     "output_type": "execute_result"
    }
   ],
   "source": [
    "recall_score(y_test,y_pred)"
   ]
  },
  {
   "cell_type": "markdown",
   "metadata": {},
   "source": [
    "5/20 --> 1/5 -> 1/5 "
   ]
  },
  {
   "cell_type": "code",
   "execution_count": 83,
   "metadata": {},
   "outputs": [],
   "source": [
    "from sklearn.model_selection import RepeatedStratifiedKFold"
   ]
  },
  {
   "cell_type": "code",
   "execution_count": 84,
   "metadata": {},
   "outputs": [],
   "source": [
    "repeticiones=RepeatedStratifiedKFold(n_splits=10,n_repeats=4,random_state=42)"
   ]
  },
  {
   "cell_type": "code",
   "execution_count": 85,
   "metadata": {},
   "outputs": [],
   "source": [
    "grid_rp=GridSearchCV(DecisionTreeClassifier(),param_grid=parametro,cv=repeticiones,scoring=\"roc_auc\")"
   ]
  },
  {
   "cell_type": "code",
   "execution_count": 86,
   "metadata": {},
   "outputs": [
    {
     "data": {
      "text/plain": [
       "GridSearchCV(cv=RepeatedStratifiedKFold(n_repeats=4, n_splits=10, random_state=42),\n",
       "             estimator=DecisionTreeClassifier(),\n",
       "             param_grid={'class_weight': [{0: 100, 1: 1}, {0: 10, 1: 1},\n",
       "                                          {0: 1, 1: 10}, {0: 1, 1: 100}]},\n",
       "             scoring='roc_auc')"
      ]
     },
     "execution_count": 86,
     "metadata": {},
     "output_type": "execute_result"
    }
   ],
   "source": [
    "grid_rp.fit(X_train,y_train)"
   ]
  },
  {
   "cell_type": "code",
   "execution_count": 87,
   "metadata": {},
   "outputs": [
    {
     "name": "stdout",
     "output_type": "stream",
     "text": [
      "El mejor estiamdor es DecisionTreeClassifier(class_weight={0: 10, 1: 1})\n"
     ]
    }
   ],
   "source": [
    "print(f\"El mejor estiamdor es {grid_rp.best_estimator_}\")"
   ]
  },
  {
   "cell_type": "code",
   "execution_count": 88,
   "metadata": {},
   "outputs": [],
   "source": [
    "y_pred_rp=grid_rp.predict(X_test)"
   ]
  },
  {
   "cell_type": "code",
   "execution_count": 89,
   "metadata": {},
   "outputs": [
    {
     "data": {
      "text/plain": [
       "0.7632311977715878"
      ]
     },
     "execution_count": 89,
     "metadata": {},
     "output_type": "execute_result"
    }
   ],
   "source": [
    "precision_score(y_test,y_pred_rp)"
   ]
  },
  {
   "cell_type": "code",
   "execution_count": 90,
   "metadata": {},
   "outputs": [
    {
     "data": {
      "text/plain": [
       "0.7080103359173127"
      ]
     },
     "execution_count": 90,
     "metadata": {},
     "output_type": "execute_result"
    }
   ],
   "source": [
    "recall_score(y_test,y_pred_rp)"
   ]
  },
  {
   "cell_type": "markdown",
   "metadata": {},
   "source": [
    "## Libreria IMBLEARN"
   ]
  },
  {
   "cell_type": "code",
   "execution_count": 92,
   "metadata": {},
   "outputs": [
    {
     "name": "stdout",
     "output_type": "stream",
     "text": [
      "Collecting imblearn\n",
      "  Using cached imblearn-0.0-py2.py3-none-any.whl (1.9 kB)\n",
      "Collecting imbalanced-learn\n",
      "  Downloading imbalanced_learn-0.11.0-py3-none-any.whl (235 kB)\n",
      "Requirement already satisfied: scipy>=1.5.0 in c:\\users\\daniel montes\\anaconda3\\lib\\site-packages (from imbalanced-learn->imblearn) (1.7.3)\n",
      "Requirement already satisfied: scikit-learn>=1.0.2 in c:\\users\\daniel montes\\anaconda3\\lib\\site-packages (from imbalanced-learn->imblearn) (1.0.2)\n",
      "Requirement already satisfied: numpy>=1.17.3 in c:\\users\\daniel montes\\anaconda3\\lib\\site-packages (from imbalanced-learn->imblearn) (1.21.5)\n",
      "Requirement already satisfied: threadpoolctl>=2.0.0 in c:\\users\\daniel montes\\anaconda3\\lib\\site-packages (from imbalanced-learn->imblearn) (2.2.0)\n",
      "Collecting joblib>=1.1.1\n",
      "  Downloading joblib-1.3.2-py3-none-any.whl (302 kB)\n",
      "Installing collected packages: joblib, imbalanced-learn, imblearn\n",
      "  Attempting uninstall: joblib\n",
      "    Found existing installation: joblib 1.1.0\n",
      "    Uninstalling joblib-1.1.0:\n",
      "      Successfully uninstalled joblib-1.1.0\n",
      "Successfully installed imbalanced-learn-0.11.0 imblearn-0.0 joblib-1.3.2\n"
     ]
    }
   ],
   "source": [
    "# !pip install imblearn"
   ]
  },
  {
   "cell_type": "code",
   "execution_count": 94,
   "metadata": {},
   "outputs": [],
   "source": [
    "## Under sampling \n",
    "## vamos a hacer un muestreo de la clase mayoriataria \n",
    "## Utilizaremos un modelo parecido al K-Vecinos\n",
    "from imblearn.under_sampling import NearMiss"
   ]
  },
  {
   "cell_type": "code",
   "execution_count": 107,
   "metadata": {},
   "outputs": [
    {
     "name": "stdout",
     "output_type": "stream",
     "text": [
      "\u001b[1;31mInit signature:\u001b[0m\n",
      "\u001b[0mNearMiss\u001b[0m\u001b[1;33m(\u001b[0m\u001b[1;33m\n",
      "\u001b[0m    \u001b[1;33m*\u001b[0m\u001b[1;33m,\u001b[0m\u001b[1;33m\n",
      "\u001b[0m    \u001b[0msampling_strategy\u001b[0m\u001b[1;33m=\u001b[0m\u001b[1;34m'auto'\u001b[0m\u001b[1;33m,\u001b[0m\u001b[1;33m\n",
      "\u001b[0m    \u001b[0mversion\u001b[0m\u001b[1;33m=\u001b[0m\u001b[1;36m1\u001b[0m\u001b[1;33m,\u001b[0m\u001b[1;33m\n",
      "\u001b[0m    \u001b[0mn_neighbors\u001b[0m\u001b[1;33m=\u001b[0m\u001b[1;36m3\u001b[0m\u001b[1;33m,\u001b[0m\u001b[1;33m\n",
      "\u001b[0m    \u001b[0mn_neighbors_ver3\u001b[0m\u001b[1;33m=\u001b[0m\u001b[1;36m3\u001b[0m\u001b[1;33m,\u001b[0m\u001b[1;33m\n",
      "\u001b[0m    \u001b[0mn_jobs\u001b[0m\u001b[1;33m=\u001b[0m\u001b[1;32mNone\u001b[0m\u001b[1;33m,\u001b[0m\u001b[1;33m\n",
      "\u001b[0m\u001b[1;33m)\u001b[0m\u001b[1;33m\u001b[0m\u001b[1;33m\u001b[0m\u001b[0m\n",
      "\u001b[1;31mDocstring:\u001b[0m     \n",
      "Class to perform under-sampling based on NearMiss methods.\n",
      "\n",
      "Read more in the :ref:`User Guide <controlled_under_sampling>`.\n",
      "\n",
      "Parameters\n",
      "----------\n",
      "sampling_strategy : float, str, dict, callable, default='auto'\n",
      "    Sampling information to sample the data set.\n",
      "\n",
      "    - When ``float``, it corresponds to the desired ratio of the number of\n",
      "      samples in the minority class over the number of samples in the\n",
      "      majority class after resampling. Therefore, the ratio is expressed as\n",
      "      :math:`\\alpha_{us} = N_{m} / N_{rM}` where :math:`N_{m}` is the\n",
      "      number of samples in the minority class and\n",
      "      :math:`N_{rM}` is the number of samples in the majority class\n",
      "      after resampling.\n",
      "\n",
      "      .. warning::\n",
      "         ``float`` is only available for **binary** classification. An\n",
      "         error is raised for multi-class classification.\n",
      "\n",
      "    - When ``str``, specify the class targeted by the resampling. The\n",
      "      number of samples in the different classes will be equalized.\n",
      "      Possible choices are:\n",
      "\n",
      "        ``'majority'``: resample only the majority class;\n",
      "\n",
      "        ``'not minority'``: resample all classes but the minority class;\n",
      "\n",
      "        ``'not majority'``: resample all classes but the majority class;\n",
      "\n",
      "        ``'all'``: resample all classes;\n",
      "\n",
      "        ``'auto'``: equivalent to ``'not minority'``.\n",
      "\n",
      "    - When ``dict``, the keys correspond to the targeted classes. The\n",
      "      values correspond to the desired number of samples for each targeted\n",
      "      class.\n",
      "\n",
      "    - When callable, function taking ``y`` and returns a ``dict``. The keys\n",
      "      correspond to the targeted classes. The values correspond to the\n",
      "      desired number of samples for each class.\n",
      "\n",
      "version : int, default=1\n",
      "    Version of the NearMiss to use. Possible values are 1, 2 or 3.\n",
      "\n",
      "n_neighbors : int or estimator object, default=3\n",
      "    If ``int``, size of the neighbourhood to consider to compute the\n",
      "    average distance to the minority point samples.  If object, an\n",
      "    estimator that inherits from\n",
      "    :class:`~sklearn.neighbors.base.KNeighborsMixin` that will be used to\n",
      "    find the k_neighbors.\n",
      "    By default, it will be a 3-NN.\n",
      "\n",
      "n_neighbors_ver3 : int or estimator object, default=3\n",
      "    If ``int``, NearMiss-3 algorithm start by a phase of re-sampling. This\n",
      "    parameter correspond to the number of neighbours selected create the\n",
      "    subset in which the selection will be performed.  If object, an\n",
      "    estimator that inherits from\n",
      "    :class:`~sklearn.neighbors.base.KNeighborsMixin` that will be used to\n",
      "    find the k_neighbors.\n",
      "    By default, it will be a 3-NN.\n",
      "\n",
      "n_jobs : int, default=None\n",
      "    Number of CPU cores used during the cross-validation loop.\n",
      "    ``None`` means 1 unless in a :obj:`joblib.parallel_backend` context.\n",
      "    ``-1`` means using all processors. See\n",
      "    `Glossary <https://scikit-learn.org/stable/glossary.html#term-n-jobs>`_\n",
      "    for more details.\n",
      "\n",
      "Attributes\n",
      "----------\n",
      "sampling_strategy_ : dict\n",
      "    Dictionary containing the information to sample the dataset. The keys\n",
      "    corresponds to the class labels from which to sample and the values\n",
      "    are the number of samples to sample.\n",
      "\n",
      "nn_ : estimator object\n",
      "    Validated K-nearest Neighbours object created from `n_neighbors` parameter.\n",
      "\n",
      "sample_indices_ : ndarray of shape (n_new_samples,)\n",
      "    Indices of the samples selected.\n",
      "\n",
      "    .. versionadded:: 0.4\n",
      "\n",
      "n_features_in_ : int\n",
      "    Number of features in the input dataset.\n",
      "\n",
      "    .. versionadded:: 0.9\n",
      "\n",
      "feature_names_in_ : ndarray of shape (`n_features_in_`,)\n",
      "    Names of features seen during `fit`. Defined only when `X` has feature\n",
      "    names that are all strings.\n",
      "\n",
      "    .. versionadded:: 0.10\n",
      "\n",
      "See Also\n",
      "--------\n",
      "RandomUnderSampler : Random undersample the dataset.\n",
      "\n",
      "InstanceHardnessThreshold : Use of classifier to undersample a dataset.\n",
      "\n",
      "Notes\n",
      "-----\n",
      "The methods are based on [1]_.\n",
      "\n",
      "Supports multi-class resampling.\n",
      "\n",
      "References\n",
      "----------\n",
      ".. [1] I. Mani, I. Zhang. \"kNN approach to unbalanced data distributions:\n",
      "   a case study involving information extraction,\" In Proceedings of\n",
      "   workshop on learning from imbalanced datasets, 2003.\n",
      "\n",
      "Examples\n",
      "--------\n",
      ">>> from collections import Counter\n",
      ">>> from sklearn.datasets import make_classification\n",
      ">>> from imblearn.under_sampling import NearMiss\n",
      ">>> X, y = make_classification(n_classes=2, class_sep=2,\n",
      "... weights=[0.1, 0.9], n_informative=3, n_redundant=1, flip_y=0,\n",
      "... n_features=20, n_clusters_per_class=1, n_samples=1000, random_state=10)\n",
      ">>> print('Original dataset shape %s' % Counter(y))\n",
      "Original dataset shape Counter({1: 900, 0: 100})\n",
      ">>> nm = NearMiss()\n",
      ">>> X_res, y_res = nm.fit_resample(X, y)\n",
      ">>> print('Resampled dataset shape %s' % Counter(y_res))\n",
      "Resampled dataset shape Counter({0: 100, 1: 100})\n",
      "\u001b[1;31mFile:\u001b[0m           c:\\users\\daniel montes\\anaconda3\\lib\\site-packages\\imblearn\\under_sampling\\_prototype_selection\\_nearmiss.py\n",
      "\u001b[1;31mType:\u001b[0m           ABCMeta\n",
      "\u001b[1;31mSubclasses:\u001b[0m     \n"
     ]
    }
   ],
   "source": [
    "NearMiss?"
   ]
  },
  {
   "cell_type": "code",
   "execution_count": 108,
   "metadata": {},
   "outputs": [],
   "source": [
    "vecinos=NearMiss(n_neighbors=3,sampling_strategy=.5)"
   ]
  },
  {
   "cell_type": "code",
   "execution_count": 97,
   "metadata": {},
   "outputs": [],
   "source": [
    "X_train,X_test,y_train,y_test=train_test_split(df.drop(columns=\"Class\"),df[\"Class\"],random_state=42)"
   ]
  },
  {
   "cell_type": "code",
   "execution_count": 109,
   "metadata": {},
   "outputs": [],
   "source": [
    "X_train_res,y_train_res=vecinos.fit_resample(X_train,y_train)"
   ]
  },
  {
   "cell_type": "code",
   "execution_count": 110,
   "metadata": {},
   "outputs": [
    {
     "data": {
      "text/plain": [
       "0    758\n",
       "1    379\n",
       "Name: Class, dtype: int64"
      ]
     },
     "execution_count": 110,
     "metadata": {},
     "output_type": "execute_result"
    }
   ],
   "source": [
    "y_train_res.value_counts()"
   ]
  },
  {
   "cell_type": "code",
   "execution_count": 106,
   "metadata": {},
   "outputs": [
    {
     "data": {
      "text/plain": [
       "0    213226\n",
       "1       379\n",
       "Name: Class, dtype: int64"
      ]
     },
     "execution_count": 106,
     "metadata": {},
     "output_type": "execute_result"
    }
   ],
   "source": [
    "y_train.value_counts()"
   ]
  },
  {
   "cell_type": "markdown",
   "metadata": {},
   "source": [
    "## Oversampling de la clase minoritaria"
   ]
  },
  {
   "cell_type": "code",
   "execution_count": 111,
   "metadata": {},
   "outputs": [],
   "source": [
    "from imblearn.over_sampling import RandomOverSampler"
   ]
  },
  {
   "cell_type": "code",
   "execution_count": 113,
   "metadata": {},
   "outputs": [
    {
     "name": "stdout",
     "output_type": "stream",
     "text": [
      "\u001b[1;31mInit signature:\u001b[0m\n",
      "\u001b[0mRandomOverSampler\u001b[0m\u001b[1;33m(\u001b[0m\u001b[1;33m\n",
      "\u001b[0m    \u001b[1;33m*\u001b[0m\u001b[1;33m,\u001b[0m\u001b[1;33m\n",
      "\u001b[0m    \u001b[0msampling_strategy\u001b[0m\u001b[1;33m=\u001b[0m\u001b[1;34m'auto'\u001b[0m\u001b[1;33m,\u001b[0m\u001b[1;33m\n",
      "\u001b[0m    \u001b[0mrandom_state\u001b[0m\u001b[1;33m=\u001b[0m\u001b[1;32mNone\u001b[0m\u001b[1;33m,\u001b[0m\u001b[1;33m\n",
      "\u001b[0m    \u001b[0mshrinkage\u001b[0m\u001b[1;33m=\u001b[0m\u001b[1;32mNone\u001b[0m\u001b[1;33m,\u001b[0m\u001b[1;33m\n",
      "\u001b[0m\u001b[1;33m)\u001b[0m\u001b[1;33m\u001b[0m\u001b[1;33m\u001b[0m\u001b[0m\n",
      "\u001b[1;31mDocstring:\u001b[0m     \n",
      "Class to perform random over-sampling.\n",
      "\n",
      "Object to over-sample the minority class(es) by picking samples at random\n",
      "with replacement. The bootstrap can be generated in a smoothed manner.\n",
      "\n",
      "Read more in the :ref:`User Guide <random_over_sampler>`.\n",
      "\n",
      "Parameters\n",
      "----------\n",
      "sampling_strategy : float, str, dict or callable, default='auto'\n",
      "    Sampling information to resample the data set.\n",
      "\n",
      "    - When ``float``, it corresponds to the desired ratio of the number of\n",
      "      samples in the minority class over the number of samples in the\n",
      "      majority class after resampling. Therefore, the ratio is expressed as\n",
      "      :math:`\\alpha_{os} = N_{rm} / N_{M}` where :math:`N_{rm}` is the\n",
      "      number of samples in the minority class after resampling and\n",
      "      :math:`N_{M}` is the number of samples in the majority class.\n",
      "\n",
      "        .. warning::\n",
      "           ``float`` is only available for **binary** classification. An\n",
      "           error is raised for multi-class classification.\n",
      "\n",
      "    - When ``str``, specify the class targeted by the resampling. The\n",
      "      number of samples in the different classes will be equalized.\n",
      "      Possible choices are:\n",
      "\n",
      "        ``'minority'``: resample only the minority class;\n",
      "\n",
      "        ``'not minority'``: resample all classes but the minority class;\n",
      "\n",
      "        ``'not majority'``: resample all classes but the majority class;\n",
      "\n",
      "        ``'all'``: resample all classes;\n",
      "\n",
      "        ``'auto'``: equivalent to ``'not majority'``.\n",
      "\n",
      "    - When ``dict``, the keys correspond to the targeted classes. The\n",
      "      values correspond to the desired number of samples for each targeted\n",
      "      class.\n",
      "\n",
      "    - When callable, function taking ``y`` and returns a ``dict``. The keys\n",
      "      correspond to the targeted classes. The values correspond to the\n",
      "      desired number of samples for each class.\n",
      "\n",
      "random_state : int, RandomState instance, default=None\n",
      "    Control the randomization of the algorithm.\n",
      "\n",
      "    - If int, ``random_state`` is the seed used by the random number\n",
      "      generator;\n",
      "    - If ``RandomState`` instance, random_state is the random number\n",
      "      generator;\n",
      "    - If ``None``, the random number generator is the ``RandomState``\n",
      "      instance used by ``np.random``.\n",
      "\n",
      "shrinkage : float or dict, default=None\n",
      "    Parameter controlling the shrinkage applied to the covariance matrix.\n",
      "    when a smoothed bootstrap is generated. The options are:\n",
      "\n",
      "    - if `None`, a normal bootstrap will be generated without perturbation.\n",
      "      It is equivalent to `shrinkage=0` as well;\n",
      "    - if a `float` is given, the shrinkage factor will be used for all\n",
      "      classes to generate the smoothed bootstrap;\n",
      "    - if a `dict` is given, the shrinkage factor will specific for each\n",
      "      class. The key correspond to the targeted class and the value is\n",
      "      the shrinkage factor.\n",
      "\n",
      "    The value needs of the shrinkage parameter needs to be higher or equal\n",
      "    to 0.\n",
      "\n",
      "    .. versionadded:: 0.8\n",
      "\n",
      "Attributes\n",
      "----------\n",
      "sampling_strategy_ : dict\n",
      "    Dictionary containing the information to sample the dataset. The keys\n",
      "    corresponds to the class labels from which to sample and the values\n",
      "    are the number of samples to sample.\n",
      "\n",
      "sample_indices_ : ndarray of shape (n_new_samples,)\n",
      "    Indices of the samples selected.\n",
      "\n",
      "    .. versionadded:: 0.4\n",
      "\n",
      "shrinkage_ : dict or None\n",
      "    The per-class shrinkage factor used to generate the smoothed bootstrap\n",
      "    sample. When `shrinkage=None` a normal bootstrap will be generated.\n",
      "\n",
      "    .. versionadded:: 0.8\n",
      "\n",
      "n_features_in_ : int\n",
      "    Number of features in the input dataset.\n",
      "\n",
      "    .. versionadded:: 0.9\n",
      "\n",
      "feature_names_in_ : ndarray of shape (`n_features_in_`,)\n",
      "    Names of features seen during `fit`. Defined only when `X` has feature\n",
      "    names that are all strings.\n",
      "\n",
      "    .. versionadded:: 0.10\n",
      "\n",
      "See Also\n",
      "--------\n",
      "BorderlineSMOTE : Over-sample using the borderline-SMOTE variant.\n",
      "\n",
      "SMOTE : Over-sample using SMOTE.\n",
      "\n",
      "SMOTENC : Over-sample using SMOTE for continuous and categorical features.\n",
      "\n",
      "SMOTEN : Over-sample using the SMOTE variant specifically for categorical\n",
      "    features only.\n",
      "\n",
      "SVMSMOTE : Over-sample using SVM-SMOTE variant.\n",
      "\n",
      "ADASYN : Over-sample using ADASYN.\n",
      "\n",
      "KMeansSMOTE : Over-sample applying a clustering before to oversample using\n",
      "    SMOTE.\n",
      "\n",
      "Notes\n",
      "-----\n",
      "Supports multi-class resampling by sampling each class independently.\n",
      "Supports heterogeneous data as object array containing string and numeric\n",
      "data.\n",
      "\n",
      "When generating a smoothed bootstrap, this method is also known as Random\n",
      "Over-Sampling Examples (ROSE) [1]_.\n",
      "\n",
      ".. warning::\n",
      "   Since smoothed bootstrap are generated by adding a small perturbation\n",
      "   to the drawn samples, this method is not adequate when working with\n",
      "   sparse matrices.\n",
      "\n",
      "References\n",
      "----------\n",
      ".. [1] G Menardi, N. Torelli, \"Training and assessing classification\n",
      "   rules with imbalanced data,\" Data Mining and Knowledge\n",
      "   Discovery, 28(1), pp.92-122, 2014.\n",
      "\n",
      "Examples\n",
      "--------\n",
      ">>> from collections import Counter\n",
      ">>> from sklearn.datasets import make_classification\n",
      ">>> from imblearn.over_sampling import RandomOverSampler\n",
      ">>> X, y = make_classification(n_classes=2, class_sep=2,\n",
      "... weights=[0.1, 0.9], n_informative=3, n_redundant=1, flip_y=0,\n",
      "... n_features=20, n_clusters_per_class=1, n_samples=1000, random_state=10)\n",
      ">>> print('Original dataset shape %s' % Counter(y))\n",
      "Original dataset shape Counter({1: 900, 0: 100})\n",
      ">>> ros = RandomOverSampler(random_state=42)\n",
      ">>> X_res, y_res = ros.fit_resample(X, y)\n",
      ">>> print('Resampled dataset shape %s' % Counter(y_res))\n",
      "Resampled dataset shape Counter({0: 900, 1: 900})\n",
      "\u001b[1;31mFile:\u001b[0m           c:\\users\\daniel montes\\anaconda3\\lib\\site-packages\\imblearn\\over_sampling\\_random_over_sampler.py\n",
      "\u001b[1;31mType:\u001b[0m           ABCMeta\n",
      "\u001b[1;31mSubclasses:\u001b[0m     \n"
     ]
    }
   ],
   "source": [
    "RandomOverSampler?"
   ]
  },
  {
   "cell_type": "code",
   "execution_count": 118,
   "metadata": {},
   "outputs": [],
   "source": [
    "ROS=RandomOverSampler(sampling_strategy=1,random_state=42)"
   ]
  },
  {
   "cell_type": "code",
   "execution_count": 119,
   "metadata": {},
   "outputs": [],
   "source": [
    "X_train_ros,y_train_ros=ROS.fit_resample(X_train,y_train)"
   ]
  },
  {
   "cell_type": "code",
   "execution_count": 120,
   "metadata": {},
   "outputs": [
    {
     "data": {
      "text/plain": [
       "0    213226\n",
       "1    213226\n",
       "Name: Class, dtype: int64"
      ]
     },
     "execution_count": 120,
     "metadata": {},
     "output_type": "execute_result"
    }
   ],
   "source": [
    "y_train_ros.value_counts()"
   ]
  },
  {
   "cell_type": "code",
   "execution_count": 121,
   "metadata": {},
   "outputs": [],
   "source": [
    "X_train_ros[\"Target\"]=y_train_ros"
   ]
  },
  {
   "cell_type": "code",
   "execution_count": 123,
   "metadata": {},
   "outputs": [
    {
     "data": {
      "text/html": [
       "<div>\n",
       "<style scoped>\n",
       "    .dataframe tbody tr th:only-of-type {\n",
       "        vertical-align: middle;\n",
       "    }\n",
       "\n",
       "    .dataframe tbody tr th {\n",
       "        vertical-align: top;\n",
       "    }\n",
       "\n",
       "    .dataframe thead th {\n",
       "        text-align: right;\n",
       "    }\n",
       "</style>\n",
       "<table border=\"1\" class=\"dataframe\">\n",
       "  <thead>\n",
       "    <tr style=\"text-align: right;\">\n",
       "      <th></th>\n",
       "      <th>Time</th>\n",
       "      <th>V1</th>\n",
       "      <th>V2</th>\n",
       "      <th>V3</th>\n",
       "      <th>V4</th>\n",
       "      <th>V5</th>\n",
       "      <th>V6</th>\n",
       "      <th>V7</th>\n",
       "      <th>V8</th>\n",
       "      <th>V9</th>\n",
       "      <th>...</th>\n",
       "      <th>V21</th>\n",
       "      <th>V22</th>\n",
       "      <th>V23</th>\n",
       "      <th>V24</th>\n",
       "      <th>V25</th>\n",
       "      <th>V26</th>\n",
       "      <th>V27</th>\n",
       "      <th>V28</th>\n",
       "      <th>Amount</th>\n",
       "      <th>Target</th>\n",
       "    </tr>\n",
       "  </thead>\n",
       "  <tbody>\n",
       "    <tr>\n",
       "      <th>90</th>\n",
       "      <td>121238.0</td>\n",
       "      <td>-2.628922</td>\n",
       "      <td>2.275636</td>\n",
       "      <td>-3.745369</td>\n",
       "      <td>1.226948</td>\n",
       "      <td>-1.132966</td>\n",
       "      <td>-1.256353</td>\n",
       "      <td>-1.752420</td>\n",
       "      <td>0.281736</td>\n",
       "      <td>-1.792343</td>\n",
       "      <td>...</td>\n",
       "      <td>0.870730</td>\n",
       "      <td>1.269473</td>\n",
       "      <td>-0.265494</td>\n",
       "      <td>-0.480549</td>\n",
       "      <td>0.169665</td>\n",
       "      <td>0.096081</td>\n",
       "      <td>0.070036</td>\n",
       "      <td>0.063768</td>\n",
       "      <td>144.62</td>\n",
       "      <td>1</td>\n",
       "    </tr>\n",
       "    <tr>\n",
       "      <th>1219</th>\n",
       "      <td>26523.0</td>\n",
       "      <td>-18.474868</td>\n",
       "      <td>11.586381</td>\n",
       "      <td>-21.402917</td>\n",
       "      <td>6.038515</td>\n",
       "      <td>-14.451158</td>\n",
       "      <td>-4.146524</td>\n",
       "      <td>-14.856124</td>\n",
       "      <td>12.431140</td>\n",
       "      <td>-4.053353</td>\n",
       "      <td>...</td>\n",
       "      <td>1.741136</td>\n",
       "      <td>-1.251138</td>\n",
       "      <td>-0.396219</td>\n",
       "      <td>0.095706</td>\n",
       "      <td>1.322751</td>\n",
       "      <td>-0.217955</td>\n",
       "      <td>1.628793</td>\n",
       "      <td>0.482248</td>\n",
       "      <td>99.99</td>\n",
       "      <td>1</td>\n",
       "    </tr>\n",
       "    <tr>\n",
       "      <th>1468</th>\n",
       "      <td>26931.0</td>\n",
       "      <td>-22.561699</td>\n",
       "      <td>13.208904</td>\n",
       "      <td>-24.643819</td>\n",
       "      <td>6.232532</td>\n",
       "      <td>-16.905611</td>\n",
       "      <td>-4.497439</td>\n",
       "      <td>-16.810184</td>\n",
       "      <td>14.955107</td>\n",
       "      <td>-3.871297</td>\n",
       "      <td>...</td>\n",
       "      <td>1.765987</td>\n",
       "      <td>-1.635517</td>\n",
       "      <td>-0.998317</td>\n",
       "      <td>0.138972</td>\n",
       "      <td>1.559350</td>\n",
       "      <td>-0.222125</td>\n",
       "      <td>1.504425</td>\n",
       "      <td>0.445920</td>\n",
       "      <td>99.99</td>\n",
       "      <td>1</td>\n",
       "    </tr>\n",
       "    <tr>\n",
       "      <th>2033</th>\n",
       "      <td>11131.0</td>\n",
       "      <td>-1.426623</td>\n",
       "      <td>4.141986</td>\n",
       "      <td>-9.804103</td>\n",
       "      <td>6.666273</td>\n",
       "      <td>-4.749527</td>\n",
       "      <td>-2.073129</td>\n",
       "      <td>-10.089931</td>\n",
       "      <td>2.791345</td>\n",
       "      <td>-3.249516</td>\n",
       "      <td>...</td>\n",
       "      <td>1.865679</td>\n",
       "      <td>0.407809</td>\n",
       "      <td>0.605809</td>\n",
       "      <td>-0.769348</td>\n",
       "      <td>-1.746337</td>\n",
       "      <td>0.502040</td>\n",
       "      <td>1.977258</td>\n",
       "      <td>0.711607</td>\n",
       "      <td>1.00</td>\n",
       "      <td>1</td>\n",
       "    </tr>\n",
       "    <tr>\n",
       "      <th>3678</th>\n",
       "      <td>94364.0</td>\n",
       "      <td>-15.192064</td>\n",
       "      <td>10.432528</td>\n",
       "      <td>-19.629515</td>\n",
       "      <td>8.046075</td>\n",
       "      <td>-12.838167</td>\n",
       "      <td>-1.875859</td>\n",
       "      <td>-21.359738</td>\n",
       "      <td>-3.717850</td>\n",
       "      <td>-5.969782</td>\n",
       "      <td>...</td>\n",
       "      <td>-3.474097</td>\n",
       "      <td>1.765446</td>\n",
       "      <td>1.701257</td>\n",
       "      <td>0.381587</td>\n",
       "      <td>-1.413417</td>\n",
       "      <td>-1.023078</td>\n",
       "      <td>-2.634761</td>\n",
       "      <td>-0.463931</td>\n",
       "      <td>1.00</td>\n",
       "      <td>1</td>\n",
       "    </tr>\n",
       "  </tbody>\n",
       "</table>\n",
       "<p>5 rows × 31 columns</p>\n",
       "</div>"
      ],
      "text/plain": [
       "          Time         V1         V2         V3        V4         V5  \\\n",
       "90    121238.0  -2.628922   2.275636  -3.745369  1.226948  -1.132966   \n",
       "1219   26523.0 -18.474868  11.586381 -21.402917  6.038515 -14.451158   \n",
       "1468   26931.0 -22.561699  13.208904 -24.643819  6.232532 -16.905611   \n",
       "2033   11131.0  -1.426623   4.141986  -9.804103  6.666273  -4.749527   \n",
       "3678   94364.0 -15.192064  10.432528 -19.629515  8.046075 -12.838167   \n",
       "\n",
       "            V6         V7         V8        V9  ...       V21       V22  \\\n",
       "90   -1.256353  -1.752420   0.281736 -1.792343  ...  0.870730  1.269473   \n",
       "1219 -4.146524 -14.856124  12.431140 -4.053353  ...  1.741136 -1.251138   \n",
       "1468 -4.497439 -16.810184  14.955107 -3.871297  ...  1.765987 -1.635517   \n",
       "2033 -2.073129 -10.089931   2.791345 -3.249516  ...  1.865679  0.407809   \n",
       "3678 -1.875859 -21.359738  -3.717850 -5.969782  ... -3.474097  1.765446   \n",
       "\n",
       "           V23       V24       V25       V26       V27       V28  Amount  \\\n",
       "90   -0.265494 -0.480549  0.169665  0.096081  0.070036  0.063768  144.62   \n",
       "1219 -0.396219  0.095706  1.322751 -0.217955  1.628793  0.482248   99.99   \n",
       "1468 -0.998317  0.138972  1.559350 -0.222125  1.504425  0.445920   99.99   \n",
       "2033  0.605809 -0.769348 -1.746337  0.502040  1.977258  0.711607    1.00   \n",
       "3678  1.701257  0.381587 -1.413417 -1.023078 -2.634761 -0.463931    1.00   \n",
       "\n",
       "      Target  \n",
       "90         1  \n",
       "1219       1  \n",
       "1468       1  \n",
       "2033       1  \n",
       "3678       1  \n",
       "\n",
       "[5 rows x 31 columns]"
      ]
     },
     "execution_count": 123,
     "metadata": {},
     "output_type": "execute_result"
    }
   ],
   "source": [
    "X_train_ros[X_train_ros[\"Target\"]==1].head()"
   ]
  },
  {
   "cell_type": "code",
   "execution_count": 124,
   "metadata": {},
   "outputs": [],
   "source": [
    "from imblearn.combine import SMOTETomek"
   ]
  },
  {
   "cell_type": "code",
   "execution_count": 125,
   "metadata": {},
   "outputs": [
    {
     "name": "stdout",
     "output_type": "stream",
     "text": [
      "\u001b[1;31mInit signature:\u001b[0m\n",
      "\u001b[0mSMOTETomek\u001b[0m\u001b[1;33m(\u001b[0m\u001b[1;33m\n",
      "\u001b[0m    \u001b[1;33m*\u001b[0m\u001b[1;33m,\u001b[0m\u001b[1;33m\n",
      "\u001b[0m    \u001b[0msampling_strategy\u001b[0m\u001b[1;33m=\u001b[0m\u001b[1;34m'auto'\u001b[0m\u001b[1;33m,\u001b[0m\u001b[1;33m\n",
      "\u001b[0m    \u001b[0mrandom_state\u001b[0m\u001b[1;33m=\u001b[0m\u001b[1;32mNone\u001b[0m\u001b[1;33m,\u001b[0m\u001b[1;33m\n",
      "\u001b[0m    \u001b[0msmote\u001b[0m\u001b[1;33m=\u001b[0m\u001b[1;32mNone\u001b[0m\u001b[1;33m,\u001b[0m\u001b[1;33m\n",
      "\u001b[0m    \u001b[0mtomek\u001b[0m\u001b[1;33m=\u001b[0m\u001b[1;32mNone\u001b[0m\u001b[1;33m,\u001b[0m\u001b[1;33m\n",
      "\u001b[0m    \u001b[0mn_jobs\u001b[0m\u001b[1;33m=\u001b[0m\u001b[1;32mNone\u001b[0m\u001b[1;33m,\u001b[0m\u001b[1;33m\n",
      "\u001b[0m\u001b[1;33m)\u001b[0m\u001b[1;33m\u001b[0m\u001b[1;33m\u001b[0m\u001b[0m\n",
      "\u001b[1;31mDocstring:\u001b[0m     \n",
      "Over-sampling using SMOTE and cleaning using Tomek links.\n",
      "\n",
      "Combine over- and under-sampling using SMOTE and Tomek links.\n",
      "\n",
      "Read more in the :ref:`User Guide <combine>`.\n",
      "\n",
      "Parameters\n",
      "----------\n",
      "sampling_strategy : float, str, dict or callable, default='auto'\n",
      "    Sampling information to resample the data set.\n",
      "\n",
      "    - When ``float``, it corresponds to the desired ratio of the number of\n",
      "      samples in the minority class over the number of samples in the\n",
      "      majority class after resampling. Therefore, the ratio is expressed as\n",
      "      :math:`\\alpha_{os} = N_{rm} / N_{M}` where :math:`N_{rm}` is the\n",
      "      number of samples in the minority class after resampling and\n",
      "      :math:`N_{M}` is the number of samples in the majority class.\n",
      "\n",
      "        .. warning::\n",
      "           ``float`` is only available for **binary** classification. An\n",
      "           error is raised for multi-class classification.\n",
      "\n",
      "    - When ``str``, specify the class targeted by the resampling. The\n",
      "      number of samples in the different classes will be equalized.\n",
      "      Possible choices are:\n",
      "\n",
      "        ``'minority'``: resample only the minority class;\n",
      "\n",
      "        ``'not minority'``: resample all classes but the minority class;\n",
      "\n",
      "        ``'not majority'``: resample all classes but the majority class;\n",
      "\n",
      "        ``'all'``: resample all classes;\n",
      "\n",
      "        ``'auto'``: equivalent to ``'not majority'``.\n",
      "\n",
      "    - When ``dict``, the keys correspond to the targeted classes. The\n",
      "      values correspond to the desired number of samples for each targeted\n",
      "      class.\n",
      "\n",
      "    - When callable, function taking ``y`` and returns a ``dict``. The keys\n",
      "      correspond to the targeted classes. The values correspond to the\n",
      "      desired number of samples for each class.\n",
      "\n",
      "random_state : int, RandomState instance, default=None\n",
      "    Control the randomization of the algorithm.\n",
      "\n",
      "    - If int, ``random_state`` is the seed used by the random number\n",
      "      generator;\n",
      "    - If ``RandomState`` instance, random_state is the random number\n",
      "      generator;\n",
      "    - If ``None``, the random number generator is the ``RandomState``\n",
      "      instance used by ``np.random``.\n",
      "\n",
      "smote : sampler object, default=None\n",
      "    The :class:`~imblearn.over_sampling.SMOTE` object to use. If not given,\n",
      "    a :class:`~imblearn.over_sampling.SMOTE` object with default parameters\n",
      "    will be given.\n",
      "\n",
      "tomek : sampler object, default=None\n",
      "    The :class:`~imblearn.under_sampling.TomekLinks` object to use. If not\n",
      "    given, a :class:`~imblearn.under_sampling.TomekLinks` object with\n",
      "    sampling strategy='all' will be given.\n",
      "\n",
      "n_jobs : int, default=None\n",
      "    Number of CPU cores used during the cross-validation loop.\n",
      "    ``None`` means 1 unless in a :obj:`joblib.parallel_backend` context.\n",
      "    ``-1`` means using all processors. See\n",
      "    `Glossary <https://scikit-learn.org/stable/glossary.html#term-n-jobs>`_\n",
      "    for more details.\n",
      "\n",
      "Attributes\n",
      "----------\n",
      "sampling_strategy_ : dict\n",
      "    Dictionary containing the information to sample the dataset. The keys\n",
      "    corresponds to the class labels from which to sample and the values\n",
      "    are the number of samples to sample.\n",
      "\n",
      "smote_ : sampler object\n",
      "    The validated :class:`~imblearn.over_sampling.SMOTE` instance.\n",
      "\n",
      "tomek_ : sampler object\n",
      "    The validated :class:`~imblearn.under_sampling.TomekLinks` instance.\n",
      "\n",
      "n_features_in_ : int\n",
      "    Number of features in the input dataset.\n",
      "\n",
      "    .. versionadded:: 0.9\n",
      "\n",
      "feature_names_in_ : ndarray of shape (`n_features_in_`,)\n",
      "    Names of features seen during `fit`. Defined only when `X` has feature\n",
      "    names that are all strings.\n",
      "\n",
      "    .. versionadded:: 0.10\n",
      "\n",
      "See Also\n",
      "--------\n",
      "SMOTEENN : Over-sample using SMOTE followed by under-sampling using Edited\n",
      "    Nearest Neighbours.\n",
      "\n",
      "Notes\n",
      "-----\n",
      "The method is presented in [1]_.\n",
      "\n",
      "Supports multi-class resampling. Refer to SMOTE and TomekLinks regarding\n",
      "the scheme which used.\n",
      "\n",
      "References\n",
      "----------\n",
      ".. [1] G. Batista, B. Bazzan, M. Monard, \"Balancing Training Data for\n",
      "   Automated Annotation of Keywords: a Case Study,\" In WOB, 10-18, 2003.\n",
      "\n",
      "Examples\n",
      "--------\n",
      "\n",
      ">>> from collections import Counter\n",
      ">>> from sklearn.datasets import make_classification\n",
      ">>> from imblearn.combine import SMOTETomek\n",
      ">>> X, y = make_classification(n_classes=2, class_sep=2,\n",
      "... weights=[0.1, 0.9], n_informative=3, n_redundant=1, flip_y=0,\n",
      "... n_features=20, n_clusters_per_class=1, n_samples=1000, random_state=10)\n",
      ">>> print('Original dataset shape %s' % Counter(y))\n",
      "Original dataset shape Counter({1: 900, 0: 100})\n",
      ">>> smt = SMOTETomek(random_state=42)\n",
      ">>> X_res, y_res = smt.fit_resample(X, y)\n",
      ">>> print('Resampled dataset shape %s' % Counter(y_res))\n",
      "Resampled dataset shape Counter({0: 900, 1: 900})\n",
      "\u001b[1;31mFile:\u001b[0m           c:\\users\\daniel montes\\anaconda3\\lib\\site-packages\\imblearn\\combine\\_smote_tomek.py\n",
      "\u001b[1;31mType:\u001b[0m           ABCMeta\n",
      "\u001b[1;31mSubclasses:\u001b[0m     \n"
     ]
    }
   ],
   "source": [
    "SMOTETomek?"
   ]
  },
  {
   "cell_type": "code",
   "execution_count": 126,
   "metadata": {},
   "outputs": [],
   "source": [
    "Smo=SMOTETomek(sampling_strategy=1,random_state=42)"
   ]
  },
  {
   "cell_type": "code",
   "execution_count": 127,
   "metadata": {},
   "outputs": [],
   "source": [
    "X_train_ros,y_train_ros=Smo.fit_resample(X_train,y_train)"
   ]
  },
  {
   "cell_type": "code",
   "execution_count": null,
   "metadata": {},
   "outputs": [],
   "source": [
    "y_train_ros.value_counts()"
   ]
  },
  {
   "cell_type": "code",
   "execution_count": null,
   "metadata": {},
   "outputs": [],
   "source": [
    "from imblearn.ensemble import BalancedBaggingClassifier"
   ]
  },
  {
   "cell_type": "markdown",
   "metadata": {},
   "source": [
    "BalancedBaggingClassifier\n",
    "pasarle como parametro--> Modelo utilizar a predecir, sampling_strategy, random_state"
   ]
  },
  {
   "cell_type": "code",
   "execution_count": null,
   "metadata": {},
   "outputs": [],
   "source": [
    "Balanceado=BalancedBaggingClassifier(DecisionTreeClassifier(),sampling_strategy=.5,random_state=42)"
   ]
  },
  {
   "cell_type": "code",
   "execution_count": null,
   "metadata": {},
   "outputs": [],
   "source": [
    "Balanceado.fit(X_train,y_train)"
   ]
  },
  {
   "cell_type": "code",
   "execution_count": null,
   "metadata": {},
   "outputs": [],
   "source": [
    "y_pred_bal=Balanceado.predict(X_test)"
   ]
  },
  {
   "cell_type": "code",
   "execution_count": null,
   "metadata": {},
   "outputs": [],
   "source": [
    "precision_score(y_test,y_pred_bal)"
   ]
  },
  {
   "cell_type": "code",
   "execution_count": null,
   "metadata": {},
   "outputs": [],
   "source": [
    "recall_score(y_test,y_pred_bal)"
   ]
  }
 ],
 "metadata": {
  "kernelspec": {
   "display_name": "base",
   "language": "python",
   "name": "python3"
  },
  "language_info": {
   "codemirror_mode": {
    "name": "ipython",
    "version": 3
   },
   "file_extension": ".py",
   "mimetype": "text/x-python",
   "name": "python",
   "nbconvert_exporter": "python",
   "pygments_lexer": "ipython3",
   "version": "3.9.12"
  },
  "orig_nbformat": 4
 },
 "nbformat": 4,
 "nbformat_minor": 2
}
