{
 "cells": [
  {
   "cell_type": "code",
   "execution_count": null,
   "metadata": {},
   "outputs": [],
   "source": [
    "import pandas as pd\n",
    "import numpy as np\n",
    "import matplotlib.pyplot as plt\n",
    "from sklearn.datasets import fetch_lfw_people"
   ]
  },
  {
   "cell_type": "code",
   "execution_count": null,
   "metadata": {},
   "outputs": [],
   "source": [
    "fotos=fetch_lfw_people(min_faces_per_person=20, resize=0.7)"
   ]
  },
  {
   "cell_type": "code",
   "execution_count": null,
   "metadata": {},
   "outputs": [],
   "source": [
    "fotos"
   ]
  },
  {
   "cell_type": "code",
   "execution_count": null,
   "metadata": {},
   "outputs": [],
   "source": [
    "imagen_formato=fotos.images[0].shape"
   ]
  },
  {
   "cell_type": "code",
   "execution_count": null,
   "metadata": {},
   "outputs": [],
   "source": [
    "imagen_formato"
   ]
  },
  {
   "cell_type": "code",
   "execution_count": null,
   "metadata": {},
   "outputs": [],
   "source": [
    "## TENSOR\n",
    "fotos.images.shape"
   ]
  },
  {
   "cell_type": "code",
   "execution_count": null,
   "metadata": {},
   "outputs": [],
   "source": [
    "fig, axes = plt.subplots(2,5,figsize=(15,10))\n",
    "for target, imagen, ax in zip(fotos.target,fotos.images,axes.ravel()):\n",
    "    ax.imshow(imagen)\n",
    "    ax.set_title(fotos.target_names[target])"
   ]
  },
  {
   "cell_type": "code",
   "execution_count": null,
   "metadata": {},
   "outputs": [],
   "source": [
    "fotos.target.shape"
   ]
  },
  {
   "cell_type": "code",
   "execution_count": null,
   "metadata": {},
   "outputs": [],
   "source": [
    "pd.DataFrame(fotos.target).value_counts()"
   ]
  },
  {
   "cell_type": "code",
   "execution_count": null,
   "metadata": {},
   "outputs": [],
   "source": [
    "from sklearn.neighbors import KNeighborsClassifier\n",
    "from sklearn.model_selection import train_test_split\n",
    "X_train,X_test,y_train,y_test=train_test_split(fotos.data,fotos.target,stratify=fotos.target,random_state=1234)"
   ]
  },
  {
   "cell_type": "code",
   "execution_count": null,
   "metadata": {},
   "outputs": [],
   "source": [
    "knn=KNeighborsClassifier(n_neighbors=5)\n",
    "knn.fit(X_train,y_train)"
   ]
  },
  {
   "cell_type": "code",
   "execution_count": null,
   "metadata": {},
   "outputs": [],
   "source": [
    "knn.score(X_test,y_test)"
   ]
  },
  {
   "cell_type": "code",
   "execution_count": null,
   "metadata": {},
   "outputs": [],
   "source": [
    "knn.score(X_train,y_train)"
   ]
  },
  {
   "cell_type": "markdown",
   "metadata": {},
   "source": [
    "El modelo está algo sobreentrenado"
   ]
  },
  {
   "cell_type": "code",
   "execution_count": null,
   "metadata": {},
   "outputs": [],
   "source": [
    "#### Vamos a utilizar PCA\n",
    "from sklearn.decomposition import PCA"
   ]
  },
  {
   "cell_type": "code",
   "execution_count": null,
   "metadata": {},
   "outputs": [],
   "source": [
    "X_train.shape"
   ]
  },
  {
   "cell_type": "code",
   "execution_count": null,
   "metadata": {},
   "outputs": [],
   "source": [
    "### Vamos a probar con 100 200 500"
   ]
  },
  {
   "cell_type": "code",
   "execution_count": null,
   "metadata": {},
   "outputs": [],
   "source": [
    "pca_100=PCA(n_components=100).fit(X_train)\n",
    "pca_200=PCA(n_components=200).fit(X_train)\n",
    "pca_500=PCA(n_components=500).fit(X_train)\n",
    "########\n",
    "X_train_100=pca_100.transform(X_train)\n",
    "X_test_100=pca_100.transform(X_test)\n",
    "X_train_200=pca_200.transform(X_train)\n",
    "X_test_200=pca_200.transform(X_test)\n",
    "X_train_500=pca_500.transform(X_train)\n",
    "X_test_500=pca_500.transform(X_test)"
   ]
  },
  {
   "cell_type": "code",
   "execution_count": null,
   "metadata": {},
   "outputs": [],
   "source": [
    "kkn_100=KNeighborsClassifier(n_neighbors=5)\n",
    "kkn_200=KNeighborsClassifier(n_neighbors=5)\n",
    "kkn_500=KNeighborsClassifier(n_neighbors=5)"
   ]
  },
  {
   "cell_type": "code",
   "execution_count": null,
   "metadata": {},
   "outputs": [],
   "source": [
    "kkn_100.fit(X_train_100,y_train)\n",
    "kkn_200.fit(X_train_200,y_train)\n",
    "kkn_500.fit(X_train_500,y_train)"
   ]
  },
  {
   "cell_type": "code",
   "execution_count": null,
   "metadata": {},
   "outputs": [],
   "source": [
    "print(kkn_100.score(X_train_100,y_train))\n",
    "print(kkn_200.score(X_train_200,y_train))\n",
    "print(kkn_500.score(X_train_500,y_train))"
   ]
  },
  {
   "cell_type": "code",
   "execution_count": null,
   "metadata": {},
   "outputs": [],
   "source": [
    "print(kkn_100.score(X_test_100,y_test))\n",
    "print(kkn_200.score(X_test_200,y_test))\n",
    "print(kkn_500.score(X_test_500,y_test))"
   ]
  },
  {
   "cell_type": "code",
   "execution_count": null,
   "metadata": {},
   "outputs": [],
   "source": [
    "pca_Total=PCA(n_components=2267).fit(X_train)"
   ]
  },
  {
   "cell_type": "code",
   "execution_count": null,
   "metadata": {},
   "outputs": [],
   "source": [
    "pca_Total.explained_variance_ratio_"
   ]
  },
  {
   "cell_type": "code",
   "execution_count": null,
   "metadata": {},
   "outputs": [],
   "source": [
    "sum(pca_Total.explained_variance_ratio_[0:500])*100"
   ]
  },
  {
   "cell_type": "code",
   "execution_count": null,
   "metadata": {},
   "outputs": [],
   "source": [
    "sum(pca_Total.explained_variance_ratio_[0:200])*100"
   ]
  },
  {
   "cell_type": "code",
   "execution_count": null,
   "metadata": {},
   "outputs": [],
   "source": [
    "sum(pca_Total.explained_variance_ratio_[0:100])*100"
   ]
  },
  {
   "cell_type": "code",
   "execution_count": null,
   "metadata": {},
   "outputs": [],
   "source": [
    "plt.plot(np.cumsum(pca_Total.explained_variance_ratio_))\n",
    "plt.xlabel(\"Número de componentes\")\n",
    "plt.ylabel(\"ACumulado de varianza explicada\")"
   ]
  },
  {
   "cell_type": "code",
   "execution_count": null,
   "metadata": {},
   "outputs": [],
   "source": [
    "from urllib import request"
   ]
  },
  {
   "attachments": {},
   "cell_type": "markdown",
   "metadata": {},
   "source": [
    "![](https://live.staticflickr.com/1573/26146921423_29f9a86f2b_c.jpg)"
   ]
  },
  {
   "cell_type": "code",
   "execution_count": null,
   "metadata": {},
   "outputs": [],
   "source": [
    "url=\"https://live.staticflickr.com/1573/26146921423_29f9a86f2b_c.jpg\"\n",
    "Martin=request.urlopen(url).read()"
   ]
  },
  {
   "cell_type": "code",
   "execution_count": null,
   "metadata": {},
   "outputs": [],
   "source": [
    "Martin"
   ]
  },
  {
   "cell_type": "code",
   "execution_count": null,
   "metadata": {},
   "outputs": [],
   "source": [
    "Martin_Foto=open(\"Foto_PCA.jpg\",\"wb\")\n",
    "Martin_Foto.write(Martin)\n",
    "Martin_Foto.close()"
   ]
  },
  {
   "cell_type": "code",
   "execution_count": null,
   "metadata": {},
   "outputs": [],
   "source": [
    "Martin_LK=plt.imread(\"Foto_PCA.jpg\")\n",
    "Martin_LK.shape"
   ]
  },
  {
   "cell_type": "code",
   "execution_count": null,
   "metadata": {},
   "outputs": [],
   "source": [
    "plt.subplot(2,2,1)\n",
    "plt.title(\"Canal Rojo\")\n",
    "plt.imshow(Martin_LK[:,:,0])\n",
    "plt.subplot(222)\n",
    "plt.title(\"Canal Verde\")\n",
    "plt.imshow(Martin_LK[:,:,1])\n",
    "plt.subplot(223)\n",
    "plt.title(\"Canal Azul\")\n",
    "plt.imshow(Martin_LK[:,:,2])\n",
    "plt.subplot(224)\n",
    "plt.title(\"Canal Grises\")\n",
    "plt.imshow(Martin_LK[:,:,0],cmap=plt.cm.Greys_r)"
   ]
  },
  {
   "cell_type": "code",
   "execution_count": null,
   "metadata": {},
   "outputs": [],
   "source": [
    "Martin_G=Martin_LK[:,:,0]"
   ]
  },
  {
   "attachments": {},
   "cell_type": "markdown",
   "metadata": {},
   "source": [
    "![](https://www.interactivechaos.com/sites/default/files/data/sunset.png)"
   ]
  },
  {
   "cell_type": "code",
   "execution_count": null,
   "metadata": {},
   "outputs": [],
   "source": [
    "img=plt.imread(\"https://www.interactivechaos.com/sites/default/files/data/sunset.png\")"
   ]
  },
  {
   "cell_type": "code",
   "execution_count": null,
   "metadata": {},
   "outputs": [],
   "source": [
    "img.shape"
   ]
  },
  {
   "cell_type": "code",
   "execution_count": null,
   "metadata": {},
   "outputs": [],
   "source": [
    "plt.subplot(2,2,1)\n",
    "plt.title(\"Canal Rojo\")\n",
    "plt.imshow(img[:,:,0])\n",
    "plt.subplot(222)\n",
    "plt.title(\"Canal Verde\")\n",
    "plt.imshow(img[:,:,1])\n",
    "plt.subplot(223)\n",
    "plt.title(\"Canal Azul\")\n",
    "plt.imshow(img[:,:,2])\n",
    "plt.subplot(224)\n",
    "plt.title(\"Canal Grises\")\n",
    "plt.imshow(img[:,:,3])"
   ]
  },
  {
   "cell_type": "code",
   "execution_count": null,
   "metadata": {},
   "outputs": [],
   "source": [
    "### Retoamamos con Martin"
   ]
  },
  {
   "cell_type": "code",
   "execution_count": null,
   "metadata": {},
   "outputs": [],
   "source": [
    "for i in range(10,425,50):\n",
    "    pca=PCA(n_components=i)\n",
    "    foto=pca.fit_transform(Martin_G)\n",
    "    plt.imshow(pca.inverse_transform(foto))\n",
    "    plt.title(u\"Número de componentes es %s\" %str(i))\n",
    "    plt.show()"
   ]
  },
  {
   "cell_type": "code",
   "execution_count": null,
   "metadata": {},
   "outputs": [],
   "source": [
    "pca=PCA()\n",
    "pca.fit(Martin_G)\n",
    "varianza=pca.explained_variance_ratio_\n",
    "varianza_acumualada=np.cumsum(varianza)\n",
    "plt.bar(range(len(varianza)),varianza)\n",
    "plt.plot(range(len(varianza)),varianza_acumualada)\n",
    "plt.show();"
   ]
  },
  {
   "cell_type": "code",
   "execution_count": null,
   "metadata": {},
   "outputs": [],
   "source": []
  }
 ],
 "metadata": {
  "kernelspec": {
   "display_name": "base",
   "language": "python",
   "name": "python3"
  },
  "language_info": {
   "codemirror_mode": {
    "name": "ipython",
    "version": 3
   },
   "file_extension": ".py",
   "mimetype": "text/x-python",
   "name": "python",
   "nbconvert_exporter": "python",
   "pygments_lexer": "ipython3",
   "version": "3.9.12"
  },
  "orig_nbformat": 4,
  "vscode": {
   "interpreter": {
    "hash": "93b270aff94e38196a98effae74ed121e7c4be36a010106ff9b6f6d47d6f1709"
   }
  }
 },
 "nbformat": 4,
 "nbformat_minor": 2
}
