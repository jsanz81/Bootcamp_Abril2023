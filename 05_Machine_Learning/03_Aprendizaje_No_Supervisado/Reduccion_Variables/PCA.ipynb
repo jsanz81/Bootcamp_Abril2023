{
  "cells": [
    {
      "cell_type": "code",
      "execution_count": 6,
      "metadata": {
        "id": "jXVBX6V1MZKK"
      },
      "outputs": [],
      "source": [
        "import pandas as pd\n",
        "import numpy as np\n",
        "import matplotlib.pyplot as plt"
      ]
    },
    {
      "cell_type": "code",
      "execution_count": 7,
      "metadata": {
        "id": "gH40uEj0Mz0z"
      },
      "outputs": [],
      "source": [
        "from sklearn.datasets import load_iris"
      ]
    },
    {
      "cell_type": "code",
      "execution_count": 8,
      "metadata": {
        "id": "FkBaQSJdM2KB"
      },
      "outputs": [],
      "source": [
        "iris=load_iris()"
      ]
    },
    {
      "cell_type": "code",
      "execution_count": null,
      "metadata": {},
      "outputs": [],
      "source": []
    },
    {
      "cell_type": "code",
      "execution_count": 9,
      "metadata": {
        "id": "AykdPjPVOWH5"
      },
      "outputs": [],
      "source": [
        "datos=pd.DataFrame(data=iris.data,columns=iris.feature_names)"
      ]
    },
    {
      "cell_type": "code",
      "execution_count": 10,
      "metadata": {
        "id": "rMH4hQOkM60E"
      },
      "outputs": [],
      "source": [
        "from sklearn.decomposition import PCA"
      ]
    },
    {
      "cell_type": "code",
      "execution_count": 11,
      "metadata": {
        "id": "Qj7YANMqNfo3"
      },
      "outputs": [
        {
          "name": "stdout",
          "output_type": "stream",
          "text": [
            "\u001b[1;31mInit signature:\u001b[0m\n",
            "\u001b[0mPCA\u001b[0m\u001b[1;33m(\u001b[0m\u001b[1;33m\n",
            "\u001b[0m    \u001b[0mn_components\u001b[0m\u001b[1;33m=\u001b[0m\u001b[1;32mNone\u001b[0m\u001b[1;33m,\u001b[0m\u001b[1;33m\n",
            "\u001b[0m    \u001b[1;33m*\u001b[0m\u001b[1;33m,\u001b[0m\u001b[1;33m\n",
            "\u001b[0m    \u001b[0mcopy\u001b[0m\u001b[1;33m=\u001b[0m\u001b[1;32mTrue\u001b[0m\u001b[1;33m,\u001b[0m\u001b[1;33m\n",
            "\u001b[0m    \u001b[0mwhiten\u001b[0m\u001b[1;33m=\u001b[0m\u001b[1;32mFalse\u001b[0m\u001b[1;33m,\u001b[0m\u001b[1;33m\n",
            "\u001b[0m    \u001b[0msvd_solver\u001b[0m\u001b[1;33m=\u001b[0m\u001b[1;34m'auto'\u001b[0m\u001b[1;33m,\u001b[0m\u001b[1;33m\n",
            "\u001b[0m    \u001b[0mtol\u001b[0m\u001b[1;33m=\u001b[0m\u001b[1;36m0.0\u001b[0m\u001b[1;33m,\u001b[0m\u001b[1;33m\n",
            "\u001b[0m    \u001b[0miterated_power\u001b[0m\u001b[1;33m=\u001b[0m\u001b[1;34m'auto'\u001b[0m\u001b[1;33m,\u001b[0m\u001b[1;33m\n",
            "\u001b[0m    \u001b[0mrandom_state\u001b[0m\u001b[1;33m=\u001b[0m\u001b[1;32mNone\u001b[0m\u001b[1;33m,\u001b[0m\u001b[1;33m\n",
            "\u001b[0m\u001b[1;33m)\u001b[0m\u001b[1;33m\u001b[0m\u001b[1;33m\u001b[0m\u001b[0m\n",
            "\u001b[1;31mDocstring:\u001b[0m     \n",
            "Principal component analysis (PCA).\n",
            "\n",
            "Linear dimensionality reduction using Singular Value Decomposition of the\n",
            "data to project it to a lower dimensional space. The input data is centered\n",
            "but not scaled for each feature before applying the SVD.\n",
            "\n",
            "It uses the LAPACK implementation of the full SVD or a randomized truncated\n",
            "SVD by the method of Halko et al. 2009, depending on the shape of the input\n",
            "data and the number of components to extract.\n",
            "\n",
            "It can also use the scipy.sparse.linalg ARPACK implementation of the\n",
            "truncated SVD.\n",
            "\n",
            "Notice that this class does not support sparse input. See\n",
            ":class:`TruncatedSVD` for an alternative with sparse data.\n",
            "\n",
            "Read more in the :ref:`User Guide <PCA>`.\n",
            "\n",
            "Parameters\n",
            "----------\n",
            "n_components : int, float or 'mle', default=None\n",
            "    Number of components to keep.\n",
            "    if n_components is not set all components are kept::\n",
            "\n",
            "        n_components == min(n_samples, n_features)\n",
            "\n",
            "    If ``n_components == 'mle'`` and ``svd_solver == 'full'``, Minka's\n",
            "    MLE is used to guess the dimension. Use of ``n_components == 'mle'``\n",
            "    will interpret ``svd_solver == 'auto'`` as ``svd_solver == 'full'``.\n",
            "\n",
            "    If ``0 < n_components < 1`` and ``svd_solver == 'full'``, select the\n",
            "    number of components such that the amount of variance that needs to be\n",
            "    explained is greater than the percentage specified by n_components.\n",
            "\n",
            "    If ``svd_solver == 'arpack'``, the number of components must be\n",
            "    strictly less than the minimum of n_features and n_samples.\n",
            "\n",
            "    Hence, the None case results in::\n",
            "\n",
            "        n_components == min(n_samples, n_features) - 1\n",
            "\n",
            "copy : bool, default=True\n",
            "    If False, data passed to fit are overwritten and running\n",
            "    fit(X).transform(X) will not yield the expected results,\n",
            "    use fit_transform(X) instead.\n",
            "\n",
            "whiten : bool, default=False\n",
            "    When True (False by default) the `components_` vectors are multiplied\n",
            "    by the square root of n_samples and then divided by the singular values\n",
            "    to ensure uncorrelated outputs with unit component-wise variances.\n",
            "\n",
            "    Whitening will remove some information from the transformed signal\n",
            "    (the relative variance scales of the components) but can sometime\n",
            "    improve the predictive accuracy of the downstream estimators by\n",
            "    making their data respect some hard-wired assumptions.\n",
            "\n",
            "svd_solver : {'auto', 'full', 'arpack', 'randomized'}, default='auto'\n",
            "    If auto :\n",
            "        The solver is selected by a default policy based on `X.shape` and\n",
            "        `n_components`: if the input data is larger than 500x500 and the\n",
            "        number of components to extract is lower than 80% of the smallest\n",
            "        dimension of the data, then the more efficient 'randomized'\n",
            "        method is enabled. Otherwise the exact full SVD is computed and\n",
            "        optionally truncated afterwards.\n",
            "    If full :\n",
            "        run exact full SVD calling the standard LAPACK solver via\n",
            "        `scipy.linalg.svd` and select the components by postprocessing\n",
            "    If arpack :\n",
            "        run SVD truncated to n_components calling ARPACK solver via\n",
            "        `scipy.sparse.linalg.svds`. It requires strictly\n",
            "        0 < n_components < min(X.shape)\n",
            "    If randomized :\n",
            "        run randomized SVD by the method of Halko et al.\n",
            "\n",
            "    .. versionadded:: 0.18.0\n",
            "\n",
            "tol : float, default=0.0\n",
            "    Tolerance for singular values computed by svd_solver == 'arpack'.\n",
            "    Must be of range [0.0, infinity).\n",
            "\n",
            "    .. versionadded:: 0.18.0\n",
            "\n",
            "iterated_power : int or 'auto', default='auto'\n",
            "    Number of iterations for the power method computed by\n",
            "    svd_solver == 'randomized'.\n",
            "    Must be of range [0, infinity).\n",
            "\n",
            "    .. versionadded:: 0.18.0\n",
            "\n",
            "random_state : int, RandomState instance or None, default=None\n",
            "    Used when the 'arpack' or 'randomized' solvers are used. Pass an int\n",
            "    for reproducible results across multiple function calls.\n",
            "    See :term:`Glossary <random_state>`.\n",
            "\n",
            "    .. versionadded:: 0.18.0\n",
            "\n",
            "Attributes\n",
            "----------\n",
            "components_ : ndarray of shape (n_components, n_features)\n",
            "    Principal axes in feature space, representing the directions of\n",
            "    maximum variance in the data. Equivalently, the right singular\n",
            "    vectors of the centered input data, parallel to its eigenvectors.\n",
            "    The components are sorted by ``explained_variance_``.\n",
            "\n",
            "explained_variance_ : ndarray of shape (n_components,)\n",
            "    The amount of variance explained by each of the selected components.\n",
            "    The variance estimation uses `n_samples - 1` degrees of freedom.\n",
            "\n",
            "    Equal to n_components largest eigenvalues\n",
            "    of the covariance matrix of X.\n",
            "\n",
            "    .. versionadded:: 0.18\n",
            "\n",
            "explained_variance_ratio_ : ndarray of shape (n_components,)\n",
            "    Percentage of variance explained by each of the selected components.\n",
            "\n",
            "    If ``n_components`` is not set then all components are stored and the\n",
            "    sum of the ratios is equal to 1.0.\n",
            "\n",
            "singular_values_ : ndarray of shape (n_components,)\n",
            "    The singular values corresponding to each of the selected components.\n",
            "    The singular values are equal to the 2-norms of the ``n_components``\n",
            "    variables in the lower-dimensional space.\n",
            "\n",
            "    .. versionadded:: 0.19\n",
            "\n",
            "mean_ : ndarray of shape (n_features,)\n",
            "    Per-feature empirical mean, estimated from the training set.\n",
            "\n",
            "    Equal to `X.mean(axis=0)`.\n",
            "\n",
            "n_components_ : int\n",
            "    The estimated number of components. When n_components is set\n",
            "    to 'mle' or a number between 0 and 1 (with svd_solver == 'full') this\n",
            "    number is estimated from input data. Otherwise it equals the parameter\n",
            "    n_components, or the lesser value of n_features and n_samples\n",
            "    if n_components is None.\n",
            "\n",
            "n_features_ : int\n",
            "    Number of features in the training data.\n",
            "\n",
            "n_samples_ : int\n",
            "    Number of samples in the training data.\n",
            "\n",
            "noise_variance_ : float\n",
            "    The estimated noise covariance following the Probabilistic PCA model\n",
            "    from Tipping and Bishop 1999. See \"Pattern Recognition and\n",
            "    Machine Learning\" by C. Bishop, 12.2.1 p. 574 or\n",
            "    http://www.miketipping.com/papers/met-mppca.pdf. It is required to\n",
            "    compute the estimated data covariance and score samples.\n",
            "\n",
            "    Equal to the average of (min(n_features, n_samples) - n_components)\n",
            "    smallest eigenvalues of the covariance matrix of X.\n",
            "\n",
            "n_features_in_ : int\n",
            "    Number of features seen during :term:`fit`.\n",
            "\n",
            "    .. versionadded:: 0.24\n",
            "\n",
            "feature_names_in_ : ndarray of shape (`n_features_in_`,)\n",
            "    Names of features seen during :term:`fit`. Defined only when `X`\n",
            "    has feature names that are all strings.\n",
            "\n",
            "    .. versionadded:: 1.0\n",
            "\n",
            "See Also\n",
            "--------\n",
            "KernelPCA : Kernel Principal Component Analysis.\n",
            "SparsePCA : Sparse Principal Component Analysis.\n",
            "TruncatedSVD : Dimensionality reduction using truncated SVD.\n",
            "IncrementalPCA : Incremental Principal Component Analysis.\n",
            "\n",
            "References\n",
            "----------\n",
            "For n_components == 'mle', this class uses the method from:\n",
            "`Minka, T. P.. \"Automatic choice of dimensionality for PCA\".\n",
            "In NIPS, pp. 598-604 <https://tminka.github.io/papers/pca/minka-pca.pdf>`_\n",
            "\n",
            "Implements the probabilistic PCA model from:\n",
            "`Tipping, M. E., and Bishop, C. M. (1999). \"Probabilistic principal\n",
            "component analysis\". Journal of the Royal Statistical Society:\n",
            "Series B (Statistical Methodology), 61(3), 611-622.\n",
            "<http://www.miketipping.com/papers/met-mppca.pdf>`_\n",
            "via the score and score_samples methods.\n",
            "\n",
            "For svd_solver == 'arpack', refer to `scipy.sparse.linalg.svds`.\n",
            "\n",
            "For svd_solver == 'randomized', see:\n",
            "`Halko, N., Martinsson, P. G., and Tropp, J. A. (2011).\n",
            "\"Finding structure with randomness: Probabilistic algorithms for\n",
            "constructing approximate matrix decompositions\".\n",
            "SIAM review, 53(2), 217-288.\n",
            "<https://doi.org/10.1137/090771806>`_\n",
            "and also\n",
            "`Martinsson, P. G., Rokhlin, V., and Tygert, M. (2011).\n",
            "\"A randomized algorithm for the decomposition of matrices\".\n",
            "Applied and Computational Harmonic Analysis, 30(1), 47-68\n",
            "<https://doi.org/10.1016/j.acha.2010.02.003>`_.\n",
            "\n",
            "Examples\n",
            "--------\n",
            ">>> import numpy as np\n",
            ">>> from sklearn.decomposition import PCA\n",
            ">>> X = np.array([[-1, -1], [-2, -1], [-3, -2], [1, 1], [2, 1], [3, 2]])\n",
            ">>> pca = PCA(n_components=2)\n",
            ">>> pca.fit(X)\n",
            "PCA(n_components=2)\n",
            ">>> print(pca.explained_variance_ratio_)\n",
            "[0.9924... 0.0075...]\n",
            ">>> print(pca.singular_values_)\n",
            "[6.30061... 0.54980...]\n",
            "\n",
            ">>> pca = PCA(n_components=2, svd_solver='full')\n",
            ">>> pca.fit(X)\n",
            "PCA(n_components=2, svd_solver='full')\n",
            ">>> print(pca.explained_variance_ratio_)\n",
            "[0.9924... 0.00755...]\n",
            ">>> print(pca.singular_values_)\n",
            "[6.30061... 0.54980...]\n",
            "\n",
            ">>> pca = PCA(n_components=1, svd_solver='arpack')\n",
            ">>> pca.fit(X)\n",
            "PCA(n_components=1, svd_solver='arpack')\n",
            ">>> print(pca.explained_variance_ratio_)\n",
            "[0.99244...]\n",
            ">>> print(pca.singular_values_)\n",
            "[6.30061...]\n",
            "\u001b[1;31mFile:\u001b[0m           c:\\users\\daniel montes\\anaconda3\\lib\\site-packages\\sklearn\\decomposition\\_pca.py\n",
            "\u001b[1;31mType:\u001b[0m           ABCMeta\n",
            "\u001b[1;31mSubclasses:\u001b[0m     \n"
          ]
        }
      ],
      "source": [
        "PCA?"
      ]
    },
    {
      "cell_type": "code",
      "execution_count": 12,
      "metadata": {
        "id": "9p1TQtskN830"
      },
      "outputs": [],
      "source": [
        "componentes=PCA(n_components =3)"
      ]
    },
    {
      "cell_type": "code",
      "execution_count": 13,
      "metadata": {
        "colab": {
          "base_uri": "https://localhost:8080/",
          "height": 74
        },
        "id": "5ymJHR8oOD_R",
        "outputId": "5cbe5e32-5d5a-4b84-d1ba-3d9270a3bd38"
      },
      "outputs": [
        {
          "data": {
            "text/plain": [
              "PCA(n_components=3)"
            ]
          },
          "execution_count": 13,
          "metadata": {},
          "output_type": "execute_result"
        }
      ],
      "source": [
        "componentes"
      ]
    },
    {
      "cell_type": "code",
      "execution_count": 14,
      "metadata": {
        "colab": {
          "base_uri": "https://localhost:8080/",
          "height": 74
        },
        "id": "ANWdrNKLOJiF",
        "outputId": "f0861f5e-ab6f-4197-898e-fd3d0c272a71"
      },
      "outputs": [
        {
          "data": {
            "text/plain": [
              "PCA(n_components=3)"
            ]
          },
          "execution_count": 14,
          "metadata": {},
          "output_type": "execute_result"
        }
      ],
      "source": [
        "componentes.fit(datos)"
      ]
    },
    {
      "cell_type": "code",
      "execution_count": 15,
      "metadata": {
        "id": "Ovyj1K7KOlsP"
      },
      "outputs": [],
      "source": [
        "df=componentes.transform(datos)"
      ]
    },
    {
      "cell_type": "code",
      "execution_count": 16,
      "metadata": {
        "id": "Ke35j34lPdLg"
      },
      "outputs": [],
      "source": [
        "## componentes.fit_transform(datos)"
      ]
    },
    {
      "cell_type": "code",
      "execution_count": 17,
      "metadata": {
        "colab": {
          "base_uri": "https://localhost:8080/"
        },
        "id": "2lLgM--JOtf-",
        "outputId": "92ccafca-12f0-4f26-d919-5270e4729286"
      },
      "outputs": [
        {
          "data": {
            "text/plain": [
              "array([[-2.68412563,  0.31939725, -0.02791483],\n",
              "       [-2.71414169, -0.17700123, -0.21046427],\n",
              "       [-2.88899057, -0.14494943,  0.01790026],\n",
              "       [-2.74534286, -0.31829898,  0.03155937],\n",
              "       [-2.72871654,  0.32675451,  0.09007924],\n",
              "       [-2.28085963,  0.74133045,  0.16867766],\n",
              "       [-2.82053775, -0.08946138,  0.25789216],\n",
              "       [-2.62614497,  0.16338496, -0.02187932],\n",
              "       [-2.88638273, -0.57831175,  0.02075957],\n",
              "       [-2.6727558 , -0.11377425, -0.19763272]])"
            ]
          },
          "execution_count": 17,
          "metadata": {},
          "output_type": "execute_result"
        }
      ],
      "source": [
        "df[:10]"
      ]
    },
    {
      "cell_type": "code",
      "execution_count": 18,
      "metadata": {
        "colab": {
          "base_uri": "https://localhost:8080/"
        },
        "id": "ygfxGTpSO6mX",
        "outputId": "77d9c05d-ec92-418a-e292-5ea3a8e60b0f"
      },
      "outputs": [
        {
          "data": {
            "text/plain": [
              "150"
            ]
          },
          "execution_count": 18,
          "metadata": {},
          "output_type": "execute_result"
        }
      ],
      "source": [
        "len(df)"
      ]
    },
    {
      "cell_type": "code",
      "execution_count": 19,
      "metadata": {
        "colab": {
          "base_uri": "https://localhost:8080/"
        },
        "id": "3KLPtNo6O6Wd",
        "outputId": "ba23ca6c-0995-4fb8-e9af-98506af6f9d8"
      },
      "outputs": [
        {
          "data": {
            "text/plain": [
              "array([[ 0.36138659, -0.08452251,  0.85667061,  0.3582892 ],\n",
              "       [ 0.65658877,  0.73016143, -0.17337266, -0.07548102],\n",
              "       [-0.58202985,  0.59791083,  0.07623608,  0.54583143]])"
            ]
          },
          "execution_count": 19,
          "metadata": {},
          "output_type": "execute_result"
        }
      ],
      "source": [
        "componentes.components_"
      ]
    },
    {
      "cell_type": "code",
      "execution_count": 20,
      "metadata": {
        "colab": {
          "base_uri": "https://localhost:8080/"
        },
        "id": "oBE3_MWJPJpP",
        "outputId": "0cf338a7-12ec-4ff1-d001-99607ce30bf6"
      },
      "outputs": [
        {
          "data": {
            "text/plain": [
              "array([4.22824171, 0.24267075, 0.0782095 ])"
            ]
          },
          "execution_count": 20,
          "metadata": {},
          "output_type": "execute_result"
        }
      ],
      "source": [
        "componentes.explained_variance_"
      ]
    },
    {
      "cell_type": "code",
      "execution_count": 21,
      "metadata": {
        "colab": {
          "base_uri": "https://localhost:8080/"
        },
        "id": "Qes3rvLXPruH",
        "outputId": "5498e622-885d-44ac-ebb4-821dd4a24d25"
      },
      "outputs": [
        {
          "data": {
            "text/plain": [
              "array([0.92461872, 0.97768521, 0.99478782])"
            ]
          },
          "execution_count": 21,
          "metadata": {},
          "output_type": "execute_result"
        }
      ],
      "source": [
        "componentes.explained_variance_ratio_.cumsum()"
      ]
    },
    {
      "cell_type": "code",
      "execution_count": 22,
      "metadata": {
        "colab": {
          "base_uri": "https://localhost:8080/",
          "height": 453
        },
        "id": "298VnP2xQA5H",
        "outputId": "62b72b98-4e9a-4eb0-85c9-fdc85185ae9d"
      },
      "outputs": [
        {
          "data": {
            "text/plain": [
              "<matplotlib.collections.PathCollection at 0x25a216d99d0>"
            ]
          },
          "execution_count": 22,
          "metadata": {},
          "output_type": "execute_result"
        },
        {
          "data": {
            "image/png": "[encoded data removed]",
            "text/plain": [
              "<Figure size 432x288 with 1 Axes>"
            ]
          },
          "metadata": {
            "needs_background": "light"
          },
          "output_type": "display_data"
        }
      ],
      "source": [
        "plt.scatter(df[:,0],df[:,1])"
      ]
    },
    {
      "cell_type": "code",
      "execution_count": 23,
      "metadata": {
        "colab": {
          "base_uri": "https://localhost:8080/",
          "height": 448
        },
        "id": "KfYsTtBCQQ1M",
        "outputId": "8f32409b-3dad-48b5-87b0-af12ea38e888"
      },
      "outputs": [
        {
          "data": {
            "text/plain": [
              "<matplotlib.collections.PathCollection at 0x25a217e35b0>"
            ]
          },
          "execution_count": 23,
          "metadata": {},
          "output_type": "execute_result"
        },
        {
          "data": {
            "image/png": "[encoded data removed]",
            "text/plain": [
              "<Figure size 432x288 with 1 Axes>"
            ]
          },
          "metadata": {
            "needs_background": "light"
          },
          "output_type": "display_data"
        }
      ],
      "source": [
        "plt.scatter(df[:,0],df[:,2])"
      ]
    },
    {
      "cell_type": "code",
      "execution_count": 24,
      "metadata": {
        "id": "SMKFCtSHQUi4"
      },
      "outputs": [],
      "source": [
        "df=df[:,:2]"
      ]
    },
    {
      "cell_type": "code",
      "execution_count": 25,
      "metadata": {
        "id": "xfSkrq_dQkr4"
      },
      "outputs": [],
      "source": [
        "df=pd.DataFrame(df,columns=[\"PC1\",\"PC2\"])"
      ]
    },
    {
      "cell_type": "code",
      "execution_count": 26,
      "metadata": {
        "id": "Ds-NH9UJQrdK"
      },
      "outputs": [],
      "source": [
        "df[\"Target\"]=iris.target"
      ]
    },
    {
      "cell_type": "code",
      "execution_count": 27,
      "metadata": {
        "id": "ZoOAsEsBQwOr"
      },
      "outputs": [],
      "source": [
        "from sklearn.neighbors import KNeighborsClassifier\n",
        "from sklearn.model_selection import train_test_split\n",
        "from sklearn.metrics import mean_absolute_percentage_error, mean_absolute_error, f1_score"
      ]
    },
    {
      "cell_type": "code",
      "execution_count": 28,
      "metadata": {
        "id": "mIfe54ruRU4h"
      },
      "outputs": [],
      "source": [
        "X_train, X_test, y_train,y_test = train_test_split(df[[\"PC1\",\"PC2\"]],df[\"Target\"],\n",
        "                                                   test_size=0.2,\n",
        "                                                   shuffle=True,\n",
        "                                                   random_state=1234)"
      ]
    },
    {
      "cell_type": "code",
      "execution_count": 29,
      "metadata": {
        "id": "OUL0gfD9Ru10"
      },
      "outputs": [],
      "source": [
        "Modelo=KNeighborsClassifier()"
      ]
    },
    {
      "cell_type": "code",
      "execution_count": 30,
      "metadata": {
        "colab": {
          "base_uri": "https://localhost:8080/",
          "height": 74
        },
        "id": "jw2vW6znRzHr",
        "outputId": "5760a43c-fbbc-4094-c88c-0a878e806dfb"
      },
      "outputs": [
        {
          "data": {
            "text/plain": [
              "KNeighborsClassifier()"
            ]
          },
          "execution_count": 30,
          "metadata": {},
          "output_type": "execute_result"
        }
      ],
      "source": [
        "Modelo.fit(X_train,y_train)"
      ]
    },
    {
      "cell_type": "code",
      "execution_count": 31,
      "metadata": {
        "id": "NoGNjLuFR2mj"
      },
      "outputs": [],
      "source": [
        "y_pred=Modelo.predict(X_test)"
      ]
    },
    {
      "cell_type": "code",
      "execution_count": 32,
      "metadata": {
        "colab": {
          "base_uri": "https://localhost:8080/"
        },
        "id": "22cZD-JCR8_R",
        "outputId": "729c437f-e889-4523-b4df-cb2e98eef8c6"
      },
      "outputs": [
        {
          "data": {
            "text/plain": [
              "array([1, 1, 2, 0, 1, 0, 0, 0, 1, 2, 1, 0, 2, 1, 0, 1, 2, 0, 2, 1, 1, 1,\n",
              "       1, 1, 2, 0, 2, 1, 2, 0])"
            ]
          },
          "execution_count": 32,
          "metadata": {},
          "output_type": "execute_result"
        }
      ],
      "source": [
        "y_pred"
      ]
    },
    {
      "cell_type": "code",
      "execution_count": 33,
      "metadata": {
        "colab": {
          "base_uri": "https://localhost:8080/",
          "height": 174
        },
        "id": "QFyOo9wrR_yD",
        "outputId": "11d82bbf-972e-42e7-d0ac-378de386bdd1"
      },
      "outputs": [
        {
          "data": {
            "text/html": [
              "<div>\n",
              "<style scoped>\n",
              "    .dataframe tbody tr th:only-of-type {\n",
              "        vertical-align: middle;\n",
              "    }\n",
              "\n",
              "    .dataframe tbody tr th {\n",
              "        vertical-align: top;\n",
              "    }\n",
              "\n",
              "    .dataframe thead th {\n",
              "        text-align: right;\n",
              "    }\n",
              "</style>\n",
              "<table border=\"1\" class=\"dataframe\">\n",
              "  <thead>\n",
              "    <tr style=\"text-align: right;\">\n",
              "      <th>col_0</th>\n",
              "      <th>0</th>\n",
              "      <th>1</th>\n",
              "      <th>2</th>\n",
              "    </tr>\n",
              "    <tr>\n",
              "      <th>Target</th>\n",
              "      <th></th>\n",
              "      <th></th>\n",
              "      <th></th>\n",
              "    </tr>\n",
              "  </thead>\n",
              "  <tbody>\n",
              "    <tr>\n",
              "      <th>0</th>\n",
              "      <td>9</td>\n",
              "      <td>0</td>\n",
              "      <td>0</td>\n",
              "    </tr>\n",
              "    <tr>\n",
              "      <th>1</th>\n",
              "      <td>0</td>\n",
              "      <td>13</td>\n",
              "      <td>0</td>\n",
              "    </tr>\n",
              "    <tr>\n",
              "      <th>2</th>\n",
              "      <td>0</td>\n",
              "      <td>0</td>\n",
              "      <td>8</td>\n",
              "    </tr>\n",
              "  </tbody>\n",
              "</table>\n",
              "</div>"
            ],
            "text/plain": [
              "col_0   0   1  2\n",
              "Target          \n",
              "0       9   0  0\n",
              "1       0  13  0\n",
              "2       0   0  8"
            ]
          },
          "execution_count": 33,
          "metadata": {},
          "output_type": "execute_result"
        }
      ],
      "source": [
        "pd.crosstab(y_test,y_pred)"
      ]
    },
    {
      "cell_type": "code",
      "execution_count": 34,
      "metadata": {
        "colab": {
          "base_uri": "https://localhost:8080/"
        },
        "id": "wlmknVfkSbcG",
        "outputId": "a2294613-ecbf-4d1c-e8c6-61db5a402604"
      },
      "outputs": [
        {
          "data": {
            "text/plain": [
              "0.0"
            ]
          },
          "execution_count": 34,
          "metadata": {},
          "output_type": "execute_result"
        }
      ],
      "source": [
        "mean_absolute_percentage_error(y_test,y_pred)"
      ]
    },
    {
      "cell_type": "code",
      "execution_count": 35,
      "metadata": {
        "id": "PLvYOMezSn0v"
      },
      "outputs": [],
      "source": [
        "from sklearn.metrics import classification_report"
      ]
    },
    {
      "cell_type": "code",
      "execution_count": 36,
      "metadata": {
        "colab": {
          "base_uri": "https://localhost:8080/"
        },
        "id": "wyHcfz9kSgP6",
        "outputId": "a317a161-e585-431a-cd52-3a9e35106208"
      },
      "outputs": [
        {
          "name": "stdout",
          "output_type": "stream",
          "text": [
            "              precision    recall  f1-score   support\n",
            "\n",
            "           0       1.00      1.00      1.00         9\n",
            "           1       1.00      1.00      1.00        13\n",
            "           2       1.00      1.00      1.00         8\n",
            "\n",
            "    accuracy                           1.00        30\n",
            "   macro avg       1.00      1.00      1.00        30\n",
            "weighted avg       1.00      1.00      1.00        30\n",
            "\n"
          ]
        }
      ],
      "source": [
        "print(classification_report(y_test,y_pred))"
      ]
    },
    {
      "cell_type": "markdown",
      "metadata": {
        "id": "SYkq4VK5TNvO"
      },
      "source": [
        "Sin utilizar PCA"
      ]
    },
    {
      "cell_type": "code",
      "execution_count": 37,
      "metadata": {
        "id": "9i5rjOWFTFjU"
      },
      "outputs": [],
      "source": [
        "Modelo2=KNeighborsClassifier()"
      ]
    },
    {
      "cell_type": "code",
      "execution_count": 38,
      "metadata": {
        "id": "fpmLe-HkTQx7"
      },
      "outputs": [],
      "source": [
        "X_train, X_test, y_train,y_test = train_test_split(datos,iris.target,\n",
        "                                                   test_size=0.2,\n",
        "                                                   shuffle=True,\n",
        "                                                   random_state=1234)"
      ]
    },
    {
      "cell_type": "code",
      "execution_count": 39,
      "metadata": {
        "colab": {
          "base_uri": "https://localhost:8080/",
          "height": 74
        },
        "id": "Y-aVGumcStnb",
        "outputId": "f10eab33-a305-4021-ef98-3b2ae8449e53"
      },
      "outputs": [
        {
          "data": {
            "text/plain": [
              "KNeighborsClassifier()"
            ]
          },
          "execution_count": 39,
          "metadata": {},
          "output_type": "execute_result"
        }
      ],
      "source": [
        "Modelo2.fit(X_train,y_train)\n"
      ]
    },
    {
      "cell_type": "code",
      "execution_count": 40,
      "metadata": {
        "id": "NAyaF_aFTaeU"
      },
      "outputs": [],
      "source": [
        "y_pred=Modelo2.predict(X_test)"
      ]
    },
    {
      "cell_type": "code",
      "execution_count": 41,
      "metadata": {
        "colab": {
          "base_uri": "https://localhost:8080/"
        },
        "id": "9DU9GCU2Tf8w",
        "outputId": "77ad8e14-530d-44dc-dd5f-8129e314fb5a"
      },
      "outputs": [
        {
          "name": "stdout",
          "output_type": "stream",
          "text": [
            "              precision    recall  f1-score   support\n",
            "\n",
            "           0       1.00      1.00      1.00         9\n",
            "           1       1.00      0.92      0.96        13\n",
            "           2       0.89      1.00      0.94         8\n",
            "\n",
            "    accuracy                           0.97        30\n",
            "   macro avg       0.96      0.97      0.97        30\n",
            "weighted avg       0.97      0.97      0.97        30\n",
            "\n"
          ]
        }
      ],
      "source": [
        "print(classification_report(y_test,y_pred))"
      ]
    },
    {
      "cell_type": "code",
      "execution_count": 42,
      "metadata": {
        "colab": {
          "base_uri": "https://localhost:8080/",
          "height": 174
        },
        "id": "-sp4vx1lThq_",
        "outputId": "4d77aa3d-02a4-4043-8772-5207e9f58293"
      },
      "outputs": [
        {
          "data": {
            "text/html": [
              "<div>\n",
              "<style scoped>\n",
              "    .dataframe tbody tr th:only-of-type {\n",
              "        vertical-align: middle;\n",
              "    }\n",
              "\n",
              "    .dataframe tbody tr th {\n",
              "        vertical-align: top;\n",
              "    }\n",
              "\n",
              "    .dataframe thead th {\n",
              "        text-align: right;\n",
              "    }\n",
              "</style>\n",
              "<table border=\"1\" class=\"dataframe\">\n",
              "  <thead>\n",
              "    <tr style=\"text-align: right;\">\n",
              "      <th></th>\n",
              "      <th>sepal length (cm)</th>\n",
              "      <th>sepal width (cm)</th>\n",
              "      <th>petal length (cm)</th>\n",
              "      <th>petal width (cm)</th>\n",
              "    </tr>\n",
              "  </thead>\n",
              "  <tbody>\n",
              "    <tr>\n",
              "      <th>sepal length (cm)</th>\n",
              "      <td>1.000000</td>\n",
              "      <td>-0.117570</td>\n",
              "      <td>0.871754</td>\n",
              "      <td>0.817941</td>\n",
              "    </tr>\n",
              "    <tr>\n",
              "      <th>sepal width (cm)</th>\n",
              "      <td>-0.117570</td>\n",
              "      <td>1.000000</td>\n",
              "      <td>-0.428440</td>\n",
              "      <td>-0.366126</td>\n",
              "    </tr>\n",
              "    <tr>\n",
              "      <th>petal length (cm)</th>\n",
              "      <td>0.871754</td>\n",
              "      <td>-0.428440</td>\n",
              "      <td>1.000000</td>\n",
              "      <td>0.962865</td>\n",
              "    </tr>\n",
              "    <tr>\n",
              "      <th>petal width (cm)</th>\n",
              "      <td>0.817941</td>\n",
              "      <td>-0.366126</td>\n",
              "      <td>0.962865</td>\n",
              "      <td>1.000000</td>\n",
              "    </tr>\n",
              "  </tbody>\n",
              "</table>\n",
              "</div>"
            ],
            "text/plain": [
              "                   sepal length (cm)  sepal width (cm)  petal length (cm)  \\\n",
              "sepal length (cm)           1.000000         -0.117570           0.871754   \n",
              "sepal width (cm)           -0.117570          1.000000          -0.428440   \n",
              "petal length (cm)           0.871754         -0.428440           1.000000   \n",
              "petal width (cm)            0.817941         -0.366126           0.962865   \n",
              "\n",
              "                   petal width (cm)  \n",
              "sepal length (cm)          0.817941  \n",
              "sepal width (cm)          -0.366126  \n",
              "petal length (cm)          0.962865  \n",
              "petal width (cm)           1.000000  "
            ]
          },
          "execution_count": 42,
          "metadata": {},
          "output_type": "execute_result"
        }
      ],
      "source": [
        "datos.corr()"
      ]
    },
    {
      "cell_type": "markdown",
      "metadata": {
        "id": "s3Ezm5DTT-l3"
      },
      "source": [
        "##  Ejercicio Cancer"
      ]
    },
    {
      "cell_type": "code",
      "execution_count": 43,
      "metadata": {
        "id": "wxivG8dhT9M9"
      },
      "outputs": [],
      "source": [
        "from sklearn.datasets import load_breast_cancer"
      ]
    },
    {
      "cell_type": "code",
      "execution_count": 44,
      "metadata": {
        "id": "tJrwQKdFULY4"
      },
      "outputs": [],
      "source": [
        "from sklearn.preprocessing import StandardScaler"
      ]
    },
    {
      "cell_type": "code",
      "execution_count": 45,
      "metadata": {
        "id": "WlZon-02ULyb"
      },
      "outputs": [],
      "source": [
        "from sklearn.preprocessing import power_transform"
      ]
    },
    {
      "cell_type": "code",
      "execution_count": 46,
      "metadata": {
        "id": "BAWtkQ6nUXhP"
      },
      "outputs": [
        {
          "name": "stdout",
          "output_type": "stream",
          "text": [
            "\u001b[1;31mSignature:\u001b[0m \u001b[0mpower_transform\u001b[0m\u001b[1;33m(\u001b[0m\u001b[0mX\u001b[0m\u001b[1;33m,\u001b[0m \u001b[0mmethod\u001b[0m\u001b[1;33m=\u001b[0m\u001b[1;34m'yeo-johnson'\u001b[0m\u001b[1;33m,\u001b[0m \u001b[1;33m*\u001b[0m\u001b[1;33m,\u001b[0m \u001b[0mstandardize\u001b[0m\u001b[1;33m=\u001b[0m\u001b[1;32mTrue\u001b[0m\u001b[1;33m,\u001b[0m \u001b[0mcopy\u001b[0m\u001b[1;33m=\u001b[0m\u001b[1;32mTrue\u001b[0m\u001b[1;33m)\u001b[0m\u001b[1;33m\u001b[0m\u001b[1;33m\u001b[0m\u001b[0m\n",
            "\u001b[1;31mDocstring:\u001b[0m\n",
            "Power transforms are a family of parametric, monotonic transformations\n",
            "that are applied to make data more Gaussian-like. This is useful for\n",
            "modeling issues related to heteroscedasticity (non-constant variance),\n",
            "or other situations where normality is desired.\n",
            "\n",
            "Currently, power_transform supports the Box-Cox transform and the\n",
            "Yeo-Johnson transform. The optimal parameter for stabilizing variance and\n",
            "minimizing skewness is estimated through maximum likelihood.\n",
            "\n",
            "Box-Cox requires input data to be strictly positive, while Yeo-Johnson\n",
            "supports both positive or negative data.\n",
            "\n",
            "By default, zero-mean, unit-variance normalization is applied to the\n",
            "transformed data.\n",
            "\n",
            "Read more in the :ref:`User Guide <preprocessing_transformer>`.\n",
            "\n",
            "\n",
            "Parameters\n",
            "----------\n",
            "X : array-like of shape (n_samples, n_features)\n",
            "    The data to be transformed using a power transformation.\n",
            "\n",
            "method : {'yeo-johnson', 'box-cox'}, default='yeo-johnson'\n",
            "    The power transform method. Available methods are:\n",
            "\n",
            "    - 'yeo-johnson' [1]_, works with positive and negative values\n",
            "    - 'box-cox' [2]_, only works with strictly positive values\n",
            "\n",
            "    .. versionchanged:: 0.23\n",
            "        The default value of the `method` parameter changed from\n",
            "        'box-cox' to 'yeo-johnson' in 0.23.\n",
            "\n",
            "standardize : bool, default=True\n",
            "    Set to True to apply zero-mean, unit-variance normalization to the\n",
            "    transformed output.\n",
            "\n",
            "copy : bool, default=True\n",
            "    Set to False to perform inplace computation during transformation.\n",
            "\n",
            "Returns\n",
            "-------\n",
            "X_trans : ndarray of shape (n_samples, n_features)\n",
            "    The transformed data.\n",
            "\n",
            "Examples\n",
            "--------\n",
            ">>> import numpy as np\n",
            ">>> from sklearn.preprocessing import power_transform\n",
            ">>> data = [[1, 2], [3, 2], [4, 5]]\n",
            ">>> print(power_transform(data, method='box-cox'))\n",
            "[[-1.332... -0.707...]\n",
            " [ 0.256... -0.707...]\n",
            " [ 1.076...  1.414...]]\n",
            "\n",
            ".. warning:: Risk of data leak.\n",
            "    Do not use :func:`~sklearn.preprocessing.power_transform` unless you\n",
            "    know what you are doing. A common mistake is to apply it to the entire\n",
            "    data *before* splitting into training and test sets. This will bias the\n",
            "    model evaluation because information would have leaked from the test\n",
            "    set to the training set.\n",
            "    In general, we recommend using\n",
            "    :class:`~sklearn.preprocessing.PowerTransformer` within a\n",
            "    :ref:`Pipeline <pipeline>` in order to prevent most risks of data\n",
            "    leaking, e.g.: `pipe = make_pipeline(PowerTransformer(),\n",
            "    LogisticRegression())`.\n",
            "\n",
            "See Also\n",
            "--------\n",
            "PowerTransformer : Equivalent transformation with the\n",
            "    Transformer API (e.g. as part of a preprocessing\n",
            "    :class:`~sklearn.pipeline.Pipeline`).\n",
            "\n",
            "quantile_transform : Maps data to a standard normal distribution with\n",
            "    the parameter `output_distribution='normal'`.\n",
            "\n",
            "Notes\n",
            "-----\n",
            "NaNs are treated as missing values: disregarded in ``fit``, and maintained\n",
            "in ``transform``.\n",
            "\n",
            "For a comparison of the different scalers, transformers, and normalizers,\n",
            "see :ref:`examples/preprocessing/plot_all_scaling.py\n",
            "<sphx_glr_auto_examples_preprocessing_plot_all_scaling.py>`.\n",
            "\n",
            "References\n",
            "----------\n",
            "\n",
            ".. [1] I.K. Yeo and R.A. Johnson, \"A new family of power transformations to\n",
            "       improve normality or symmetry.\" Biometrika, 87(4), pp.954-959,\n",
            "       (2000).\n",
            "\n",
            ".. [2] G.E.P. Box and D.R. Cox, \"An Analysis of Transformations\", Journal\n",
            "       of the Royal Statistical Society B, 26, 211-252 (1964).\n",
            "\u001b[1;31mFile:\u001b[0m      c:\\users\\daniel montes\\anaconda3\\lib\\site-packages\\sklearn\\preprocessing\\_data.py\n",
            "\u001b[1;31mType:\u001b[0m      function\n"
          ]
        }
      ],
      "source": [
        "power_transform?"
      ]
    },
    {
      "cell_type": "code",
      "execution_count": 47,
      "metadata": {},
      "outputs": [],
      "source": [
        "from sklearn.preprocessing import maxabs_scale"
      ]
    },
    {
      "cell_type": "markdown",
      "metadata": {},
      "source": [
        "$$X=\\cfrac{y_i}{max(|y_j|)}$$"
      ]
    },
    {
      "cell_type": "code",
      "execution_count": 48,
      "metadata": {},
      "outputs": [
        {
          "name": "stdout",
          "output_type": "stream",
          "text": [
            "\u001b[1;31mSignature:\u001b[0m \u001b[0mmaxabs_scale\u001b[0m\u001b[1;33m(\u001b[0m\u001b[0mX\u001b[0m\u001b[1;33m,\u001b[0m \u001b[1;33m*\u001b[0m\u001b[1;33m,\u001b[0m \u001b[0maxis\u001b[0m\u001b[1;33m=\u001b[0m\u001b[1;36m0\u001b[0m\u001b[1;33m,\u001b[0m \u001b[0mcopy\u001b[0m\u001b[1;33m=\u001b[0m\u001b[1;32mTrue\u001b[0m\u001b[1;33m)\u001b[0m\u001b[1;33m\u001b[0m\u001b[1;33m\u001b[0m\u001b[0m\n",
            "\u001b[1;31mDocstring:\u001b[0m\n",
            "Scale each feature to the [-1, 1] range without breaking the sparsity.\n",
            "\n",
            "This estimator scales each feature individually such\n",
            "that the maximal absolute value of each feature in the\n",
            "training set will be 1.0.\n",
            "\n",
            "This scaler can also be applied to sparse CSR or CSC matrices.\n",
            "\n",
            "Parameters\n",
            "----------\n",
            "X : {array-like, sparse matrix} of shape (n_samples, n_features)\n",
            "    The data.\n",
            "\n",
            "axis : int, default=0\n",
            "    axis used to scale along. If 0, independently scale each feature,\n",
            "    otherwise (if 1) scale each sample.\n",
            "\n",
            "copy : bool, default=True\n",
            "    Set to False to perform inplace scaling and avoid a copy (if the input\n",
            "    is already a numpy array).\n",
            "\n",
            "Returns\n",
            "-------\n",
            "X_tr : {ndarray, sparse matrix} of shape (n_samples, n_features)\n",
            "    The transformed data.\n",
            "\n",
            ".. warning:: Risk of data leak\n",
            "\n",
            "    Do not use :func:`~sklearn.preprocessing.maxabs_scale` unless you know\n",
            "    what you are doing. A common mistake is to apply it to the entire data\n",
            "    *before* splitting into training and test sets. This will bias the\n",
            "    model evaluation because information would have leaked from the test\n",
            "    set to the training set.\n",
            "    In general, we recommend using\n",
            "    :class:`~sklearn.preprocessing.MaxAbsScaler` within a\n",
            "    :ref:`Pipeline <pipeline>` in order to prevent most risks of data\n",
            "    leaking: `pipe = make_pipeline(MaxAbsScaler(), LogisticRegression())`.\n",
            "\n",
            "See Also\n",
            "--------\n",
            "MaxAbsScaler : Performs scaling to the [-1, 1] range using\n",
            "    the Transformer API (e.g. as part of a preprocessing\n",
            "    :class:`~sklearn.pipeline.Pipeline`).\n",
            "\n",
            "Notes\n",
            "-----\n",
            "NaNs are treated as missing values: disregarded to compute the statistics,\n",
            "and maintained during the data transformation.\n",
            "\n",
            "For a comparison of the different scalers, transformers, and normalizers,\n",
            "see :ref:`examples/preprocessing/plot_all_scaling.py\n",
            "<sphx_glr_auto_examples_preprocessing_plot_all_scaling.py>`.\n",
            "\u001b[1;31mFile:\u001b[0m      c:\\users\\daniel montes\\anaconda3\\lib\\site-packages\\sklearn\\preprocessing\\_data.py\n",
            "\u001b[1;31mType:\u001b[0m      function\n"
          ]
        }
      ],
      "source": [
        "maxabs_scale?"
      ]
    },
    {
      "cell_type": "code",
      "execution_count": 49,
      "metadata": {},
      "outputs": [],
      "source": [
        "from sklearn.model_selection import cross_validate"
      ]
    },
    {
      "cell_type": "code",
      "execution_count": 50,
      "metadata": {},
      "outputs": [
        {
          "name": "stdout",
          "output_type": "stream",
          "text": [
            "\u001b[1;31mSignature:\u001b[0m\n",
            "\u001b[0mcross_validate\u001b[0m\u001b[1;33m(\u001b[0m\u001b[1;33m\n",
            "\u001b[0m    \u001b[0mestimator\u001b[0m\u001b[1;33m,\u001b[0m\u001b[1;33m\n",
            "\u001b[0m    \u001b[0mX\u001b[0m\u001b[1;33m,\u001b[0m\u001b[1;33m\n",
            "\u001b[0m    \u001b[0my\u001b[0m\u001b[1;33m=\u001b[0m\u001b[1;32mNone\u001b[0m\u001b[1;33m,\u001b[0m\u001b[1;33m\n",
            "\u001b[0m    \u001b[1;33m*\u001b[0m\u001b[1;33m,\u001b[0m\u001b[1;33m\n",
            "\u001b[0m    \u001b[0mgroups\u001b[0m\u001b[1;33m=\u001b[0m\u001b[1;32mNone\u001b[0m\u001b[1;33m,\u001b[0m\u001b[1;33m\n",
            "\u001b[0m    \u001b[0mscoring\u001b[0m\u001b[1;33m=\u001b[0m\u001b[1;32mNone\u001b[0m\u001b[1;33m,\u001b[0m\u001b[1;33m\n",
            "\u001b[0m    \u001b[0mcv\u001b[0m\u001b[1;33m=\u001b[0m\u001b[1;32mNone\u001b[0m\u001b[1;33m,\u001b[0m\u001b[1;33m\n",
            "\u001b[0m    \u001b[0mn_jobs\u001b[0m\u001b[1;33m=\u001b[0m\u001b[1;32mNone\u001b[0m\u001b[1;33m,\u001b[0m\u001b[1;33m\n",
            "\u001b[0m    \u001b[0mverbose\u001b[0m\u001b[1;33m=\u001b[0m\u001b[1;36m0\u001b[0m\u001b[1;33m,\u001b[0m\u001b[1;33m\n",
            "\u001b[0m    \u001b[0mfit_params\u001b[0m\u001b[1;33m=\u001b[0m\u001b[1;32mNone\u001b[0m\u001b[1;33m,\u001b[0m\u001b[1;33m\n",
            "\u001b[0m    \u001b[0mpre_dispatch\u001b[0m\u001b[1;33m=\u001b[0m\u001b[1;34m'2*n_jobs'\u001b[0m\u001b[1;33m,\u001b[0m\u001b[1;33m\n",
            "\u001b[0m    \u001b[0mreturn_train_score\u001b[0m\u001b[1;33m=\u001b[0m\u001b[1;32mFalse\u001b[0m\u001b[1;33m,\u001b[0m\u001b[1;33m\n",
            "\u001b[0m    \u001b[0mreturn_estimator\u001b[0m\u001b[1;33m=\u001b[0m\u001b[1;32mFalse\u001b[0m\u001b[1;33m,\u001b[0m\u001b[1;33m\n",
            "\u001b[0m    \u001b[0merror_score\u001b[0m\u001b[1;33m=\u001b[0m\u001b[0mnan\u001b[0m\u001b[1;33m,\u001b[0m\u001b[1;33m\n",
            "\u001b[0m\u001b[1;33m)\u001b[0m\u001b[1;33m\u001b[0m\u001b[1;33m\u001b[0m\u001b[0m\n",
            "\u001b[1;31mDocstring:\u001b[0m\n",
            "Evaluate metric(s) by cross-validation and also record fit/score times.\n",
            "\n",
            "Read more in the :ref:`User Guide <multimetric_cross_validation>`.\n",
            "\n",
            "Parameters\n",
            "----------\n",
            "estimator : estimator object implementing 'fit'\n",
            "    The object to use to fit the data.\n",
            "\n",
            "X : array-like of shape (n_samples, n_features)\n",
            "    The data to fit. Can be for example a list, or an array.\n",
            "\n",
            "y : array-like of shape (n_samples,) or (n_samples, n_outputs),             default=None\n",
            "    The target variable to try to predict in the case of\n",
            "    supervised learning.\n",
            "\n",
            "groups : array-like of shape (n_samples,), default=None\n",
            "    Group labels for the samples used while splitting the dataset into\n",
            "    train/test set. Only used in conjunction with a \"Group\" :term:`cv`\n",
            "    instance (e.g., :class:`GroupKFold`).\n",
            "\n",
            "scoring : str, callable, list, tuple, or dict, default=None\n",
            "    Strategy to evaluate the performance of the cross-validated model on\n",
            "    the test set.\n",
            "\n",
            "    If `scoring` represents a single score, one can use:\n",
            "\n",
            "    - a single string (see :ref:`scoring_parameter`);\n",
            "    - a callable (see :ref:`scoring`) that returns a single value.\n",
            "\n",
            "    If `scoring` represents multiple scores, one can use:\n",
            "\n",
            "    - a list or tuple of unique strings;\n",
            "    - a callable returning a dictionary where the keys are the metric\n",
            "      names and the values are the metric scores;\n",
            "    - a dictionary with metric names as keys and callables a values.\n",
            "\n",
            "    See :ref:`multimetric_grid_search` for an example.\n",
            "\n",
            "cv : int, cross-validation generator or an iterable, default=None\n",
            "    Determines the cross-validation splitting strategy.\n",
            "    Possible inputs for cv are:\n",
            "\n",
            "    - None, to use the default 5-fold cross validation,\n",
            "    - int, to specify the number of folds in a `(Stratified)KFold`,\n",
            "    - :term:`CV splitter`,\n",
            "    - An iterable yielding (train, test) splits as arrays of indices.\n",
            "\n",
            "    For int/None inputs, if the estimator is a classifier and ``y`` is\n",
            "    either binary or multiclass, :class:`StratifiedKFold` is used. In all\n",
            "    other cases, :class:`.Fold` is used. These splitters are instantiated\n",
            "    with `shuffle=False` so the splits will be the same across calls.\n",
            "\n",
            "    Refer :ref:`User Guide <cross_validation>` for the various\n",
            "    cross-validation strategies that can be used here.\n",
            "\n",
            "    .. versionchanged:: 0.22\n",
            "        ``cv`` default value if None changed from 3-fold to 5-fold.\n",
            "\n",
            "n_jobs : int, default=None\n",
            "    Number of jobs to run in parallel. Training the estimator and computing\n",
            "    the score are parallelized over the cross-validation splits.\n",
            "    ``None`` means 1 unless in a :obj:`joblib.parallel_backend` context.\n",
            "    ``-1`` means using all processors. See :term:`Glossary <n_jobs>`\n",
            "    for more details.\n",
            "\n",
            "verbose : int, default=0\n",
            "    The verbosity level.\n",
            "\n",
            "fit_params : dict, default=None\n",
            "    Parameters to pass to the fit method of the estimator.\n",
            "\n",
            "pre_dispatch : int or str, default='2*n_jobs'\n",
            "    Controls the number of jobs that get dispatched during parallel\n",
            "    execution. Reducing this number can be useful to avoid an\n",
            "    explosion of memory consumption when more jobs get dispatched\n",
            "    than CPUs can process. This parameter can be:\n",
            "\n",
            "        - None, in which case all the jobs are immediately\n",
            "          created and spawned. Use this for lightweight and\n",
            "          fast-running jobs, to avoid delays due to on-demand\n",
            "          spawning of the jobs\n",
            "\n",
            "        - An int, giving the exact number of total jobs that are\n",
            "          spawned\n",
            "\n",
            "        - A str, giving an expression as a function of n_jobs,\n",
            "          as in '2*n_jobs'\n",
            "\n",
            "return_train_score : bool, default=False\n",
            "    Whether to include train scores.\n",
            "    Computing training scores is used to get insights on how different\n",
            "    parameter settings impact the overfitting/underfitting trade-off.\n",
            "    However computing the scores on the training set can be computationally\n",
            "    expensive and is not strictly required to select the parameters that\n",
            "    yield the best generalization performance.\n",
            "\n",
            "    .. versionadded:: 0.19\n",
            "\n",
            "    .. versionchanged:: 0.21\n",
            "        Default value was changed from ``True`` to ``False``\n",
            "\n",
            "return_estimator : bool, default=False\n",
            "    Whether to return the estimators fitted on each split.\n",
            "\n",
            "    .. versionadded:: 0.20\n",
            "\n",
            "error_score : 'raise' or numeric, default=np.nan\n",
            "    Value to assign to the score if an error occurs in estimator fitting.\n",
            "    If set to 'raise', the error is raised.\n",
            "    If a numeric value is given, FitFailedWarning is raised.\n",
            "\n",
            "    .. versionadded:: 0.20\n",
            "\n",
            "Returns\n",
            "-------\n",
            "scores : dict of float arrays of shape (n_splits,)\n",
            "    Array of scores of the estimator for each run of the cross validation.\n",
            "\n",
            "    A dict of arrays containing the score/time arrays for each scorer is\n",
            "    returned. The possible keys for this ``dict`` are:\n",
            "\n",
            "        ``test_score``\n",
            "            The score array for test scores on each cv split.\n",
            "            Suffix ``_score`` in ``test_score`` changes to a specific\n",
            "            metric like ``test_r2`` or ``test_auc`` if there are\n",
            "            multiple scoring metrics in the scoring parameter.\n",
            "        ``train_score``\n",
            "            The score array for train scores on each cv split.\n",
            "            Suffix ``_score`` in ``train_score`` changes to a specific\n",
            "            metric like ``train_r2`` or ``train_auc`` if there are\n",
            "            multiple scoring metrics in the scoring parameter.\n",
            "            This is available only if ``return_train_score`` parameter\n",
            "            is ``True``.\n",
            "        ``fit_time``\n",
            "            The time for fitting the estimator on the train\n",
            "            set for each cv split.\n",
            "        ``score_time``\n",
            "            The time for scoring the estimator on the test set for each\n",
            "            cv split. (Note time for scoring on the train set is not\n",
            "            included even if ``return_train_score`` is set to ``True``\n",
            "        ``estimator``\n",
            "            The estimator objects for each cv split.\n",
            "            This is available only if ``return_estimator`` parameter\n",
            "            is set to ``True``.\n",
            "\n",
            "Examples\n",
            "--------\n",
            ">>> from sklearn import datasets, linear_model\n",
            ">>> from sklearn.model_selection import cross_validate\n",
            ">>> from sklearn.metrics import make_scorer\n",
            ">>> from sklearn.metrics import confusion_matrix\n",
            ">>> from sklearn.svm import LinearSVC\n",
            ">>> diabetes = datasets.load_diabetes()\n",
            ">>> X = diabetes.data[:150]\n",
            ">>> y = diabetes.target[:150]\n",
            ">>> lasso = linear_model.Lasso()\n",
            "\n",
            "Single metric evaluation using ``cross_validate``\n",
            "\n",
            ">>> cv_results = cross_validate(lasso, X, y, cv=3)\n",
            ">>> sorted(cv_results.keys())\n",
            "['fit_time', 'score_time', 'test_score']\n",
            ">>> cv_results['test_score']\n",
            "array([0.33150734, 0.08022311, 0.03531764])\n",
            "\n",
            "Multiple metric evaluation using ``cross_validate``\n",
            "(please refer the ``scoring`` parameter doc for more information)\n",
            "\n",
            ">>> scores = cross_validate(lasso, X, y, cv=3,\n",
            "...                         scoring=('r2', 'neg_mean_squared_error'),\n",
            "...                         return_train_score=True)\n",
            ">>> print(scores['test_neg_mean_squared_error'])\n",
            "[-3635.5... -3573.3... -6114.7...]\n",
            ">>> print(scores['train_r2'])\n",
            "[0.28010158 0.39088426 0.22784852]\n",
            "\n",
            "See Also\n",
            "---------\n",
            "cross_val_score : Run cross-validation for single metric evaluation.\n",
            "\n",
            "cross_val_predict : Get predictions from each split of cross-validation for\n",
            "    diagnostic purposes.\n",
            "\n",
            "sklearn.metrics.make_scorer : Make a scorer from a performance metric or\n",
            "    loss function.\n",
            "\u001b[1;31mFile:\u001b[0m      c:\\users\\daniel montes\\anaconda3\\lib\\site-packages\\sklearn\\model_selection\\_validation.py\n",
            "\u001b[1;31mType:\u001b[0m      function\n"
          ]
        }
      ],
      "source": [
        "cross_validate?"
      ]
    },
    {
      "cell_type": "code",
      "execution_count": 53,
      "metadata": {},
      "outputs": [],
      "source": [
        "Modelo_3=KNeighborsClassifier()\n",
        "aux=cross_validate(Modelo_3,X_train,y_train,scoring=\"accuracy\",\n",
        "               n_jobs=-1,cv=5,return_train_score=True)"
      ]
    },
    {
      "cell_type": "code",
      "execution_count": 55,
      "metadata": {},
      "outputs": [
        {
          "data": {
            "text/plain": [
              "0.9583333333333333"
            ]
          },
          "execution_count": 55,
          "metadata": {},
          "output_type": "execute_result"
        }
      ],
      "source": [
        "aux['test_score'].mean()"
      ]
    },
    {
      "cell_type": "code",
      "execution_count": 56,
      "metadata": {},
      "outputs": [],
      "source": [
        "from sklearn.model_selection import GridSearchCV, RandomizedSearchCV "
      ]
    },
    {
      "cell_type": "code",
      "execution_count": 57,
      "metadata": {},
      "outputs": [
        {
          "name": "stdout",
          "output_type": "stream",
          "text": [
            "\u001b[1;31mInit signature:\u001b[0m\n",
            "\u001b[0mKNeighborsClassifier\u001b[0m\u001b[1;33m(\u001b[0m\u001b[1;33m\n",
            "\u001b[0m    \u001b[0mn_neighbors\u001b[0m\u001b[1;33m=\u001b[0m\u001b[1;36m5\u001b[0m\u001b[1;33m,\u001b[0m\u001b[1;33m\n",
            "\u001b[0m    \u001b[1;33m*\u001b[0m\u001b[1;33m,\u001b[0m\u001b[1;33m\n",
            "\u001b[0m    \u001b[0mweights\u001b[0m\u001b[1;33m=\u001b[0m\u001b[1;34m'uniform'\u001b[0m\u001b[1;33m,\u001b[0m\u001b[1;33m\n",
            "\u001b[0m    \u001b[0malgorithm\u001b[0m\u001b[1;33m=\u001b[0m\u001b[1;34m'auto'\u001b[0m\u001b[1;33m,\u001b[0m\u001b[1;33m\n",
            "\u001b[0m    \u001b[0mleaf_size\u001b[0m\u001b[1;33m=\u001b[0m\u001b[1;36m30\u001b[0m\u001b[1;33m,\u001b[0m\u001b[1;33m\n",
            "\u001b[0m    \u001b[0mp\u001b[0m\u001b[1;33m=\u001b[0m\u001b[1;36m2\u001b[0m\u001b[1;33m,\u001b[0m\u001b[1;33m\n",
            "\u001b[0m    \u001b[0mmetric\u001b[0m\u001b[1;33m=\u001b[0m\u001b[1;34m'minkowski'\u001b[0m\u001b[1;33m,\u001b[0m\u001b[1;33m\n",
            "\u001b[0m    \u001b[0mmetric_params\u001b[0m\u001b[1;33m=\u001b[0m\u001b[1;32mNone\u001b[0m\u001b[1;33m,\u001b[0m\u001b[1;33m\n",
            "\u001b[0m    \u001b[0mn_jobs\u001b[0m\u001b[1;33m=\u001b[0m\u001b[1;32mNone\u001b[0m\u001b[1;33m,\u001b[0m\u001b[1;33m\n",
            "\u001b[0m\u001b[1;33m)\u001b[0m\u001b[1;33m\u001b[0m\u001b[1;33m\u001b[0m\u001b[0m\n",
            "\u001b[1;31mDocstring:\u001b[0m     \n",
            "Classifier implementing the k-nearest neighbors vote.\n",
            "\n",
            "Read more in the :ref:`User Guide <classification>`.\n",
            "\n",
            "Parameters\n",
            "----------\n",
            "n_neighbors : int, default=5\n",
            "    Number of neighbors to use by default for :meth:`kneighbors` queries.\n",
            "\n",
            "weights : {'uniform', 'distance'} or callable, default='uniform'\n",
            "    Weight function used in prediction.  Possible values:\n",
            "\n",
            "    - 'uniform' : uniform weights.  All points in each neighborhood\n",
            "      are weighted equally.\n",
            "    - 'distance' : weight points by the inverse of their distance.\n",
            "      in this case, closer neighbors of a query point will have a\n",
            "      greater influence than neighbors which are further away.\n",
            "    - [callable] : a user-defined function which accepts an\n",
            "      array of distances, and returns an array of the same shape\n",
            "      containing the weights.\n",
            "\n",
            "algorithm : {'auto', 'ball_tree', 'kd_tree', 'brute'}, default='auto'\n",
            "    Algorithm used to compute the nearest neighbors:\n",
            "\n",
            "    - 'ball_tree' will use :class:`BallTree`\n",
            "    - 'kd_tree' will use :class:`KDTree`\n",
            "    - 'brute' will use a brute-force search.\n",
            "    - 'auto' will attempt to decide the most appropriate algorithm\n",
            "      based on the values passed to :meth:`fit` method.\n",
            "\n",
            "    Note: fitting on sparse input will override the setting of\n",
            "    this parameter, using brute force.\n",
            "\n",
            "leaf_size : int, default=30\n",
            "    Leaf size passed to BallTree or KDTree.  This can affect the\n",
            "    speed of the construction and query, as well as the memory\n",
            "    required to store the tree.  The optimal value depends on the\n",
            "    nature of the problem.\n",
            "\n",
            "p : int, default=2\n",
            "    Power parameter for the Minkowski metric. When p = 1, this is\n",
            "    equivalent to using manhattan_distance (l1), and euclidean_distance\n",
            "    (l2) for p = 2. For arbitrary p, minkowski_distance (l_p) is used.\n",
            "\n",
            "metric : str or callable, default='minkowski'\n",
            "    The distance metric to use for the tree.  The default metric is\n",
            "    minkowski, and with p=2 is equivalent to the standard Euclidean\n",
            "    metric. For a list of available metrics, see the documentation of\n",
            "    :class:`~sklearn.metrics.DistanceMetric`.\n",
            "    If metric is \"precomputed\", X is assumed to be a distance matrix and\n",
            "    must be square during fit. X may be a :term:`sparse graph`,\n",
            "    in which case only \"nonzero\" elements may be considered neighbors.\n",
            "\n",
            "metric_params : dict, default=None\n",
            "    Additional keyword arguments for the metric function.\n",
            "\n",
            "n_jobs : int, default=None\n",
            "    The number of parallel jobs to run for neighbors search.\n",
            "    ``None`` means 1 unless in a :obj:`joblib.parallel_backend` context.\n",
            "    ``-1`` means using all processors. See :term:`Glossary <n_jobs>`\n",
            "    for more details.\n",
            "    Doesn't affect :meth:`fit` method.\n",
            "\n",
            "Attributes\n",
            "----------\n",
            "classes_ : array of shape (n_classes,)\n",
            "    Class labels known to the classifier\n",
            "\n",
            "effective_metric_ : str or callble\n",
            "    The distance metric used. It will be same as the `metric` parameter\n",
            "    or a synonym of it, e.g. 'euclidean' if the `metric` parameter set to\n",
            "    'minkowski' and `p` parameter set to 2.\n",
            "\n",
            "effective_metric_params_ : dict\n",
            "    Additional keyword arguments for the metric function. For most metrics\n",
            "    will be same with `metric_params` parameter, but may also contain the\n",
            "    `p` parameter value if the `effective_metric_` attribute is set to\n",
            "    'minkowski'.\n",
            "\n",
            "n_features_in_ : int\n",
            "    Number of features seen during :term:`fit`.\n",
            "\n",
            "    .. versionadded:: 0.24\n",
            "\n",
            "feature_names_in_ : ndarray of shape (`n_features_in_`,)\n",
            "    Names of features seen during :term:`fit`. Defined only when `X`\n",
            "    has feature names that are all strings.\n",
            "\n",
            "    .. versionadded:: 1.0\n",
            "\n",
            "n_samples_fit_ : int\n",
            "    Number of samples in the fitted data.\n",
            "\n",
            "outputs_2d_ : bool\n",
            "    False when `y`'s shape is (n_samples, ) or (n_samples, 1) during fit\n",
            "    otherwise True.\n",
            "\n",
            "See Also\n",
            "--------\n",
            "RadiusNeighborsClassifier: Classifier based on neighbors within a fixed radius.\n",
            "KNeighborsRegressor: Regression based on k-nearest neighbors.\n",
            "RadiusNeighborsRegressor: Regression based on neighbors within a fixed radius.\n",
            "NearestNeighbors: Unsupervised learner for implementing neighbor searches.\n",
            "\n",
            "Notes\n",
            "-----\n",
            "See :ref:`Nearest Neighbors <neighbors>` in the online documentation\n",
            "for a discussion of the choice of ``algorithm`` and ``leaf_size``.\n",
            "\n",
            ".. warning::\n",
            "\n",
            "   Regarding the Nearest Neighbors algorithms, if it is found that two\n",
            "   neighbors, neighbor `k+1` and `k`, have identical distances\n",
            "   but different labels, the results will depend on the ordering of the\n",
            "   training data.\n",
            "\n",
            "https://en.wikipedia.org/wiki/K-nearest_neighbor_algorithm\n",
            "\n",
            "Examples\n",
            "--------\n",
            ">>> X = [[0], [1], [2], [3]]\n",
            ">>> y = [0, 0, 1, 1]\n",
            ">>> from sklearn.neighbors import KNeighborsClassifier\n",
            ">>> neigh = KNeighborsClassifier(n_neighbors=3)\n",
            ">>> neigh.fit(X, y)\n",
            "KNeighborsClassifier(...)\n",
            ">>> print(neigh.predict([[1.1]]))\n",
            "[0]\n",
            ">>> print(neigh.predict_proba([[0.9]]))\n",
            "[[0.666... 0.333...]]\n",
            "\u001b[1;31mFile:\u001b[0m           c:\\users\\daniel montes\\anaconda3\\lib\\site-packages\\sklearn\\neighbors\\_classification.py\n",
            "\u001b[1;31mType:\u001b[0m           ABCMeta\n",
            "\u001b[1;31mSubclasses:\u001b[0m     \n"
          ]
        }
      ],
      "source": [
        "KNeighborsClassifier?"
      ]
    },
    {
      "cell_type": "code",
      "execution_count": 72,
      "metadata": {},
      "outputs": [],
      "source": [
        "parametros={'weights':['uniform', 'distance'],\n",
        "            \"n_neighbors\":np.linspace(3,13,4).astype(int)}"
      ]
    },
    {
      "cell_type": "code",
      "execution_count": 73,
      "metadata": {},
      "outputs": [
        {
          "data": {
            "text/plain": [
              "{'weights': ['uniform', 'distance'], 'n_neighbors': array([ 3,  6,  9, 13])}"
            ]
          },
          "execution_count": 73,
          "metadata": {},
          "output_type": "execute_result"
        }
      ],
      "source": [
        "parametros"
      ]
    },
    {
      "cell_type": "code",
      "execution_count": 74,
      "metadata": {},
      "outputs": [],
      "source": [
        "malla=GridSearchCV(estimator=KNeighborsClassifier(),\n",
        "                   param_grid=parametros,\n",
        "                   scoring=\"accuracy\",\n",
        "                   cv=10,\n",
        "                   n_jobs=-1)"
      ]
    },
    {
      "cell_type": "code",
      "execution_count": 75,
      "metadata": {},
      "outputs": [
        {
          "data": {
            "text/plain": [
              "GridSearchCV(cv=10, estimator=KNeighborsClassifier(), n_jobs=-1,\n",
              "             param_grid={'n_neighbors': array([ 3,  6,  9, 13]),\n",
              "                         'weights': ['uniform', 'distance']},\n",
              "             scoring='accuracy')"
            ]
          },
          "execution_count": 75,
          "metadata": {},
          "output_type": "execute_result"
        }
      ],
      "source": [
        "malla.fit(X_train,y_train)"
      ]
    },
    {
      "cell_type": "code",
      "execution_count": 76,
      "metadata": {},
      "outputs": [
        {
          "data": {
            "text/plain": [
              "0.9666666666666666"
            ]
          },
          "execution_count": 76,
          "metadata": {},
          "output_type": "execute_result"
        }
      ],
      "source": [
        "malla.best_score_"
      ]
    },
    {
      "cell_type": "code",
      "execution_count": 77,
      "metadata": {},
      "outputs": [
        {
          "data": {
            "text/plain": [
              "KNeighborsClassifier(n_neighbors=9)"
            ]
          },
          "execution_count": 77,
          "metadata": {},
          "output_type": "execute_result"
        }
      ],
      "source": [
        "malla.best_estimator_"
      ]
    },
    {
      "cell_type": "code",
      "execution_count": 80,
      "metadata": {},
      "outputs": [
        {
          "data": {
            "text/html": [
              "<div>\n",
              "<style scoped>\n",
              "    .dataframe tbody tr th:only-of-type {\n",
              "        vertical-align: middle;\n",
              "    }\n",
              "\n",
              "    .dataframe tbody tr th {\n",
              "        vertical-align: top;\n",
              "    }\n",
              "\n",
              "    .dataframe thead th {\n",
              "        text-align: right;\n",
              "    }\n",
              "</style>\n",
              "<table border=\"1\" class=\"dataframe\">\n",
              "  <thead>\n",
              "    <tr style=\"text-align: right;\">\n",
              "      <th></th>\n",
              "      <th>mean_fit_time</th>\n",
              "      <th>std_fit_time</th>\n",
              "      <th>mean_score_time</th>\n",
              "      <th>std_score_time</th>\n",
              "      <th>param_n_neighbors</th>\n",
              "      <th>param_weights</th>\n",
              "      <th>params</th>\n",
              "      <th>split0_test_score</th>\n",
              "      <th>split1_test_score</th>\n",
              "      <th>split2_test_score</th>\n",
              "      <th>split3_test_score</th>\n",
              "      <th>split4_test_score</th>\n",
              "      <th>split5_test_score</th>\n",
              "      <th>split6_test_score</th>\n",
              "      <th>split7_test_score</th>\n",
              "      <th>split8_test_score</th>\n",
              "      <th>split9_test_score</th>\n",
              "      <th>mean_test_score</th>\n",
              "      <th>std_test_score</th>\n",
              "      <th>rank_test_score</th>\n",
              "    </tr>\n",
              "  </thead>\n",
              "  <tbody>\n",
              "    <tr>\n",
              "      <th>4</th>\n",
              "      <td>0.005603</td>\n",
              "      <td>0.003527</td>\n",
              "      <td>0.006395</td>\n",
              "      <td>0.002278</td>\n",
              "      <td>9</td>\n",
              "      <td>uniform</td>\n",
              "      <td>{'n_neighbors': 9, 'weights': 'uniform'}</td>\n",
              "      <td>1.000000</td>\n",
              "      <td>1.0</td>\n",
              "      <td>1.0</td>\n",
              "      <td>1.0</td>\n",
              "      <td>0.833333</td>\n",
              "      <td>0.916667</td>\n",
              "      <td>1.000000</td>\n",
              "      <td>0.916667</td>\n",
              "      <td>1.0</td>\n",
              "      <td>1.0</td>\n",
              "      <td>0.966667</td>\n",
              "      <td>0.055277</td>\n",
              "      <td>1</td>\n",
              "    </tr>\n",
              "    <tr>\n",
              "      <th>5</th>\n",
              "      <td>0.012201</td>\n",
              "      <td>0.014261</td>\n",
              "      <td>0.014181</td>\n",
              "      <td>0.014455</td>\n",
              "      <td>9</td>\n",
              "      <td>distance</td>\n",
              "      <td>{'n_neighbors': 9, 'weights': 'distance'}</td>\n",
              "      <td>1.000000</td>\n",
              "      <td>1.0</td>\n",
              "      <td>1.0</td>\n",
              "      <td>1.0</td>\n",
              "      <td>0.833333</td>\n",
              "      <td>0.916667</td>\n",
              "      <td>1.000000</td>\n",
              "      <td>0.916667</td>\n",
              "      <td>1.0</td>\n",
              "      <td>1.0</td>\n",
              "      <td>0.966667</td>\n",
              "      <td>0.055277</td>\n",
              "      <td>1</td>\n",
              "    </tr>\n",
              "    <tr>\n",
              "      <th>6</th>\n",
              "      <td>0.008243</td>\n",
              "      <td>0.005877</td>\n",
              "      <td>0.016250</td>\n",
              "      <td>0.012064</td>\n",
              "      <td>13</td>\n",
              "      <td>uniform</td>\n",
              "      <td>{'n_neighbors': 13, 'weights': 'uniform'}</td>\n",
              "      <td>0.916667</td>\n",
              "      <td>1.0</td>\n",
              "      <td>1.0</td>\n",
              "      <td>1.0</td>\n",
              "      <td>0.833333</td>\n",
              "      <td>1.000000</td>\n",
              "      <td>1.000000</td>\n",
              "      <td>0.916667</td>\n",
              "      <td>1.0</td>\n",
              "      <td>1.0</td>\n",
              "      <td>0.966667</td>\n",
              "      <td>0.055277</td>\n",
              "      <td>1</td>\n",
              "    </tr>\n",
              "    <tr>\n",
              "      <th>7</th>\n",
              "      <td>0.010488</td>\n",
              "      <td>0.007392</td>\n",
              "      <td>0.008588</td>\n",
              "      <td>0.009101</td>\n",
              "      <td>13</td>\n",
              "      <td>distance</td>\n",
              "      <td>{'n_neighbors': 13, 'weights': 'distance'}</td>\n",
              "      <td>1.000000</td>\n",
              "      <td>1.0</td>\n",
              "      <td>1.0</td>\n",
              "      <td>1.0</td>\n",
              "      <td>0.833333</td>\n",
              "      <td>0.916667</td>\n",
              "      <td>1.000000</td>\n",
              "      <td>0.916667</td>\n",
              "      <td>1.0</td>\n",
              "      <td>1.0</td>\n",
              "      <td>0.966667</td>\n",
              "      <td>0.055277</td>\n",
              "      <td>1</td>\n",
              "    </tr>\n",
              "    <tr>\n",
              "      <th>3</th>\n",
              "      <td>0.011683</td>\n",
              "      <td>0.023756</td>\n",
              "      <td>0.007594</td>\n",
              "      <td>0.006027</td>\n",
              "      <td>6</td>\n",
              "      <td>distance</td>\n",
              "      <td>{'n_neighbors': 6, 'weights': 'distance'}</td>\n",
              "      <td>1.000000</td>\n",
              "      <td>1.0</td>\n",
              "      <td>1.0</td>\n",
              "      <td>1.0</td>\n",
              "      <td>0.833333</td>\n",
              "      <td>0.916667</td>\n",
              "      <td>0.916667</td>\n",
              "      <td>0.916667</td>\n",
              "      <td>1.0</td>\n",
              "      <td>1.0</td>\n",
              "      <td>0.958333</td>\n",
              "      <td>0.055902</td>\n",
              "      <td>5</td>\n",
              "    </tr>\n",
              "    <tr>\n",
              "      <th>0</th>\n",
              "      <td>0.008965</td>\n",
              "      <td>0.004127</td>\n",
              "      <td>0.013539</td>\n",
              "      <td>0.009865</td>\n",
              "      <td>3</td>\n",
              "      <td>uniform</td>\n",
              "      <td>{'n_neighbors': 3, 'weights': 'uniform'}</td>\n",
              "      <td>0.916667</td>\n",
              "      <td>1.0</td>\n",
              "      <td>1.0</td>\n",
              "      <td>1.0</td>\n",
              "      <td>0.833333</td>\n",
              "      <td>0.916667</td>\n",
              "      <td>0.916667</td>\n",
              "      <td>0.916667</td>\n",
              "      <td>1.0</td>\n",
              "      <td>1.0</td>\n",
              "      <td>0.950000</td>\n",
              "      <td>0.055277</td>\n",
              "      <td>6</td>\n",
              "    </tr>\n",
              "    <tr>\n",
              "      <th>1</th>\n",
              "      <td>0.008881</td>\n",
              "      <td>0.010286</td>\n",
              "      <td>0.011865</td>\n",
              "      <td>0.014107</td>\n",
              "      <td>3</td>\n",
              "      <td>distance</td>\n",
              "      <td>{'n_neighbors': 3, 'weights': 'distance'}</td>\n",
              "      <td>0.916667</td>\n",
              "      <td>1.0</td>\n",
              "      <td>1.0</td>\n",
              "      <td>1.0</td>\n",
              "      <td>0.833333</td>\n",
              "      <td>0.916667</td>\n",
              "      <td>0.916667</td>\n",
              "      <td>0.916667</td>\n",
              "      <td>1.0</td>\n",
              "      <td>1.0</td>\n",
              "      <td>0.950000</td>\n",
              "      <td>0.055277</td>\n",
              "      <td>6</td>\n",
              "    </tr>\n",
              "    <tr>\n",
              "      <th>2</th>\n",
              "      <td>0.006385</td>\n",
              "      <td>0.005715</td>\n",
              "      <td>0.008277</td>\n",
              "      <td>0.005607</td>\n",
              "      <td>6</td>\n",
              "      <td>uniform</td>\n",
              "      <td>{'n_neighbors': 6, 'weights': 'uniform'}</td>\n",
              "      <td>1.000000</td>\n",
              "      <td>1.0</td>\n",
              "      <td>1.0</td>\n",
              "      <td>1.0</td>\n",
              "      <td>0.833333</td>\n",
              "      <td>0.833333</td>\n",
              "      <td>0.916667</td>\n",
              "      <td>0.916667</td>\n",
              "      <td>1.0</td>\n",
              "      <td>1.0</td>\n",
              "      <td>0.950000</td>\n",
              "      <td>0.066667</td>\n",
              "      <td>6</td>\n",
              "    </tr>\n",
              "  </tbody>\n",
              "</table>\n",
              "</div>"
            ],
            "text/plain": [
              "   mean_fit_time  std_fit_time  mean_score_time  std_score_time  \\\n",
              "4       0.005603      0.003527         0.006395        0.002278   \n",
              "5       0.012201      0.014261         0.014181        0.014455   \n",
              "6       0.008243      0.005877         0.016250        0.012064   \n",
              "7       0.010488      0.007392         0.008588        0.009101   \n",
              "3       0.011683      0.023756         0.007594        0.006027   \n",
              "0       0.008965      0.004127         0.013539        0.009865   \n",
              "1       0.008881      0.010286         0.011865        0.014107   \n",
              "2       0.006385      0.005715         0.008277        0.005607   \n",
              "\n",
              "  param_n_neighbors param_weights                                      params  \\\n",
              "4                 9       uniform    {'n_neighbors': 9, 'weights': 'uniform'}   \n",
              "5                 9      distance   {'n_neighbors': 9, 'weights': 'distance'}   \n",
              "6                13       uniform   {'n_neighbors': 13, 'weights': 'uniform'}   \n",
              "7                13      distance  {'n_neighbors': 13, 'weights': 'distance'}   \n",
              "3                 6      distance   {'n_neighbors': 6, 'weights': 'distance'}   \n",
              "0                 3       uniform    {'n_neighbors': 3, 'weights': 'uniform'}   \n",
              "1                 3      distance   {'n_neighbors': 3, 'weights': 'distance'}   \n",
              "2                 6       uniform    {'n_neighbors': 6, 'weights': 'uniform'}   \n",
              "\n",
              "   split0_test_score  split1_test_score  split2_test_score  split3_test_score  \\\n",
              "4           1.000000                1.0                1.0                1.0   \n",
              "5           1.000000                1.0                1.0                1.0   \n",
              "6           0.916667                1.0                1.0                1.0   \n",
              "7           1.000000                1.0                1.0                1.0   \n",
              "3           1.000000                1.0                1.0                1.0   \n",
              "0           0.916667                1.0                1.0                1.0   \n",
              "1           0.916667                1.0                1.0                1.0   \n",
              "2           1.000000                1.0                1.0                1.0   \n",
              "\n",
              "   split4_test_score  split5_test_score  split6_test_score  split7_test_score  \\\n",
              "4           0.833333           0.916667           1.000000           0.916667   \n",
              "5           0.833333           0.916667           1.000000           0.916667   \n",
              "6           0.833333           1.000000           1.000000           0.916667   \n",
              "7           0.833333           0.916667           1.000000           0.916667   \n",
              "3           0.833333           0.916667           0.916667           0.916667   \n",
              "0           0.833333           0.916667           0.916667           0.916667   \n",
              "1           0.833333           0.916667           0.916667           0.916667   \n",
              "2           0.833333           0.833333           0.916667           0.916667   \n",
              "\n",
              "   split8_test_score  split9_test_score  mean_test_score  std_test_score  \\\n",
              "4                1.0                1.0         0.966667        0.055277   \n",
              "5                1.0                1.0         0.966667        0.055277   \n",
              "6                1.0                1.0         0.966667        0.055277   \n",
              "7                1.0                1.0         0.966667        0.055277   \n",
              "3                1.0                1.0         0.958333        0.055902   \n",
              "0                1.0                1.0         0.950000        0.055277   \n",
              "1                1.0                1.0         0.950000        0.055277   \n",
              "2                1.0                1.0         0.950000        0.066667   \n",
              "\n",
              "   rank_test_score  \n",
              "4                1  \n",
              "5                1  \n",
              "6                1  \n",
              "7                1  \n",
              "3                5  \n",
              "0                6  \n",
              "1                6  \n",
              "2                6  "
            ]
          },
          "execution_count": 80,
          "metadata": {},
          "output_type": "execute_result"
        }
      ],
      "source": [
        "pd.DataFrame(malla.cv_results_).sort_values(by=\"rank_test_score\")"
      ]
    },
    {
      "cell_type": "code",
      "execution_count": 81,
      "metadata": {},
      "outputs": [],
      "source": [
        "y_pred=malla.best_estimator_.predict(X_test)"
      ]
    },
    {
      "cell_type": "code",
      "execution_count": 83,
      "metadata": {},
      "outputs": [
        {
          "name": "stdout",
          "output_type": "stream",
          "text": [
            "              precision    recall  f1-score   support\n",
            "\n",
            "           0       1.00      1.00      1.00         9\n",
            "           1       1.00      1.00      1.00        13\n",
            "           2       1.00      1.00      1.00         8\n",
            "\n",
            "    accuracy                           1.00        30\n",
            "   macro avg       1.00      1.00      1.00        30\n",
            "weighted avg       1.00      1.00      1.00        30\n",
            "\n"
          ]
        }
      ],
      "source": [
        "print(classification_report(y_test,y_pred))"
      ]
    },
    {
      "cell_type": "markdown",
      "metadata": {},
      "source": []
    }
  ],
  "metadata": {
    "colab": {
      "provenance": []
    },
    "kernelspec": {
      "display_name": "Python 3",
      "name": "python3"
    },
    "language_info": {
      "codemirror_mode": {
        "name": "ipython",
        "version": 3
      },
      "file_extension": ".py",
      "mimetype": "text/x-python",
      "name": "python",
      "nbconvert_exporter": "python",
      "pygments_lexer": "ipython3",
      "version": "3.9.12"
    }
  },
  "nbformat": 4,
  "nbformat_minor": 0
}
