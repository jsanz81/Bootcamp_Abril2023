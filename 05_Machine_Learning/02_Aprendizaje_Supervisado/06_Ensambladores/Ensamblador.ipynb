{
 "cells": [
  {
   "cell_type": "code",
   "execution_count": null,
   "metadata": {},
   "outputs": [],
   "source": [
    "import pandas as pd\n",
    "import numpy as np\n",
    "import matplotlib.pyplot as plt\n",
    "from sklearn.model_selection  import train_test_split"
   ]
  },
  {
   "cell_type": "code",
   "execution_count": null,
   "metadata": {},
   "outputs": [],
   "source": [
    "from sklearn.datasets import fetch_california_housing"
   ]
  },
  {
   "cell_type": "code",
   "execution_count": null,
   "metadata": {},
   "outputs": [],
   "source": [
    "Casas=fetch_california_housing()"
   ]
  },
  {
   "cell_type": "code",
   "execution_count": null,
   "metadata": {},
   "outputs": [],
   "source": [
    "Casas?"
   ]
  },
  {
   "cell_type": "code",
   "execution_count": null,
   "metadata": {},
   "outputs": [],
   "source": [
    "df=pd.DataFrame(Casas.data,columns=Casas.feature_names)\n",
    "df[\"Target\"]=Casas.target"
   ]
  },
  {
   "cell_type": "code",
   "execution_count": null,
   "metadata": {},
   "outputs": [],
   "source": [
    "df.head()"
   ]
  },
  {
   "cell_type": "code",
   "execution_count": null,
   "metadata": {},
   "outputs": [],
   "source": [
    "from sklearn.model_selection import cross_val_score\n",
    "from sklearn.metrics import mean_squared_error"
   ]
  },
  {
   "cell_type": "code",
   "execution_count": null,
   "metadata": {},
   "outputs": [],
   "source": [
    "def RMSE(y_verdadero,y_predicho):\n",
    "    \"\"\"\"\n",
    "    Esta función calcula la raiz cuadratica \n",
    "    media del error de prediccion\n",
    "    \"\"\"\n",
    "    return np.sqrt(mean_squared_error(y_verdadero,y_predicho))\n",
    "\n",
    "def RMSE_cv(modelo,X,y):\n",
    "    \"\"\"\"\n",
    "    Calcula la raiz error caduratico medio\n",
    "    según el modelo \n",
    "    \"\"\"\n",
    "    predicciones=modelo.predict(X)\n",
    "    return RMSE(y,predicciones) "
   ]
  },
  {
   "cell_type": "code",
   "execution_count": null,
   "metadata": {},
   "outputs": [],
   "source": [
    "from sklearn.tree import DecisionTreeRegressor\n",
    "from sklearn.linear_model import Ridge, Lasso, ElasticNet"
   ]
  },
  {
   "cell_type": "code",
   "execution_count": null,
   "metadata": {},
   "outputs": [],
   "source": [
    "modelo_arbol=DecisionTreeRegressor()\n",
    "error_arbol=cross_val_score(modelo_arbol,\n",
    "                X=df[Casas.feature_names],\n",
    "                y=df[\"Target\"],\n",
    "                scoring=RMSE_cv,\n",
    "                cv=10).mean()"
   ]
  },
  {
   "cell_type": "code",
   "execution_count": null,
   "metadata": {},
   "outputs": [],
   "source": [
    "modelo_rige=Ridge()\n",
    "error_rige=cross_val_score(modelo_rige,\n",
    "                X=df[Casas.feature_names],\n",
    "                y=df[\"Target\"],\n",
    "                scoring=RMSE_cv,\n",
    "                cv=10).mean()"
   ]
  },
  {
   "cell_type": "code",
   "execution_count": null,
   "metadata": {},
   "outputs": [],
   "source": [
    "modelo_lasso=Lasso()\n",
    "error_lasso=cross_val_score(modelo_lasso,\n",
    "                X=df[Casas.feature_names],\n",
    "                y=df[\"Target\"],\n",
    "                scoring=RMSE_cv,\n",
    "                cv=10).mean()"
   ]
  },
  {
   "cell_type": "code",
   "execution_count": null,
   "metadata": {},
   "outputs": [],
   "source": [
    "modelo_elastic=ElasticNet()\n",
    "error_elastic=cross_val_score(modelo_elastic,\n",
    "                X=df[Casas.feature_names],\n",
    "                y=df[\"Target\"],\n",
    "                scoring=RMSE_cv,\n",
    "                cv=10).mean()"
   ]
  },
  {
   "cell_type": "code",
   "execution_count": null,
   "metadata": {},
   "outputs": [],
   "source": [
    "print(f\"El error del metodo {modelo_lasso} es {error_lasso}\")"
   ]
  },
  {
   "cell_type": "code",
   "execution_count": null,
   "metadata": {},
   "outputs": [],
   "source": [
    "print(f\"El error del metodo {modelo_rige} es {error_rige}\")"
   ]
  },
  {
   "cell_type": "code",
   "execution_count": null,
   "metadata": {},
   "outputs": [],
   "source": [
    "print(f\"El error del metodo {modelo_elastic} es {error_elastic}\")"
   ]
  },
  {
   "cell_type": "code",
   "execution_count": null,
   "metadata": {},
   "outputs": [],
   "source": [
    "print(f\"El error del metodo {modelo_arbol} es {error_arbol}\")"
   ]
  },
  {
   "cell_type": "code",
   "execution_count": null,
   "metadata": {},
   "outputs": [],
   "source": [
    "## Bagging\n",
    "from sklearn.ensemble import BaggingClassifier,BaggingRegressor\n",
    "from sklearn.ensemble import AdaBoostClassifier,AdaBoostRegressor\n",
    "from sklearn.ensemble import GradientBoostingClassifier,GradientBoostingRegressor"
   ]
  },
  {
   "cell_type": "code",
   "execution_count": null,
   "metadata": {},
   "outputs": [],
   "source": [
    "estimador_gradientboost = GradientBoostingRegressor(n_estimators=100, \n",
    "                                                    loss='ls')\n",
    "\n",
    "error_cv = cross_val_score(estimador_gradientboost, \n",
    "                           X=df[Casas.feature_names], \n",
    "                           y=df[\"Target\"], \n",
    "                scoring=RMSE_cv, cv=10).mean()\n",
    "\n"
   ]
  },
  {
   "cell_type": "code",
   "execution_count": null,
   "metadata": {},
   "outputs": [],
   "source": [
    "error_cv"
   ]
  },
  {
   "cell_type": "code",
   "execution_count": null,
   "metadata": {},
   "outputs": [],
   "source": [
    "estimador_gradientboost.fit(df[Casas.feature_names], df.Target)\n",
    "\n",
    "importancia_variables = estimador_gradientboost.feature_importances_\n",
    "importancia_variables = 100.0 * (importancia_variables / importancia_variables.max())\n",
    "sorted_idx = np.argsort(importancia_variables)\n",
    "pos = np.arange(sorted_idx.shape[0]) + .5\n",
    "plt.barh(pos, importancia_variables[sorted_idx], align='center')\n",
    "plt.yticks(pos, df.columns[sorted_idx])\n",
    "plt.xlabel('Relative Importance')\n",
    "plt.title('Variable Importance')\n",
    "plt.show()"
   ]
  },
  {
   "cell_type": "code",
   "execution_count": null,
   "metadata": {},
   "outputs": [],
   "source": [
    "### Libreria que es es folium "
   ]
  },
  {
   "cell_type": "code",
   "execution_count": null,
   "metadata": {},
   "outputs": [],
   "source": [
    "### Random Forest"
   ]
  },
  {
   "cell_type": "code",
   "execution_count": null,
   "metadata": {},
   "outputs": [],
   "source": [
    "from sklearn.ensemble import RandomForestClassifier,RandomForestRegressor"
   ]
  },
  {
   "cell_type": "code",
   "execution_count": null,
   "metadata": {},
   "outputs": [],
   "source": [
    "modelo_RF=RandomForestRegressor()"
   ]
  },
  {
   "cell_type": "code",
   "execution_count": null,
   "metadata": {},
   "outputs": [],
   "source": [
    "cross_val_score(estimator=modelo_RF,\n",
    "                X=df[Casas.feature_names],\n",
    "                y=df.Target,\n",
    "                scoring=RMSE_cv,\n",
    "                cv=5\n",
    "                ).std()"
   ]
  }
 ],
 "metadata": {
  "kernelspec": {
   "display_name": "base",
   "language": "python",
   "name": "python3"
  },
  "language_info": {
   "codemirror_mode": {
    "name": "ipython",
    "version": 3
   },
   "file_extension": ".py",
   "mimetype": "text/x-python",
   "name": "python",
   "nbconvert_exporter": "python",
   "pygments_lexer": "ipython3",
   "version": "3.9.12"
  },
  "orig_nbformat": 4
 },
 "nbformat": 4,
 "nbformat_minor": 2
}
